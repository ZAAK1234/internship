{
 "cells": [
  {
   "cell_type": "code",
   "execution_count": 1,
   "id": "15fc0f1d",
   "metadata": {},
   "outputs": [],
   "source": [
    "from bs4 import BeautifulSoup\n",
    "import requests\n",
    "import re"
   ]
  },
  {
   "cell_type": "code",
   "execution_count": null,
   "id": "8908a28d",
   "metadata": {},
   "outputs": [],
   "source": [
    "page = requests.get('https://www.dineout.co.in/delhi-restaurants/buffet-special')\n",
    "page"
   ]
  },
  {
   "cell_type": "code",
   "execution_count": null,
   "id": "0411af06",
   "metadata": {},
   "outputs": [],
   "source": [
    "bs=BeautifulSoup(page.content)\n",
    "bs"
   ]
  },
  {
   "cell_type": "code",
   "execution_count": null,
   "id": "c6729524",
   "metadata": {},
   "outputs": [],
   "source": [
    "rest_name=[]\n",
    "for i in bs.find_all('a',class_='restnt-name ellipsis'):\n",
    "    rest_name.append(i.text)\n",
    "rest_name"
   ]
  },
  {
   "cell_type": "code",
   "execution_count": null,
   "id": "5023c06f",
   "metadata": {},
   "outputs": [],
   "source": [
    "loc=[]\n",
    "for i in bs.find_all('div',class_='restnt-loc ellipsis'):\n",
    "    loc.append(i.text)\n",
    "loc"
   ]
  },
  {
   "cell_type": "code",
   "execution_count": null,
   "id": "630d7f5b",
   "metadata": {},
   "outputs": [],
   "source": [
    "rating=[]\n",
    "for i in bs.find_all('div',class_='restnt-rating rating-4'):\n",
    "    rating.append(i.text)\n",
    "rating"
   ]
  },
  {
   "cell_type": "code",
   "execution_count": null,
   "id": "a38c17e6",
   "metadata": {},
   "outputs": [],
   "source": [
    "img=[]\n",
    "for i in bs.find_all('img',class_='no-img'):\n",
    "    img.append(i['data-src'])\n",
    "img"
   ]
  },
  {
   "cell_type": "code",
   "execution_count": null,
   "id": "f9c7f6d3",
   "metadata": {},
   "outputs": [],
   "source": [
    "cuis=[]\n",
    "for i in bs.findAll('span',class_='double-line-ellipsis'):\n",
    "    cuise=re.sub(r'.*?\\|',\"\",i.text)\n",
    "    cuis.append(cuise)\n",
    "cuis"
   ]
  },
  {
   "cell_type": "code",
   "execution_count": null,
   "id": "e901291f",
   "metadata": {},
   "outputs": [],
   "source": [
    "import pandas as pd\n",
    "df=pd.DataFrame({'Restuarant Name':rest_name,'Cuisine':cuis,'Location':loc,'Rating':rating,'Image':img})\n",
    "df"
   ]
  },
  {
   "cell_type": "code",
   "execution_count": null,
   "id": "cb167768",
   "metadata": {},
   "outputs": [],
   "source": []
  }
 ],
 "metadata": {
  "kernelspec": {
   "display_name": "Python 3 (ipykernel)",
   "language": "python",
   "name": "python3"
  },
  "language_info": {
   "codemirror_mode": {
    "name": "ipython",
    "version": 3
   },
   "file_extension": ".py",
   "mimetype": "text/x-python",
   "name": "python",
   "nbconvert_exporter": "python",
   "pygments_lexer": "ipython3",
   "version": "3.11.3"
  }
 },
 "nbformat": 4,
 "nbformat_minor": 5
}
