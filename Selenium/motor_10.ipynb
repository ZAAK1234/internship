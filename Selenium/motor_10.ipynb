{
 "cells": [
  {
   "cell_type": "code",
   "execution_count": 1,
   "id": "cd67193f",
   "metadata": {},
   "outputs": [],
   "source": [
    "import selenium \n",
    "from selenium import webdriver\n",
    "from selenium.webdriver.common.by import By\n",
    "import time\n",
    "import pandas as pd\n",
    "import warnings\n",
    "warnings.filterwarnings('ignore')"
   ]
  },
  {
   "cell_type": "code",
   "execution_count": 2,
   "id": "c45218c8",
   "metadata": {},
   "outputs": [],
   "source": [
    "dr=webdriver.Chrome()\n",
    "dr.get('https://www.motor1.com/')"
   ]
  },
  {
   "cell_type": "code",
   "execution_count": 4,
   "id": "bd8c13a3",
   "metadata": {},
   "outputs": [],
   "source": [
    "s_car=dr.find_element(By.XPATH,'/html/body/div[10]/div[2]/div/div/div[3]/div/div/div/form/input')\n",
    "s_car.send_keys('50 most expensive cars')"
   ]
  },
  {
   "cell_type": "code",
   "execution_count": 5,
   "id": "2697c3ba",
   "metadata": {},
   "outputs": [],
   "source": [
    "s_btn=dr.find_element(By.XPATH,'/html/body/div[10]/div[2]/div/div/div[3]/div/div/div/form/button[1]')\n",
    "s_btn.click()"
   ]
  },
  {
   "cell_type": "code",
   "execution_count": 6,
   "id": "eddbc9e8",
   "metadata": {},
   "outputs": [],
   "source": [
    "m_exp_car=dr.find_element(By.XPATH,'/html/body/div[10]/div[9]/div/div[1]/div/div/div[2]/div/div[1]')\n",
    "m_exp_car.click()"
   ]
  },
  {
   "cell_type": "code",
   "execution_count": 7,
   "id": "93eecaeb",
   "metadata": {},
   "outputs": [],
   "source": [
    "car_model=[]\n",
    "car_price=[]"
   ]
  },
  {
   "cell_type": "code",
   "execution_count": 8,
   "id": "275613ed",
   "metadata": {},
   "outputs": [
    {
     "name": "stdout",
     "output_type": "stream",
     "text": [
      "50\n",
      "['Aston Martin Valour', 'McLaren Elva', 'Czinger 21C', 'Ferrari Monza', 'Gordon Murray T.33', 'Koenigsegg Gemera', 'Zenvo TSR-S', 'Hennessey Venom F5', 'Bentley Bacalar', 'Hispano Suiza Carmen Boulogne', 'Bentley Mulliner Batur', 'Deus Vayanne', 'SSC Tuatara', 'Lotus Evija', 'Aston Martin Vulcan', 'Delage D12', 'Ferrari Daytona SP3', 'McLaren Speedtail', 'Rimac Nevera', 'Pagani Utopia', 'Pininfarina Battista', 'Gordon Murray T.50', 'Lamborghini Countach', 'Mercedes-AMG Project One', 'Zenvo Aurora', 'Aston Martin Victor', 'Hennessey Venom F5 Roadster', 'Koenigsegg Jesko', 'Aston Martin Valkyrie', 'W Motors Lykan Hypersport', 'McLaren Solus', 'Lamborghini Sian', 'Koenigsegg CC850', 'Bugatti Chiron Super Sport 300+', 'Lamborghini Veneno', 'Bugatti Bolide', 'Pininfarina B95 Speedster', 'Bugatti Mistral', 'Pagani Huayra Imola', 'Bugatti Divo', 'SP Automotive Chaos', 'Pagani Codalunga', '777 Hypercar', 'Mercedes-Maybach Exelero', 'Bugatti Centodieci', 'Bugatti Chiron Profilée', 'Rolls-Royce Sweptail', 'Bugatti La Voiture Noire', 'Rolls-Royce Boat Tail*', 'Rolls-Royce La Rose Noire Droptail']\n"
     ]
    }
   ],
   "source": [
    "c_model=dr.find_elements(By.XPATH,'//div[@class=\"content-area \"]/div/div[2]/div/h3')\n",
    "for i in c_model[0:50]:\n",
    "    cmodel=i.text\n",
    "    car_model.append(cmodel)\n",
    "print(len(car_model))\n",
    "print(car_model)"
   ]
  },
  {
   "cell_type": "code",
   "execution_count": 9,
   "id": "418b58f1",
   "metadata": {},
   "outputs": [
    {
     "ename": "InvalidSelectorException",
     "evalue": "Message: invalid selector: Unable to locate an element with the xpath expression  because of the following error:\nSyntaxError: Failed to execute 'evaluate' on 'Document': The string '' is not a valid XPath expression.\n  (Session info: chrome=120.0.6099.227); For documentation on this error, please visit: https://www.selenium.dev/documentation/webdriver/troubleshooting/errors#invalid-selector-exception\nStacktrace:\n\tGetHandleVerifier [0x00007FF64A102142+3514994]\n\t(No symbol) [0x00007FF649D20CE2]\n\t(No symbol) [0x00007FF649BC76AA]\n\t(No symbol) [0x00007FF649BCCFC0]\n\t(No symbol) [0x00007FF649BCF38F]\n\t(No symbol) [0x00007FF649BCF480]\n\t(No symbol) [0x00007FF649C11624]\n\t(No symbol) [0x00007FF649C1197C]\n\t(No symbol) [0x00007FF649C54F17]\n\t(No symbol) [0x00007FF649C3602F]\n\t(No symbol) [0x00007FF649C528F6]\n\t(No symbol) [0x00007FF649C35D93]\n\t(No symbol) [0x00007FF649C04BDC]\n\t(No symbol) [0x00007FF649C05C64]\n\tGetHandleVerifier [0x00007FF64A12E16B+3695259]\n\tGetHandleVerifier [0x00007FF64A186737+4057191]\n\tGetHandleVerifier [0x00007FF64A17E4E3+4023827]\n\tGetHandleVerifier [0x00007FF649E504F9+689705]\n\t(No symbol) [0x00007FF649D2C048]\n\t(No symbol) [0x00007FF649D28044]\n\t(No symbol) [0x00007FF649D281C9]\n\t(No symbol) [0x00007FF649D188C4]\n\tBaseThreadInitThunk [0x00007FF908937344+20]\n\tRtlUserThreadStart [0x00007FF9091A26B1+33]\n",
     "output_type": "error",
     "traceback": [
      "\u001b[1;31m---------------------------------------------------------------------------\u001b[0m",
      "\u001b[1;31mInvalidSelectorException\u001b[0m                  Traceback (most recent call last)",
      "Cell \u001b[1;32mIn[9], line 1\u001b[0m\n\u001b[1;32m----> 1\u001b[0m c_price\u001b[38;5;241m=\u001b[39m\u001b[43mdr\u001b[49m\u001b[38;5;241;43m.\u001b[39;49m\u001b[43mfind_elements\u001b[49m\u001b[43m(\u001b[49m\u001b[43mBy\u001b[49m\u001b[38;5;241;43m.\u001b[39;49m\u001b[43mXPATH\u001b[49m\u001b[43m,\u001b[49m\u001b[38;5;124;43m'\u001b[39;49m\u001b[38;5;124;43m'\u001b[39;49m\u001b[43m)\u001b[49m\n\u001b[0;32m      2\u001b[0m \u001b[38;5;28;01mfor\u001b[39;00m i \u001b[38;5;129;01min\u001b[39;00m c_price:\n\u001b[0;32m      3\u001b[0m     cprice\u001b[38;5;241m=\u001b[39mi\u001b[38;5;241m.\u001b[39mtext\n",
      "File \u001b[1;32m~\\AppData\\Local\\Programs\\Python\\Python311\\Lib\\site-packages\\selenium\\webdriver\\remote\\webdriver.py:772\u001b[0m, in \u001b[0;36mWebDriver.find_elements\u001b[1;34m(self, by, value)\u001b[0m\n\u001b[0;32m    768\u001b[0m     value \u001b[38;5;241m=\u001b[39m \u001b[38;5;124mf\u001b[39m\u001b[38;5;124m'\u001b[39m\u001b[38;5;124m[name=\u001b[39m\u001b[38;5;124m\"\u001b[39m\u001b[38;5;132;01m{\u001b[39;00mvalue\u001b[38;5;132;01m}\u001b[39;00m\u001b[38;5;124m\"\u001b[39m\u001b[38;5;124m]\u001b[39m\u001b[38;5;124m'\u001b[39m\n\u001b[0;32m    770\u001b[0m \u001b[38;5;66;03m# Return empty list if driver returns null\u001b[39;00m\n\u001b[0;32m    771\u001b[0m \u001b[38;5;66;03m# See https://github.com/SeleniumHQ/selenium/issues/4555\u001b[39;00m\n\u001b[1;32m--> 772\u001b[0m \u001b[38;5;28;01mreturn\u001b[39;00m \u001b[38;5;28;43mself\u001b[39;49m\u001b[38;5;241;43m.\u001b[39;49m\u001b[43mexecute\u001b[49m\u001b[43m(\u001b[49m\u001b[43mCommand\u001b[49m\u001b[38;5;241;43m.\u001b[39;49m\u001b[43mFIND_ELEMENTS\u001b[49m\u001b[43m,\u001b[49m\u001b[43m \u001b[49m\u001b[43m{\u001b[49m\u001b[38;5;124;43m\"\u001b[39;49m\u001b[38;5;124;43musing\u001b[39;49m\u001b[38;5;124;43m\"\u001b[39;49m\u001b[43m:\u001b[49m\u001b[43m \u001b[49m\u001b[43mby\u001b[49m\u001b[43m,\u001b[49m\u001b[43m \u001b[49m\u001b[38;5;124;43m\"\u001b[39;49m\u001b[38;5;124;43mvalue\u001b[39;49m\u001b[38;5;124;43m\"\u001b[39;49m\u001b[43m:\u001b[49m\u001b[43m \u001b[49m\u001b[43mvalue\u001b[49m\u001b[43m}\u001b[49m\u001b[43m)\u001b[49m[\u001b[38;5;124m\"\u001b[39m\u001b[38;5;124mvalue\u001b[39m\u001b[38;5;124m\"\u001b[39m] \u001b[38;5;129;01mor\u001b[39;00m []\n",
      "File \u001b[1;32m~\\AppData\\Local\\Programs\\Python\\Python311\\Lib\\site-packages\\selenium\\webdriver\\remote\\webdriver.py:348\u001b[0m, in \u001b[0;36mWebDriver.execute\u001b[1;34m(self, driver_command, params)\u001b[0m\n\u001b[0;32m    346\u001b[0m response \u001b[38;5;241m=\u001b[39m \u001b[38;5;28mself\u001b[39m\u001b[38;5;241m.\u001b[39mcommand_executor\u001b[38;5;241m.\u001b[39mexecute(driver_command, params)\n\u001b[0;32m    347\u001b[0m \u001b[38;5;28;01mif\u001b[39;00m response:\n\u001b[1;32m--> 348\u001b[0m     \u001b[38;5;28;43mself\u001b[39;49m\u001b[38;5;241;43m.\u001b[39;49m\u001b[43merror_handler\u001b[49m\u001b[38;5;241;43m.\u001b[39;49m\u001b[43mcheck_response\u001b[49m\u001b[43m(\u001b[49m\u001b[43mresponse\u001b[49m\u001b[43m)\u001b[49m\n\u001b[0;32m    349\u001b[0m     response[\u001b[38;5;124m\"\u001b[39m\u001b[38;5;124mvalue\u001b[39m\u001b[38;5;124m\"\u001b[39m] \u001b[38;5;241m=\u001b[39m \u001b[38;5;28mself\u001b[39m\u001b[38;5;241m.\u001b[39m_unwrap_value(response\u001b[38;5;241m.\u001b[39mget(\u001b[38;5;124m\"\u001b[39m\u001b[38;5;124mvalue\u001b[39m\u001b[38;5;124m\"\u001b[39m, \u001b[38;5;28;01mNone\u001b[39;00m))\n\u001b[0;32m    350\u001b[0m     \u001b[38;5;28;01mreturn\u001b[39;00m response\n",
      "File \u001b[1;32m~\\AppData\\Local\\Programs\\Python\\Python311\\Lib\\site-packages\\selenium\\webdriver\\remote\\errorhandler.py:229\u001b[0m, in \u001b[0;36mErrorHandler.check_response\u001b[1;34m(self, response)\u001b[0m\n\u001b[0;32m    227\u001b[0m         alert_text \u001b[38;5;241m=\u001b[39m value[\u001b[38;5;124m\"\u001b[39m\u001b[38;5;124malert\u001b[39m\u001b[38;5;124m\"\u001b[39m]\u001b[38;5;241m.\u001b[39mget(\u001b[38;5;124m\"\u001b[39m\u001b[38;5;124mtext\u001b[39m\u001b[38;5;124m\"\u001b[39m)\n\u001b[0;32m    228\u001b[0m     \u001b[38;5;28;01mraise\u001b[39;00m exception_class(message, screen, stacktrace, alert_text)  \u001b[38;5;66;03m# type: ignore[call-arg]  # mypy is not smart enough here\u001b[39;00m\n\u001b[1;32m--> 229\u001b[0m \u001b[38;5;28;01mraise\u001b[39;00m exception_class(message, screen, stacktrace)\n",
      "\u001b[1;31mInvalidSelectorException\u001b[0m: Message: invalid selector: Unable to locate an element with the xpath expression  because of the following error:\nSyntaxError: Failed to execute 'evaluate' on 'Document': The string '' is not a valid XPath expression.\n  (Session info: chrome=120.0.6099.227); For documentation on this error, please visit: https://www.selenium.dev/documentation/webdriver/troubleshooting/errors#invalid-selector-exception\nStacktrace:\n\tGetHandleVerifier [0x00007FF64A102142+3514994]\n\t(No symbol) [0x00007FF649D20CE2]\n\t(No symbol) [0x00007FF649BC76AA]\n\t(No symbol) [0x00007FF649BCCFC0]\n\t(No symbol) [0x00007FF649BCF38F]\n\t(No symbol) [0x00007FF649BCF480]\n\t(No symbol) [0x00007FF649C11624]\n\t(No symbol) [0x00007FF649C1197C]\n\t(No symbol) [0x00007FF649C54F17]\n\t(No symbol) [0x00007FF649C3602F]\n\t(No symbol) [0x00007FF649C528F6]\n\t(No symbol) [0x00007FF649C35D93]\n\t(No symbol) [0x00007FF649C04BDC]\n\t(No symbol) [0x00007FF649C05C64]\n\tGetHandleVerifier [0x00007FF64A12E16B+3695259]\n\tGetHandleVerifier [0x00007FF64A186737+4057191]\n\tGetHandleVerifier [0x00007FF64A17E4E3+4023827]\n\tGetHandleVerifier [0x00007FF649E504F9+689705]\n\t(No symbol) [0x00007FF649D2C048]\n\t(No symbol) [0x00007FF649D28044]\n\t(No symbol) [0x00007FF649D281C9]\n\t(No symbol) [0x00007FF649D188C4]\n\tBaseThreadInitThunk [0x00007FF908937344+20]\n\tRtlUserThreadStart [0x00007FF9091A26B1+33]\n"
     ]
    }
   ],
   "source": [
    "c_price=dr.find_elements(By.XPATH,'')\n",
    "for i in c_price:\n",
    "    cprice=i.text\n",
    "    car_price.append(cprice)\n",
    "print(len(car_price))\n",
    "print(car_price)"
   ]
  },
  {
   "cell_type": "code",
   "execution_count": null,
   "id": "420c908f",
   "metadata": {},
   "outputs": [],
   "source": []
  }
 ],
 "metadata": {
  "kernelspec": {
   "display_name": "Python 3 (ipykernel)",
   "language": "python",
   "name": "python3"
  },
  "language_info": {
   "codemirror_mode": {
    "name": "ipython",
    "version": 3
   },
   "file_extension": ".py",
   "mimetype": "text/x-python",
   "name": "python",
   "nbconvert_exporter": "python",
   "pygments_lexer": "ipython3",
   "version": "3.11.3"
  }
 },
 "nbformat": 4,
 "nbformat_minor": 5
}
