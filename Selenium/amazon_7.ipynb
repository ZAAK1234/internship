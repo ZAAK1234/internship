{
 "cells": [
  {
   "cell_type": "code",
   "execution_count": 1,
   "id": "7e3f92cb",
   "metadata": {},
   "outputs": [],
   "source": [
    "import selenium\n",
    "from selenium import webdriver\n",
    "from selenium.webdriver.common.by import By\n",
    "import time\n",
    "import pandas as pd\n",
    "import warnings \n",
    "warnings.filterwarnings('ignore')"
   ]
  },
  {
   "cell_type": "code",
   "execution_count": 2,
   "id": "1b071e02",
   "metadata": {},
   "outputs": [],
   "source": [
    "dr=webdriver.Chrome()"
   ]
  },
  {
   "cell_type": "code",
   "execution_count": 4,
   "id": "0cc340fe",
   "metadata": {},
   "outputs": [],
   "source": [
    "dr.get('https://www.amazon.in/')"
   ]
  },
  {
   "cell_type": "code",
   "execution_count": 6,
   "id": "e05604fd",
   "metadata": {},
   "outputs": [],
   "source": [
    "sr=dr.find_element(By.XPATH,'//div[@class=\"nav-search-field \"]/input')\n",
    "sr.send_keys('Laptop')"
   ]
  },
  {
   "cell_type": "code",
   "execution_count": 7,
   "id": "6e03ae56",
   "metadata": {},
   "outputs": [],
   "source": [
    "sr_btn=dr.find_element(By.XPATH,'//div[@class=\"nav-right\"]/div/span')\n",
    "sr_btn.click()"
   ]
  },
  {
   "cell_type": "code",
   "execution_count": 11,
   "id": "4f749c52",
   "metadata": {},
   "outputs": [],
   "source": [
    "cpu_btn=dr.find_element(By.XPATH,'/html/body/div[1]/div[1]/div[1]/div[2]/div/div[3]/span/div[1]/div/div/div[6]/ul[19]/span/span[10]/li/span/a/span')\n",
    "cpu_btn.click()"
   ]
  },
  {
   "cell_type": "code",
   "execution_count": 34,
   "id": "0a5abd98",
   "metadata": {},
   "outputs": [],
   "source": [
    "pr_brand=[]\n",
    "pr_rat=[]\n",
    "pr_price=[]\n"
   ]
  },
  {
   "cell_type": "code",
   "execution_count": 36,
   "id": "5ad90c90",
   "metadata": {},
   "outputs": [
    {
     "name": "stdout",
     "output_type": "stream",
     "text": [
      "10\n",
      "['ASUS', 'MSI', 'Lenovo', 'ASUS', 'HP', 'MSI', 'Acer', 'Acer', 'HP', 'HP']\n"
     ]
    }
   ],
   "source": [
    "brand=dr.find_elements(By.XPATH,'//div[@class=\"a-row a-color-secondary\"]/h2/span')\n",
    "for i in brand[0:10]:\n",
    "    pbrand=i.text\n",
    "    pr_brand.append(pbrand)\n",
    "print(len(pr_brand))\n",
    "print(pr_brand)"
   ]
  },
  {
   "cell_type": "code",
   "execution_count": 38,
   "id": "525a9fc3",
   "metadata": {},
   "outputs": [
    {
     "name": "stdout",
     "output_type": "stream",
     "text": [
      "20\n",
      "['413', '58', '432', '178', '25', '1', '207', '681', '22', '87', '413', '58', '432', '178', '25', '1', '207', '681', '22', '87']\n"
     ]
    }
   ],
   "source": [
    "rating=dr.find_elements(By.XPATH,'//a[@class=\"a-link-normal s-underline-text s-underline-link-text s-link-style\"]/span')\n",
    "for i in rating[0:10]:\n",
    "    prating=i.text\n",
    "    pr_rat.append(prating)\n",
    "print(len(pr_rat))\n",
    "print(pr_rat)"
   ]
  },
  {
   "cell_type": "code",
   "execution_count": 39,
   "id": "8b8d35b7",
   "metadata": {},
   "outputs": [
    {
     "name": "stdout",
     "output_type": "stream",
     "text": [
      "10\n",
      "['64,990', '54,990', '62,990', '77,990', '81,990', '1,84,990', '54,990', '1,14,990', '84,899', '99,990']\n"
     ]
    }
   ],
   "source": [
    "price=dr.find_elements(By.XPATH,'//div[@class=\"a-row\"]/a/span/span/span[2]')\n",
    "for i in price[0:10]:\n",
    "    prprice=i.text\n",
    "    pr_price.append(prprice)\n",
    "print(len(pr_price))\n",
    "print(pr_price)"
   ]
  },
  {
   "cell_type": "code",
   "execution_count": 40,
   "id": "66f4b201",
   "metadata": {},
   "outputs": [
    {
     "data": {
      "text/html": [
       "<div>\n",
       "<style scoped>\n",
       "    .dataframe tbody tr th:only-of-type {\n",
       "        vertical-align: middle;\n",
       "    }\n",
       "\n",
       "    .dataframe tbody tr th {\n",
       "        vertical-align: top;\n",
       "    }\n",
       "\n",
       "    .dataframe thead th {\n",
       "        text-align: right;\n",
       "    }\n",
       "</style>\n",
       "<table border=\"1\" class=\"dataframe\">\n",
       "  <thead>\n",
       "    <tr style=\"text-align: right;\">\n",
       "      <th></th>\n",
       "      <th>Brand</th>\n",
       "      <th>Rating</th>\n",
       "      <th>Price</th>\n",
       "    </tr>\n",
       "  </thead>\n",
       "  <tbody>\n",
       "    <tr>\n",
       "      <th>0</th>\n",
       "      <td>ASUS</td>\n",
       "      <td>413</td>\n",
       "      <td>64,990</td>\n",
       "    </tr>\n",
       "    <tr>\n",
       "      <th>1</th>\n",
       "      <td>MSI</td>\n",
       "      <td>58</td>\n",
       "      <td>54,990</td>\n",
       "    </tr>\n",
       "    <tr>\n",
       "      <th>2</th>\n",
       "      <td>Lenovo</td>\n",
       "      <td>432</td>\n",
       "      <td>62,990</td>\n",
       "    </tr>\n",
       "    <tr>\n",
       "      <th>3</th>\n",
       "      <td>ASUS</td>\n",
       "      <td>178</td>\n",
       "      <td>77,990</td>\n",
       "    </tr>\n",
       "    <tr>\n",
       "      <th>4</th>\n",
       "      <td>HP</td>\n",
       "      <td>25</td>\n",
       "      <td>81,990</td>\n",
       "    </tr>\n",
       "    <tr>\n",
       "      <th>5</th>\n",
       "      <td>MSI</td>\n",
       "      <td>1</td>\n",
       "      <td>1,84,990</td>\n",
       "    </tr>\n",
       "    <tr>\n",
       "      <th>6</th>\n",
       "      <td>Acer</td>\n",
       "      <td>207</td>\n",
       "      <td>54,990</td>\n",
       "    </tr>\n",
       "    <tr>\n",
       "      <th>7</th>\n",
       "      <td>Acer</td>\n",
       "      <td>681</td>\n",
       "      <td>1,14,990</td>\n",
       "    </tr>\n",
       "    <tr>\n",
       "      <th>8</th>\n",
       "      <td>HP</td>\n",
       "      <td>22</td>\n",
       "      <td>84,899</td>\n",
       "    </tr>\n",
       "    <tr>\n",
       "      <th>9</th>\n",
       "      <td>HP</td>\n",
       "      <td>87</td>\n",
       "      <td>99,990</td>\n",
       "    </tr>\n",
       "  </tbody>\n",
       "</table>\n",
       "</div>"
      ],
      "text/plain": [
       "    Brand Rating     Price\n",
       "0    ASUS    413    64,990\n",
       "1     MSI     58    54,990\n",
       "2  Lenovo    432    62,990\n",
       "3    ASUS    178    77,990\n",
       "4      HP     25    81,990\n",
       "5     MSI      1  1,84,990\n",
       "6    Acer    207    54,990\n",
       "7    Acer    681  1,14,990\n",
       "8      HP     22    84,899\n",
       "9      HP     87    99,990"
      ]
     },
     "execution_count": 40,
     "metadata": {},
     "output_type": "execute_result"
    }
   ],
   "source": [
    "df=pd.DataFrame({'Brand':pr_brand[0:10],'Rating':pr_rat[0:10],'Price':pr_price[0:10]})\n",
    "df"
   ]
  },
  {
   "cell_type": "code",
   "execution_count": null,
   "id": "e638c64e",
   "metadata": {},
   "outputs": [],
   "source": []
  }
 ],
 "metadata": {
  "kernelspec": {
   "display_name": "Python 3 (ipykernel)",
   "language": "python",
   "name": "python3"
  },
  "language_info": {
   "codemirror_mode": {
    "name": "ipython",
    "version": 3
   },
   "file_extension": ".py",
   "mimetype": "text/x-python",
   "name": "python",
   "nbconvert_exporter": "python",
   "pygments_lexer": "ipython3",
   "version": "3.11.3"
  }
 },
 "nbformat": 4,
 "nbformat_minor": 5
}
