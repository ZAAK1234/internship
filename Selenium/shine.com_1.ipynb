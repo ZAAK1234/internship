{
 "cells": [
  {
   "cell_type": "code",
   "execution_count": 1,
   "id": "a6488956",
   "metadata": {},
   "outputs": [],
   "source": [
    "import selenium"
   ]
  },
  {
   "cell_type": "code",
   "execution_count": 2,
   "id": "7c15264b",
   "metadata": {},
   "outputs": [],
   "source": [
    "from selenium import webdriver\n",
    "from selenium.webdriver.common.by import By\n",
    "import time\n",
    "import warnings\n",
    "warnings.filterwarnings('ignore')\n",
    "import pandas as pd"
   ]
  },
  {
   "cell_type": "code",
   "execution_count": 3,
   "id": "fd85f306",
   "metadata": {},
   "outputs": [],
   "source": [
    "dr=webdriver.Chrome()"
   ]
  },
  {
   "cell_type": "code",
   "execution_count": 4,
   "id": "fedf7730",
   "metadata": {},
   "outputs": [],
   "source": [
    "dr.get('https://www.shine.com/')"
   ]
  },
  {
   "cell_type": "code",
   "execution_count": 6,
   "id": "8968a8de",
   "metadata": {
    "scrolled": true
   },
   "outputs": [],
   "source": [
    "job_title=dr.find_element(By.CLASS_NAME,'form-control  ')\n",
    "job_title.send_keys('Data Analyst')"
   ]
  },
  {
   "cell_type": "code",
   "execution_count": 7,
   "id": "afb3b766",
   "metadata": {},
   "outputs": [],
   "source": [
    "loc=dr.find_element(By.XPATH,'/html/body/div/div[1]/div/div/div[1]/div[1]/div/div[2]/div/div/form/div/div[1]/ul/li[2]/div/input')\n",
    "loc.send_keys('Banglore')"
   ]
  },
  {
   "cell_type": "code",
   "execution_count": 9,
   "id": "b3d1eb4d",
   "metadata": {},
   "outputs": [],
   "source": [
    "btn=dr.find_element(By.CLASS_NAME,'searchForm_btnWrap_advance__VYBHN')\n",
    "btn.click()"
   ]
  },
  {
   "cell_type": "code",
   "execution_count": 10,
   "id": "08a11e06",
   "metadata": {},
   "outputs": [],
   "source": [
    "job_N=[]\n"
   ]
  },
  {
   "cell_type": "code",
   "execution_count": 11,
   "id": "7a8daf95",
   "metadata": {},
   "outputs": [
    {
     "data": {
      "text/plain": [
       "['Data Analyst',\n",
       " 'Vacancy For Data Analyst',\n",
       " 'Clinical Data Analyst',\n",
       " 'Data Modeler data',\n",
       " 'Data Modeller',\n",
       " 'Data Modeler Bangalore',\n",
       " 'Data Modeler',\n",
       " 'Clinical Data Analyst',\n",
       " 'Data Analyst Hiring Fresher and Experience',\n",
       " 'Data Analyst Hiring Fresher and Experience']"
      ]
     },
     "execution_count": 11,
     "metadata": {},
     "output_type": "execute_result"
    }
   ],
   "source": [
    "job_name=dr.find_elements(By.XPATH,'//div[@class=\"jobCard_jobCard__jjUmu  white-box-border jobCard\"]/div/h2/a')\n",
    "for i in job_name[0:10]:\n",
    "    jname=i.text\n",
    "    job_N.append(jname)\n",
    "job_N"
   ]
  },
  {
   "cell_type": "code",
   "execution_count": 12,
   "id": "2d16f30d",
   "metadata": {},
   "outputs": [
    {
     "name": "stdout",
     "output_type": "stream",
     "text": [
      "10\n"
     ]
    }
   ],
   "source": [
    "print(len(job_N))"
   ]
  },
  {
   "cell_type": "code",
   "execution_count": 13,
   "id": "e3462535",
   "metadata": {},
   "outputs": [
    {
     "name": "stdout",
     "output_type": "stream",
     "text": [
      "10\n",
      "['ara resources private limited', 'diraa hr services hiring for mncs', 'yogita staffing solution', 'techno endura', 'boyen haddin consulting and technol...', 'boyen haddin consulting and technol...', 'boyen haddin consulting and technol...', 'boyen haddin consulting and technol...', 'quiscon biotech', 'kavya interprises']\n"
     ]
    }
   ],
   "source": [
    "com_name=[]\n",
    "job_com=dr.find_elements(By.XPATH,'//div[@class=\"jobCard_jobCard_cName__mYnow\"]/span')\n",
    "for i in job_com[0:10]:\n",
    "    cname=i.text\n",
    "    com_name.append(cname)\n",
    "print(len(com_name))\n",
    "print(com_name)"
   ]
  },
  {
   "cell_type": "code",
   "execution_count": 24,
   "id": "69f8530b",
   "metadata": {
    "scrolled": true
   },
   "outputs": [
    {
     "name": "stdout",
     "output_type": "stream",
     "text": [
      "10\n",
      "['4 to 9 Yrs', '0 to 1 Yr', '0 to 3 Yrs', '0 to 1 Yr', '3 to 6 Yrs', '3 to 6 Yrs', '3 to 6 Yrs', '3 to 6 Yrs', '0 to 2 Yrs', '0 to 4 Yrs']\n"
     ]
    }
   ],
   "source": [
    "exp=[]\n",
    "experience=dr.find_elements(By.XPATH,'//div[@class=\" jobCard_jobCard_lists_item__YxRkV jobCard_jobIcon__3FB1t\"]')\n",
    "for i in experience[0:10]:\n",
    "    cexp=i.text\n",
    "    exp.append(cexp)\n",
    "print(len(exp))\n",
    "print(exp)"
   ]
  },
  {
   "cell_type": "code",
   "execution_count": 37,
   "id": "9703a55f",
   "metadata": {
    "scrolled": true
   },
   "outputs": [
    {
     "name": "stdout",
     "output_type": "stream",
     "text": [
      "10\n",
      "['Bangalore', 'Bangalore\\n+3', 'Canada\\n+14', 'Gurugram\\n+6', 'Bangalore', 'Bangalore', 'Bangalore', 'Bangalore', 'Mumbai City\\n+4', 'Oman\\n+13']\n"
     ]
    }
   ],
   "source": [
    "loc=[]\n",
    "job_loc=dr.find_elements(By.XPATH,'//div[@class=\" jobCard_jobCard_lists_item__YxRkV jobCard_locationIcon__zrWt2\"]')\n",
    "for i in job_loc[0:10]:\n",
    "    jloc=i.text\n",
    "    loc.append(jloc)\n",
    "print(len(loc))\n",
    "print(loc)"
   ]
  },
  {
   "cell_type": "code",
   "execution_count": 38,
   "id": "100d9b4b",
   "metadata": {},
   "outputs": [
    {
     "data": {
      "text/html": [
       "<div>\n",
       "<style scoped>\n",
       "    .dataframe tbody tr th:only-of-type {\n",
       "        vertical-align: middle;\n",
       "    }\n",
       "\n",
       "    .dataframe tbody tr th {\n",
       "        vertical-align: top;\n",
       "    }\n",
       "\n",
       "    .dataframe thead th {\n",
       "        text-align: right;\n",
       "    }\n",
       "</style>\n",
       "<table border=\"1\" class=\"dataframe\">\n",
       "  <thead>\n",
       "    <tr style=\"text-align: right;\">\n",
       "      <th></th>\n",
       "      <th>Job Name</th>\n",
       "      <th>Company Name</th>\n",
       "      <th>Experience</th>\n",
       "      <th>Location</th>\n",
       "    </tr>\n",
       "  </thead>\n",
       "  <tbody>\n",
       "    <tr>\n",
       "      <th>0</th>\n",
       "      <td>Data Analyst</td>\n",
       "      <td>ara resources private limited</td>\n",
       "      <td>4 to 9 Yrs</td>\n",
       "      <td>Bangalore</td>\n",
       "    </tr>\n",
       "    <tr>\n",
       "      <th>1</th>\n",
       "      <td>Vacancy For Data Analyst</td>\n",
       "      <td>diraa hr services hiring for mncs</td>\n",
       "      <td>0 to 1 Yr</td>\n",
       "      <td>Bangalore\\n+3</td>\n",
       "    </tr>\n",
       "    <tr>\n",
       "      <th>2</th>\n",
       "      <td>Clinical Data Analyst</td>\n",
       "      <td>yogita staffing solution</td>\n",
       "      <td>0 to 3 Yrs</td>\n",
       "      <td>Canada\\n+14</td>\n",
       "    </tr>\n",
       "    <tr>\n",
       "      <th>3</th>\n",
       "      <td>Data Modeler data</td>\n",
       "      <td>techno endura</td>\n",
       "      <td>0 to 1 Yr</td>\n",
       "      <td>Gurugram\\n+6</td>\n",
       "    </tr>\n",
       "    <tr>\n",
       "      <th>4</th>\n",
       "      <td>Data Modeller</td>\n",
       "      <td>boyen haddin consulting and technol...</td>\n",
       "      <td>3 to 6 Yrs</td>\n",
       "      <td>Bangalore</td>\n",
       "    </tr>\n",
       "    <tr>\n",
       "      <th>5</th>\n",
       "      <td>Data Modeler Bangalore</td>\n",
       "      <td>boyen haddin consulting and technol...</td>\n",
       "      <td>3 to 6 Yrs</td>\n",
       "      <td>Bangalore</td>\n",
       "    </tr>\n",
       "    <tr>\n",
       "      <th>6</th>\n",
       "      <td>Data Modeler</td>\n",
       "      <td>boyen haddin consulting and technol...</td>\n",
       "      <td>3 to 6 Yrs</td>\n",
       "      <td>Bangalore</td>\n",
       "    </tr>\n",
       "    <tr>\n",
       "      <th>7</th>\n",
       "      <td>Clinical Data Analyst</td>\n",
       "      <td>boyen haddin consulting and technol...</td>\n",
       "      <td>3 to 6 Yrs</td>\n",
       "      <td>Bangalore</td>\n",
       "    </tr>\n",
       "    <tr>\n",
       "      <th>8</th>\n",
       "      <td>Data Analyst Hiring Fresher and Experience</td>\n",
       "      <td>quiscon biotech</td>\n",
       "      <td>0 to 2 Yrs</td>\n",
       "      <td>Mumbai City\\n+4</td>\n",
       "    </tr>\n",
       "    <tr>\n",
       "      <th>9</th>\n",
       "      <td>Data Analyst Hiring Fresher and Experience</td>\n",
       "      <td>kavya interprises</td>\n",
       "      <td>0 to 4 Yrs</td>\n",
       "      <td>Oman\\n+13</td>\n",
       "    </tr>\n",
       "  </tbody>\n",
       "</table>\n",
       "</div>"
      ],
      "text/plain": [
       "                                     Job Name   \n",
       "0                                Data Analyst  \\\n",
       "1                    Vacancy For Data Analyst   \n",
       "2                       Clinical Data Analyst   \n",
       "3                           Data Modeler data   \n",
       "4                               Data Modeller   \n",
       "5                      Data Modeler Bangalore   \n",
       "6                                Data Modeler   \n",
       "7                       Clinical Data Analyst   \n",
       "8  Data Analyst Hiring Fresher and Experience   \n",
       "9  Data Analyst Hiring Fresher and Experience   \n",
       "\n",
       "                             Company Name  Experience         Location  \n",
       "0           ara resources private limited  4 to 9 Yrs        Bangalore  \n",
       "1       diraa hr services hiring for mncs   0 to 1 Yr    Bangalore\\n+3  \n",
       "2                yogita staffing solution  0 to 3 Yrs      Canada\\n+14  \n",
       "3                           techno endura   0 to 1 Yr     Gurugram\\n+6  \n",
       "4  boyen haddin consulting and technol...  3 to 6 Yrs        Bangalore  \n",
       "5  boyen haddin consulting and technol...  3 to 6 Yrs        Bangalore  \n",
       "6  boyen haddin consulting and technol...  3 to 6 Yrs        Bangalore  \n",
       "7  boyen haddin consulting and technol...  3 to 6 Yrs        Bangalore  \n",
       "8                         quiscon biotech  0 to 2 Yrs  Mumbai City\\n+4  \n",
       "9                       kavya interprises  0 to 4 Yrs        Oman\\n+13  "
      ]
     },
     "execution_count": 38,
     "metadata": {},
     "output_type": "execute_result"
    }
   ],
   "source": [
    "df=pd.DataFrame({'Job Name':job_N,'Company Name':com_name,'Experience':exp,'Location':loc})\n",
    "df"
   ]
  },
  {
   "cell_type": "code",
   "execution_count": null,
   "id": "69febc1c",
   "metadata": {},
   "outputs": [],
   "source": []
  }
 ],
 "metadata": {
  "kernelspec": {
   "display_name": "Python 3 (ipykernel)",
   "language": "python",
   "name": "python3"
  },
  "language_info": {
   "codemirror_mode": {
    "name": "ipython",
    "version": 3
   },
   "file_extension": ".py",
   "mimetype": "text/x-python",
   "name": "python",
   "nbconvert_exporter": "python",
   "pygments_lexer": "ipython3",
   "version": "3.11.3"
  }
 },
 "nbformat": 4,
 "nbformat_minor": 5
}
