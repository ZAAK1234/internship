{
 "cells": [
  {
   "cell_type": "code",
   "execution_count": 3,
   "id": "03f95ec9",
   "metadata": {},
   "outputs": [],
   "source": [
    "import selenium\n",
    "from selenium import webdriver\n",
    "from selenium.webdriver.common.by import By\n",
    "import time\n",
    "import pandas as pd\n",
    "import warnings\n",
    "warnings.filterwarnings('ignore')"
   ]
  },
  {
   "cell_type": "code",
   "execution_count": 4,
   "id": "4aef0108",
   "metadata": {},
   "outputs": [],
   "source": [
    "dr=webdriver.Chrome()\n",
    "dr.get('https://www.jagranjosh.com/')"
   ]
  },
  {
   "cell_type": "code",
   "execution_count": 5,
   "id": "0b96d44b",
   "metadata": {},
   "outputs": [],
   "source": [
    "gk_btn=dr.find_element(By.XPATH,'/html/body/div/header/nav/div/div/div[3]/ul/li[3]/a')\n",
    "gk_btn.click()"
   ]
  },
  {
   "cell_type": "code",
   "execution_count": 11,
   "id": "6e5da1e2",
   "metadata": {},
   "outputs": [],
   "source": [
    "ex_btn=dr.find_element(By.XPATH,'/html/body/div[1]/div[8]/section[5]/div[1]/span')\n",
    "ex_btn.click()"
   ]
  },
  {
   "cell_type": "code",
   "execution_count": 14,
   "id": "13e2c869",
   "metadata": {},
   "outputs": [],
   "source": [
    "new_link=dr.find_element(By.XPATH,'/html/body/div[1]/main/div[1]/div[1]/section[2]/div/ul/li[8]/article/h3/a')\n",
    "new_link.click()"
   ]
  },
  {
   "cell_type": "code",
   "execution_count": 15,
   "id": "a4f78aae",
   "metadata": {},
   "outputs": [],
   "source": [
    "all_data=[]"
   ]
  },
  {
   "cell_type": "code",
   "execution_count": 18,
   "id": "4f156f15",
   "metadata": {},
   "outputs": [],
   "source": [
    "a_data=dr.find_element(By.XPATH,'//div[@class=\"TableData\"]')\n",
    "adata=a_data.text\n",
    "all_data.append(adata)"
   ]
  },
  {
   "cell_type": "code",
   "execution_count": 19,
   "id": "aa64cce4",
   "metadata": {},
   "outputs": [
    {
     "data": {
      "text/html": [
       "<div>\n",
       "<style scoped>\n",
       "    .dataframe tbody tr th:only-of-type {\n",
       "        vertical-align: middle;\n",
       "    }\n",
       "\n",
       "    .dataframe tbody tr th {\n",
       "        vertical-align: top;\n",
       "    }\n",
       "\n",
       "    .dataframe thead th {\n",
       "        text-align: right;\n",
       "    }\n",
       "</style>\n",
       "<table border=\"1\" class=\"dataframe\">\n",
       "  <thead>\n",
       "    <tr style=\"text-align: right;\">\n",
       "      <th></th>\n",
       "      <th>0</th>\n",
       "    </tr>\n",
       "  </thead>\n",
       "  <tbody>\n",
       "    <tr>\n",
       "      <th>0</th>\n",
       "      <td>&lt;selenium.webdriver.remote.webelement.WebEleme...</td>\n",
       "    </tr>\n",
       "    <tr>\n",
       "      <th>1</th>\n",
       "      <td>S.N.\\nPM Name\\nBorn-Dead\\nTerm of office\\nRema...</td>\n",
       "    </tr>\n",
       "  </tbody>\n",
       "</table>\n",
       "</div>"
      ],
      "text/plain": [
       "                                                   0\n",
       "0  <selenium.webdriver.remote.webelement.WebEleme...\n",
       "1  S.N.\\nPM Name\\nBorn-Dead\\nTerm of office\\nRema..."
      ]
     },
     "execution_count": 19,
     "metadata": {},
     "output_type": "execute_result"
    }
   ],
   "source": [
    "df=pd.DataFrame(all_data)\n",
    "df"
   ]
  },
  {
   "cell_type": "code",
   "execution_count": null,
   "id": "35170488",
   "metadata": {},
   "outputs": [],
   "source": []
  }
 ],
 "metadata": {
  "kernelspec": {
   "display_name": "Python 3 (ipykernel)",
   "language": "python",
   "name": "python3"
  },
  "language_info": {
   "codemirror_mode": {
    "name": "ipython",
    "version": 3
   },
   "file_extension": ".py",
   "mimetype": "text/x-python",
   "name": "python",
   "nbconvert_exporter": "python",
   "pygments_lexer": "ipython3",
   "version": "3.11.3"
  }
 },
 "nbformat": 4,
 "nbformat_minor": 5
}
