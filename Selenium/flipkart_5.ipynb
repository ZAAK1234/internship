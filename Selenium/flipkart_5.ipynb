{
 "cells": [
  {
   "cell_type": "code",
   "execution_count": 1,
   "id": "532d6efa",
   "metadata": {},
   "outputs": [],
   "source": [
    "import selenium\n",
    "from selenium import webdriver\n",
    "from selenium.webdriver.common.by import By\n",
    "import time\n",
    "import pandas as pd\n",
    "import warnings\n",
    "warnings.filterwarnings('ignore')"
   ]
  },
  {
   "cell_type": "code",
   "execution_count": 2,
   "id": "caa420b1",
   "metadata": {},
   "outputs": [],
   "source": [
    "dr=webdriver.Chrome()\n",
    "dr.get('https://www.flipkart.com/apple-iphone-11-black-64-gb/product-reviews/itm4e5041ba101fd?pid=MOBFWQ6BXGJCEYNY&lid=LSTMOBFWQ6BXGJCEYNYZXSHRJ&market')"
   ]
  },
  {
   "cell_type": "code",
   "execution_count": 13,
   "id": "a05901da",
   "metadata": {},
   "outputs": [],
   "source": [
    "pr_rat=[]\n",
    "pr_rev=[]\n",
    "pr_revs=[]"
   ]
  },
  {
   "cell_type": "code",
   "execution_count": 14,
   "id": "c95b4863",
   "metadata": {},
   "outputs": [
    {
     "name": "stdout",
     "output_type": "stream",
     "text": [
      "100\n",
      "['5', '5', '5', '5', '5', '5', '5', '5', '5', '5', '5', '4', '5', '5', '5', '4', '5', '5', '5', '5', '5', '5', '5', '5', '5', '4', '5', '5', '5', '5', '5', '5', '5', '5', '5', '5', '5', '5', '5', '5', '5', '5', '5', '5', '5', '5', '5', '5', '5', '5', '5', '5', '5', '5', '5', '5', '5', '5', '5', '5', '5', '5', '5', '5', '5', '5', '5', '5', '5', '5', '5', '5', '5', '5', '5', '5', '5', '5', '5', '5', '5', '5', '5', '5', '5', '5', '5', '5', '5', '5', '5', '5', '5', '5', '5', '5', '5', '5', '5', '5']\n"
     ]
    }
   ],
   "source": [
    "for i in range(0,10):\n",
    "    rev=dr.find_elements(By.XPATH,'//div[@class=\"_3LWZlK _1BLPMq\"]')\n",
    "    for j in rev[0:10]:\n",
    "        prev=j.text\n",
    "        pr_rat.append(prev)\n",
    "    nxtbtn=dr.find_element(By.CLASS_NAME,'_1LKTO3')\n",
    "    nxtbtn.click()\n",
    "    time.sleep(3)\n",
    "print(len(pr_rat))\n",
    "print(pr_rat)"
   ]
  },
  {
   "cell_type": "code",
   "execution_count": 16,
   "id": "252879f7",
   "metadata": {},
   "outputs": [
    {
     "name": "stdout",
     "output_type": "stream",
     "text": [
      "100\n",
      "['Just wow!', 'Worth every penny', 'Best in the market!', 'Wonderful', 'Classy product', 'Terrific', 'Terrific purchase', 'Perfect product!', 'Perfect product!', 'Fabulous!', 'Must buy!', 'Brilliant', 'Brilliant', 'Excellent', 'Awesome', 'Fabulous!', 'Terrific purchase', 'Must buy!', 'Super!', 'Simply awesome', 'Just wow!', 'Worth every penny', 'Best in the market!', 'Wonderful', 'Classy product', 'Terrific', 'Terrific purchase', 'Perfect product!', 'Perfect product!', 'Fabulous!', 'Must buy!', 'Brilliant', 'Brilliant', 'Excellent', 'Awesome', 'Fabulous!', 'Terrific purchase', 'Must buy!', 'Super!', 'Simply awesome', 'Just wow!', 'Worth every penny', 'Best in the market!', 'Wonderful', 'Classy product', 'Terrific', 'Terrific purchase', 'Perfect product!', 'Perfect product!', 'Fabulous!', 'Must buy!', 'Brilliant', 'Brilliant', 'Excellent', 'Awesome', 'Fabulous!', 'Terrific purchase', 'Must buy!', 'Super!', 'Simply awesome', 'Just wow!', 'Worth every penny', 'Best in the market!', 'Wonderful', 'Classy product', 'Terrific', 'Terrific purchase', 'Perfect product!', 'Perfect product!', 'Fabulous!', 'Must buy!', 'Brilliant', 'Brilliant', 'Excellent', 'Awesome', 'Fabulous!', 'Terrific purchase', 'Must buy!', 'Super!', 'Simply awesome', 'Just wow!', 'Worth every penny', 'Best in the market!', 'Wonderful', 'Classy product', 'Terrific', 'Terrific purchase', 'Perfect product!', 'Perfect product!', 'Fabulous!', 'Must buy!', 'Brilliant', 'Brilliant', 'Excellent', 'Awesome', 'Fabulous!', 'Terrific purchase', 'Must buy!', 'Super!', 'Simply awesome']\n"
     ]
    }
   ],
   "source": [
    "for i in range(0,10):\n",
    "    rev=dr.find_elements(By.XPATH,'//p[@class=\"_2-N8zT\"]')\n",
    "    for j in rev[0:10]:\n",
    "        prev=j.text\n",
    "        pr_rev.append(prev)\n",
    "    nxtbtn=dr.find_element(By.CLASS_NAME,'_1LKTO3')\n",
    "    nxtbtn.click()\n",
    "    time.sleep(3)\n",
    "print(len(pr_rev))\n",
    "print(pr_rev)"
   ]
  },
  {
   "cell_type": "code",
   "execution_count": 18,
   "id": "7db56b03",
   "metadata": {},
   "outputs": [
    {
     "name": "stdout",
     "output_type": "stream",
     "text": [
      "100\n",
      "['Perfect Product!!', 'Feeling awesome after getting the delivery of my phone. Dual speakers makes the sound quality very loud. Amazing!!', 'Good Camera', 'This is amazing at all', 'Camera is awesome\\nBest battery backup\\nA performer 👌🏻\\nIt will be a real value for money if they provide charger and earphone inbox!', 'Very very good', 'Value for money 😍', 'Photos super', 'V Good all', 'Super🔥 and good performance 👌❤️', 'It’s really awesome', 'Excellent Phone.', 'very good camera quality', 'NYC', 'iPhone 11 is a good phone. Not a very big difference between 12 except for the OLED screen and a very minor camera improvement which is you cant make a difference. If you are planning for a iPhone and you have budget you definitely can go for this without second thoughts.\\nNow some people are complaining and giving review 0 or so because there is no charger and headphones, but thats been already mentioned so I assume they are illiterate. Its not that Flipkart is removing them duh. Anyways bee...', 'It’s very good battery life and display and video quality and ther performance of iPhone.....🔥🔥🌈', 'Value for money 🖤🖤', 'Go for iPhone 11 , if confused between iPhone 11 or iPhone 12 mini.Battery Life is enhanced , it worked for complete 2 days without charging it. Explored new features of taking screenshot by clicking on apple logo by Haptic Touch , Portrait mode with stage effect enhanced & slow motion selfie.', 'Good product 👌I love iPhone', 'Really satisfied with the Product I received... It’s totally genuine and the packaging was also really good so if ur planning to buy just go for it.', 'Perfect Product!!', 'Feeling awesome after getting the delivery of my phone. Dual speakers makes the sound quality very loud. Amazing!!', 'Good Camera', 'This is amazing at all', 'Camera is awesome\\nBest battery backup\\nA performer 👌🏻\\nIt will be a real value for money if they provide charger and earphone inbox!', 'Very very good', 'Value for money 😍', 'Photos super', 'V Good all', 'Super🔥 and good performance 👌❤️', 'It’s really awesome', 'Excellent Phone.', 'very good camera quality', 'NYC', 'iPhone 11 is a good phone. Not a very big difference between 12 except for the OLED screen and a very minor camera improvement which is you cant make a difference. If you are planning for a iPhone and you have budget you definitely can go for this without second thoughts.\\nNow some people are complaining and giving review 0 or so because there is no charger and headphones, but thats been already mentioned so I assume they are illiterate. Its not that Flipkart is removing them duh. Anyways bee...', 'It’s very good battery life and display and video quality and ther performance of iPhone.....🔥🔥🌈', 'Value for money 🖤🖤', 'Go for iPhone 11 , if confused between iPhone 11 or iPhone 12 mini.Battery Life is enhanced , it worked for complete 2 days without charging it. Explored new features of taking screenshot by clicking on apple logo by Haptic Touch , Portrait mode with stage effect enhanced & slow motion selfie.', 'Good product 👌I love iPhone', 'Really satisfied with the Product I received... It’s totally genuine and the packaging was also really good so if ur planning to buy just go for it.', 'Perfect Product!!', 'Feeling awesome after getting the delivery of my phone. Dual speakers makes the sound quality very loud. Amazing!!', 'Good Camera', 'This is amazing at all', 'Camera is awesome\\nBest battery backup\\nA performer 👌🏻\\nIt will be a real value for money if they provide charger and earphone inbox!', 'Very very good', 'Value for money 😍', 'Photos super', 'V Good all', 'Super🔥 and good performance 👌❤️', 'It’s really awesome', 'Excellent Phone.', 'very good camera quality', 'NYC', 'iPhone 11 is a good phone. Not a very big difference between 12 except for the OLED screen and a very minor camera improvement which is you cant make a difference. If you are planning for a iPhone and you have budget you definitely can go for this without second thoughts.\\nNow some people are complaining and giving review 0 or so because there is no charger and headphones, but thats been already mentioned so I assume they are illiterate. Its not that Flipkart is removing them duh. Anyways bee...', 'It’s very good battery life and display and video quality and ther performance of iPhone.....🔥🔥🌈', 'Value for money 🖤🖤', 'Go for iPhone 11 , if confused between iPhone 11 or iPhone 12 mini.Battery Life is enhanced , it worked for complete 2 days without charging it. Explored new features of taking screenshot by clicking on apple logo by Haptic Touch , Portrait mode with stage effect enhanced & slow motion selfie.', 'Good product 👌I love iPhone', 'Really satisfied with the Product I received... It’s totally genuine and the packaging was also really good so if ur planning to buy just go for it.', 'Perfect Product!!', 'Feeling awesome after getting the delivery of my phone. Dual speakers makes the sound quality very loud. Amazing!!', 'Good Camera', 'This is amazing at all', 'Camera is awesome\\nBest battery backup\\nA performer 👌🏻\\nIt will be a real value for money if they provide charger and earphone inbox!', 'Very very good', 'Value for money 😍', 'Photos super', 'V Good all', 'Super🔥 and good performance 👌❤️', 'It’s really awesome', 'Excellent Phone.', 'very good camera quality', 'NYC', 'iPhone 11 is a good phone. Not a very big difference between 12 except for the OLED screen and a very minor camera improvement which is you cant make a difference. If you are planning for a iPhone and you have budget you definitely can go for this without second thoughts.\\nNow some people are complaining and giving review 0 or so because there is no charger and headphones, but thats been already mentioned so I assume they are illiterate. Its not that Flipkart is removing them duh. Anyways bee...', 'It’s very good battery life and display and video quality and ther performance of iPhone.....🔥🔥🌈', 'Value for money 🖤🖤', 'Go for iPhone 11 , if confused between iPhone 11 or iPhone 12 mini.Battery Life is enhanced , it worked for complete 2 days without charging it. Explored new features of taking screenshot by clicking on apple logo by Haptic Touch , Portrait mode with stage effect enhanced & slow motion selfie.', 'Good product 👌I love iPhone', 'Really satisfied with the Product I received... It’s totally genuine and the packaging was also really good so if ur planning to buy just go for it.', 'Perfect Product!!', 'Feeling awesome after getting the delivery of my phone. Dual speakers makes the sound quality very loud. Amazing!!', 'Good Camera', 'This is amazing at all', 'Camera is awesome\\nBest battery backup\\nA performer 👌🏻\\nIt will be a real value for money if they provide charger and earphone inbox!', 'Very very good', 'Value for money 😍', 'Photos super', 'V Good all', 'Super🔥 and good performance 👌❤️', 'It’s really awesome', 'Excellent Phone.', 'very good camera quality', 'NYC', 'iPhone 11 is a good phone. Not a very big difference between 12 except for the OLED screen and a very minor camera improvement which is you cant make a difference. If you are planning for a iPhone and you have budget you definitely can go for this without second thoughts.\\nNow some people are complaining and giving review 0 or so because there is no charger and headphones, but thats been already mentioned so I assume they are illiterate. Its not that Flipkart is removing them duh. Anyways bee...', 'It’s very good battery life and display and video quality and ther performance of iPhone.....🔥🔥🌈', 'Value for money 🖤🖤', 'Go for iPhone 11 , if confused between iPhone 11 or iPhone 12 mini.Battery Life is enhanced , it worked for complete 2 days without charging it. Explored new features of taking screenshot by clicking on apple logo by Haptic Touch , Portrait mode with stage effect enhanced & slow motion selfie.', 'Good product 👌I love iPhone', 'Really satisfied with the Product I received... It’s totally genuine and the packaging was also really good so if ur planning to buy just go for it.']\n"
     ]
    }
   ],
   "source": [
    "for i in range(0,10):\n",
    "    srev=dr.find_elements(By.XPATH,'//div[@class=\"t-ZTKy\"]/div/div')\n",
    "    for j in srev[0:10]:\n",
    "        psrev=j.text\n",
    "        pr_revs.append(psrev)\n",
    "    nxtbtn=dr.find_element(By.CLASS_NAME,'_1LKTO3')\n",
    "    nxtbtn.click()\n",
    "    time.sleep(3)\n",
    "print(len(pr_revs))\n",
    "print(pr_revs)"
   ]
  },
  {
   "cell_type": "code",
   "execution_count": 19,
   "id": "10bf9c2b",
   "metadata": {},
   "outputs": [
    {
     "data": {
      "text/html": [
       "<div>\n",
       "<style scoped>\n",
       "    .dataframe tbody tr th:only-of-type {\n",
       "        vertical-align: middle;\n",
       "    }\n",
       "\n",
       "    .dataframe tbody tr th {\n",
       "        vertical-align: top;\n",
       "    }\n",
       "\n",
       "    .dataframe thead th {\n",
       "        text-align: right;\n",
       "    }\n",
       "</style>\n",
       "<table border=\"1\" class=\"dataframe\">\n",
       "  <thead>\n",
       "    <tr style=\"text-align: right;\">\n",
       "      <th></th>\n",
       "      <th>Rating</th>\n",
       "      <th>Review Summary</th>\n",
       "      <th>Full Review</th>\n",
       "    </tr>\n",
       "  </thead>\n",
       "  <tbody>\n",
       "    <tr>\n",
       "      <th>0</th>\n",
       "      <td>5</td>\n",
       "      <td>Just wow!</td>\n",
       "      <td>Perfect Product!!</td>\n",
       "    </tr>\n",
       "    <tr>\n",
       "      <th>1</th>\n",
       "      <td>5</td>\n",
       "      <td>Worth every penny</td>\n",
       "      <td>Feeling awesome after getting the delivery of ...</td>\n",
       "    </tr>\n",
       "    <tr>\n",
       "      <th>2</th>\n",
       "      <td>5</td>\n",
       "      <td>Best in the market!</td>\n",
       "      <td>Good Camera</td>\n",
       "    </tr>\n",
       "    <tr>\n",
       "      <th>3</th>\n",
       "      <td>5</td>\n",
       "      <td>Wonderful</td>\n",
       "      <td>This is amazing at all</td>\n",
       "    </tr>\n",
       "    <tr>\n",
       "      <th>4</th>\n",
       "      <td>5</td>\n",
       "      <td>Classy product</td>\n",
       "      <td>Camera is awesome\\nBest battery backup\\nA perf...</td>\n",
       "    </tr>\n",
       "    <tr>\n",
       "      <th>...</th>\n",
       "      <td>...</td>\n",
       "      <td>...</td>\n",
       "      <td>...</td>\n",
       "    </tr>\n",
       "    <tr>\n",
       "      <th>95</th>\n",
       "      <td>5</td>\n",
       "      <td>Fabulous!</td>\n",
       "      <td>It’s very good battery life and display and vi...</td>\n",
       "    </tr>\n",
       "    <tr>\n",
       "      <th>96</th>\n",
       "      <td>5</td>\n",
       "      <td>Terrific purchase</td>\n",
       "      <td>Value for money 🖤🖤</td>\n",
       "    </tr>\n",
       "    <tr>\n",
       "      <th>97</th>\n",
       "      <td>5</td>\n",
       "      <td>Must buy!</td>\n",
       "      <td>Go for iPhone 11 , if confused between iPhone ...</td>\n",
       "    </tr>\n",
       "    <tr>\n",
       "      <th>98</th>\n",
       "      <td>5</td>\n",
       "      <td>Super!</td>\n",
       "      <td>Good product 👌I love iPhone</td>\n",
       "    </tr>\n",
       "    <tr>\n",
       "      <th>99</th>\n",
       "      <td>5</td>\n",
       "      <td>Simply awesome</td>\n",
       "      <td>Really satisfied with the Product I received.....</td>\n",
       "    </tr>\n",
       "  </tbody>\n",
       "</table>\n",
       "<p>100 rows × 3 columns</p>\n",
       "</div>"
      ],
      "text/plain": [
       "   Rating       Review Summary   \n",
       "0       5            Just wow!  \\\n",
       "1       5    Worth every penny   \n",
       "2       5  Best in the market!   \n",
       "3       5            Wonderful   \n",
       "4       5       Classy product   \n",
       "..    ...                  ...   \n",
       "95      5            Fabulous!   \n",
       "96      5    Terrific purchase   \n",
       "97      5            Must buy!   \n",
       "98      5               Super!   \n",
       "99      5       Simply awesome   \n",
       "\n",
       "                                          Full Review  \n",
       "0                                   Perfect Product!!  \n",
       "1   Feeling awesome after getting the delivery of ...  \n",
       "2                                         Good Camera  \n",
       "3                              This is amazing at all  \n",
       "4   Camera is awesome\\nBest battery backup\\nA perf...  \n",
       "..                                                ...  \n",
       "95  It’s very good battery life and display and vi...  \n",
       "96                                 Value for money 🖤🖤  \n",
       "97  Go for iPhone 11 , if confused between iPhone ...  \n",
       "98                        Good product 👌I love iPhone  \n",
       "99  Really satisfied with the Product I received.....  \n",
       "\n",
       "[100 rows x 3 columns]"
      ]
     },
     "execution_count": 19,
     "metadata": {},
     "output_type": "execute_result"
    }
   ],
   "source": [
    "df=pd.DataFrame({'Rating':pr_rat,'Review Summary':pr_rev,'Full Review':pr_revs})\n",
    "df"
   ]
  },
  {
   "cell_type": "code",
   "execution_count": null,
   "id": "405a3800",
   "metadata": {},
   "outputs": [],
   "source": []
  }
 ],
 "metadata": {
  "kernelspec": {
   "display_name": "Python 3 (ipykernel)",
   "language": "python",
   "name": "python3"
  },
  "language_info": {
   "codemirror_mode": {
    "name": "ipython",
    "version": 3
   },
   "file_extension": ".py",
   "mimetype": "text/x-python",
   "name": "python",
   "nbconvert_exporter": "python",
   "pygments_lexer": "ipython3",
   "version": "3.11.3"
  }
 },
 "nbformat": 4,
 "nbformat_minor": 5
}
