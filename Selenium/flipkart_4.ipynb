{
 "cells": [
  {
   "cell_type": "code",
   "execution_count": 1,
   "id": "ae93dcea",
   "metadata": {},
   "outputs": [],
   "source": [
    "import selenium\n",
    "from selenium import webdriver\n",
    "from selenium.webdriver.common.by import By\n",
    "import time\n",
    "import pandas as pd\n",
    "import warnings\n",
    "warnings.filterwarnings('ignore')"
   ]
  },
  {
   "cell_type": "code",
   "execution_count": 2,
   "id": "ac88d86d",
   "metadata": {},
   "outputs": [],
   "source": [
    "dr=webdriver.Chrome()"
   ]
  },
  {
   "cell_type": "code",
   "execution_count": 3,
   "id": "4e8d3304",
   "metadata": {},
   "outputs": [],
   "source": [
    "dr.get('https://www.flipkart.com/')"
   ]
  },
  {
   "cell_type": "code",
   "execution_count": 4,
   "id": "69a04593",
   "metadata": {},
   "outputs": [],
   "source": [
    "s_product=dr.find_element(By.CLASS_NAME,'Pke_EE')\n",
    "s_product.send_keys('sunglasses')"
   ]
  },
  {
   "cell_type": "code",
   "execution_count": 5,
   "id": "0a632640",
   "metadata": {},
   "outputs": [],
   "source": [
    "s_btn=dr.find_element(By.CLASS_NAME,'_2iLD__')\n",
    "s_btn.click()"
   ]
  },
  {
   "cell_type": "code",
   "execution_count": 46,
   "id": "ea675675",
   "metadata": {},
   "outputs": [],
   "source": [
    "pr_title=[]\n",
    "pr_disc=[]\n",
    "pr_price=[]\n"
   ]
  },
  {
   "cell_type": "code",
   "execution_count": 47,
   "id": "9548d175",
   "metadata": {},
   "outputs": [],
   "source": [
    "for i in range(0,3):\n",
    "    titles=dr.find_elements(By.XPATH,'//div[@class=\"_2WkVRV\"]')\n",
    "    for j in titles[0:40]:\n",
    "        #ptitle=j.text\n",
    "        pr_title.append(j.text)\n",
    "    nxtpg=dr.find_element(By.XPATH,'//a[@class=\"_1LKTO3\"]')\n",
    "    nxtpg.click()\n",
    "    time.sleep(3)\n"
   ]
  },
  {
   "cell_type": "code",
   "execution_count": 48,
   "id": "389610b3",
   "metadata": {},
   "outputs": [
    {
     "name": "stdout",
     "output_type": "stream",
     "text": [
      "120\n"
     ]
    }
   ],
   "source": [
    "print(len(pr_title))"
   ]
  },
  {
   "cell_type": "code",
   "execution_count": 17,
   "id": "510ac3c3",
   "metadata": {},
   "outputs": [
    {
     "data": {
      "text/plain": [
       "['SRPM',\n",
       " 'Elligator',\n",
       " 'VINCENT CHASE',\n",
       " 'Elligator',\n",
       " 'peter india',\n",
       " 'ROADWAY',\n",
       " 'VINCENT CHASE',\n",
       " 'Elligator',\n",
       " 'TheWhoop',\n",
       " 'Elligator',\n",
       " 'Rich Club',\n",
       " 'NOWWAY',\n",
       " 'ROADWAY',\n",
       " 'PIRASO',\n",
       " 'DEIXELS',\n",
       " 'VINCENT CHASE',\n",
       " 'Elligator',\n",
       " 'Bembika',\n",
       " 'ROYAL SON',\n",
       " 'PIRASO',\n",
       " 'PIRASO',\n",
       " 'ZUKER',\n",
       " 'Rich Club',\n",
       " 'VINCENT CHASE',\n",
       " 'VINCENT CHASE',\n",
       " 'ROZZETTA CRAFT',\n",
       " 'ROYAL SON',\n",
       " 'PIRASO',\n",
       " 'Elligator',\n",
       " 'Singco India',\n",
       " 'PIRASO',\n",
       " 'RBGIIT',\n",
       " 'VINCENT CHASE',\n",
       " 'VINCENT CHASE',\n",
       " 'ROZZETTA CRAFT',\n",
       " 'Elligator',\n",
       " 'Elligator',\n",
       " 'ROYAL SON',\n",
       " 'PIRASO',\n",
       " 'Fastrack',\n",
       " 'Singco India',\n",
       " 'Singco India',\n",
       " 'Fastrack',\n",
       " 'PIRASO',\n",
       " 'Elgator',\n",
       " 'ROZZETTA CRAFT',\n",
       " 'CLICKEDIN',\n",
       " 'Ray-Ban',\n",
       " 'PIRASO',\n",
       " 'Singco India',\n",
       " 'Rich Club',\n",
       " 'PIRASO',\n",
       " 'ROYAL SON',\n",
       " 'iCopertina',\n",
       " 'ROYAL SON',\n",
       " 'Fastrack',\n",
       " 'Fastrack',\n",
       " 'Singco India',\n",
       " 'PC STAR',\n",
       " 'HRX by Hrithik Roshan',\n",
       " 'ROYAL SON',\n",
       " 'Eyewearlabs',\n",
       " 'VINCENT CHASE',\n",
       " 'SRPM',\n",
       " 'Roadster',\n",
       " 'VINCENT CHASE',\n",
       " 'VINCENT CHASE',\n",
       " 'Eyenaks',\n",
       " 'hipe',\n",
       " 'hayden haiza',\n",
       " 'PIRASO',\n",
       " 'BKGE',\n",
       " 'NuVew',\n",
       " 'ROZZETTA CRAFT',\n",
       " 'PROVOGUE',\n",
       " 'Ray-Ban',\n",
       " 'ROZZETTA CRAFT',\n",
       " 'Eyenaks',\n",
       " 'Fastrack',\n",
       " 'VINCENT CHASE',\n",
       " 'SRPM',\n",
       " 'Elligator',\n",
       " 'VINCENT CHASE',\n",
       " 'Elligator',\n",
       " 'peter india',\n",
       " 'ROADWAY',\n",
       " 'VINCENT CHASE',\n",
       " 'Elligator',\n",
       " 'TheWhoop',\n",
       " 'Elligator',\n",
       " 'Rich Club',\n",
       " 'NOWWAY',\n",
       " 'ROADWAY',\n",
       " 'PIRASO',\n",
       " 'DEIXELS',\n",
       " 'VINCENT CHASE',\n",
       " 'Elligator',\n",
       " 'Bembika',\n",
       " 'ROYAL SON',\n",
       " 'PIRASO']"
      ]
     },
     "execution_count": 17,
     "metadata": {},
     "output_type": "execute_result"
    }
   ],
   "source": [
    "pr_title[0:100]"
   ]
  },
  {
   "cell_type": "code",
   "execution_count": 49,
   "id": "ada11669",
   "metadata": {},
   "outputs": [
    {
     "name": "stdout",
     "output_type": "stream",
     "text": [
      "120\n",
      "['UV Protection Round Sunglasses (54)', 'UV Protection Aviator Sunglasses (58)', 'UV Protection Aviator Sunglasses (54)', 'Polarized, UV Protection Wayfarer, Retro Square Sunglas...', 'UV Protection Shield Sunglasses (Free Size)', 'UV Protection Wayfarer Sunglasses (32)', 'UV Protection Aviator, Wayfarer Sunglasses (55)', 'UV Protection Over-sized Sunglasses (60)', 'Polarized Rectangular Sunglasses (60)', 'UV Protection Retro Square Sunglasses (Free Size)', 'UV Protection Retro Square Sunglasses (54)', 'Gradient, Toughened Glass Lens, UV Protection Retro Squ...', 'by Lenskart UV Protection Clubmaster Sunglasses (55)', 'UV Protection Wayfarer Sunglasses (Free Size)', 'UV Protection, Riding Glasses Rectangular Sunglasses (5...', 'Polarized Rectangular Sunglasses (57)', 'Polarized, UV Protection Retro Square Sunglasses (55)', 'UV Protection Cat-eye Sunglasses (55)', 'UV Protection Retro Square Sunglasses (Free Size)', 'UV Protection, Riding Glasses Retro Square Sunglasses (...', 'by Lenskart UV Protection Retro Square Sunglasses (50)', 'Polarized, UV Protection Wayfarer Sunglasses (51)', 'UV Protection, Gradient Aviator Sunglasses (56)', 'Gradient Aviator Sunglasses (58)', 'UV Protection Rectangular Sunglasses (Free Size)', 'by Lenskart Polarized, UV Protection Round Sunglasses (...', 'UV Protection, Riding Glasses, Polarized Wayfarer Sungl...', 'Polarized, UV Protection Retro Square Sunglasses (55)', 'UV Protection Retro Square Sunglasses (Free Size)', 'UV Protection Round Sunglasses (Free Size)', 'Night Vision, UV Protection, Riding Glasses Wrap-around...', 'by Lenskart Polarized, UV Protection Aviator Sunglasses...', 'Gradient, UV Protection Aviator Sunglasses (62)', 'UV Protection Rectangular Sunglasses (Free Size)', 'UV Protection Retro Square Sunglasses (54)', 'Polarized Wayfarer Sunglasses (55)', 'by Lenskart Polarized, UV Protection Cat-eye Sunglasses...', 'Polarized Aviator Sunglasses (59)', 'by Lenskart Polarized, UV Protection Round Sunglasses (...', 'UV Protection Aviator Sunglasses (62)', 'UV Protection Wayfarer Sunglasses (50)', 'UV Protection Retro Square Sunglasses (54)', 'UV Protection, Mirrored Wayfarer Sunglasses (52)', 'by Lenskart UV Protection Wayfarer Sunglasses (59)', 'Polarized Aviator Sunglasses (Free Size)', 'UV Protection Wayfarer Sunglasses (Free Size)', 'UV Protection Retro Square, Wayfarer, Sports Sunglasses...', 'by Lenskart Polarized, UV Protection Wayfarer Sunglasse...', 'UV Protection Wayfarer Sunglasses (Free Size)', 'UV Protection Wayfarer Sunglasses (53)', 'UV Protection Cat-eye, Retro Square, Oval, Round Sungla...', 'UV Protection Rectangular Sunglasses (Free Size)', 'UV Protection Retro Square Sunglasses (54)', 'UV Protection Aviator Sunglasses (54)', 'by Lenskart Polarized, UV Protection Wayfarer Sunglasse...', 'Polarized, UV Protection, Riding Glasses Wayfarer Sungl...', 'UV Protection Wayfarer Sunglasses (50)', 'UV Protection Spectacle Sunglasses (Free Size)', 'UV Protection Butterfly Sunglasses (60)', 'UV Protection Butterfly Sunglasses (60)', 'UV Protection Rectangular Sunglasses (52)', 'Polarized Round Sunglasses (Free Size)', 'by Lenskart Polarized, UV Protection Retro Square Sungl...', 'Polarized, UV Protection Aviator Sunglasses (58)', 'UV Protection Round Sunglasses (53)', 'UV Protection Retro Square Sunglasses (54)', 'UV Protection Butterfly Sunglasses (60)', 'UV Protection, Riding Glasses, Gradient Clubmaster Sung...', 'Night Vision, UV Protection, Polarized Wrap-around Sung...', 'Polarized, UV Protection Retro Square Sunglasses (61)', 'Polarized, UV Protection Sports Sunglasses (68)', 'by Lenskart Polarized, UV Protection Cat-eye Sunglasses...', 'Polarized, Night Vision, Riding Glasses Sports, Wrap-ar...', 'UV Protection Oval Sunglasses (60)', 'UV Protection Over-sized Sunglasses (60)', 'UV Protection Round Sunglasses (53)', 'Riding Glasses, UV Protection Clubmaster, Wayfarer Sung...', 'by Lenskart Polarized, UV Protection Rectangular Sungla...', 'UV Protection Rectangular Sunglasses (Free Size)', 'UV Protection Spectacle Sunglasses (Free Size)', 'UV Protection Round Sunglasses (54)', 'UV Protection Aviator Sunglasses (58)', 'UV Protection Aviator Sunglasses (54)', 'Polarized, UV Protection Wayfarer, Retro Square Sunglas...', 'UV Protection Shield Sunglasses (Free Size)', 'UV Protection Wayfarer Sunglasses (32)', 'UV Protection Aviator, Wayfarer Sunglasses (55)', 'UV Protection Over-sized Sunglasses (60)', 'Polarized Rectangular Sunglasses (60)', 'UV Protection Retro Square Sunglasses (Free Size)', 'UV Protection Retro Square Sunglasses (54)', 'Gradient, Toughened Glass Lens, UV Protection Retro Squ...', 'by Lenskart UV Protection Clubmaster Sunglasses (55)', 'UV Protection Wayfarer Sunglasses (Free Size)', 'UV Protection, Riding Glasses Rectangular Sunglasses (5...', 'Polarized Rectangular Sunglasses (57)', 'Polarized, UV Protection Retro Square Sunglasses (55)', 'UV Protection Cat-eye Sunglasses (55)', 'UV Protection Retro Square Sunglasses (Free Size)', 'UV Protection, Riding Glasses Retro Square Sunglasses (...', 'by Lenskart UV Protection Retro Square Sunglasses (50)', 'Polarized, UV Protection Wayfarer Sunglasses (51)', 'UV Protection, Gradient Aviator Sunglasses (56)', 'Gradient Aviator Sunglasses (58)', 'UV Protection Rectangular Sunglasses (Free Size)', 'by Lenskart Polarized, UV Protection Round Sunglasses (...', 'UV Protection, Riding Glasses, Polarized Wayfarer Sungl...', 'Polarized, UV Protection Retro Square Sunglasses (55)', 'UV Protection Retro Square Sunglasses (Free Size)', 'UV Protection Round Sunglasses (Free Size)', 'Night Vision, UV Protection, Riding Glasses Wrap-around...', 'by Lenskart Polarized, UV Protection Aviator Sunglasses...', 'Gradient, UV Protection Aviator Sunglasses (62)', 'UV Protection Rectangular Sunglasses (Free Size)', 'UV Protection Retro Square Sunglasses (54)', 'Polarized Wayfarer Sunglasses (55)', 'by Lenskart Polarized, UV Protection Cat-eye Sunglasses...', 'Polarized Aviator Sunglasses (59)', 'by Lenskart Polarized, UV Protection Round Sunglasses (...', 'UV Protection Aviator Sunglasses (62)']\n"
     ]
    }
   ],
   "source": [
    "for i in range(0,3):\n",
    "    disc=dr.find_elements(By.XPATH,'//div[@class=\"_2B099V\"]/a[1]')\n",
    "    for j in disc[0:40]:\n",
    "        pdisc=j.text\n",
    "        pr_disc.append(pdisc)\n",
    "    nxtbtn=dr.find_element(By.CLASS_NAME,'_1LKTO3')\n",
    "    nxtbtn.click()\n",
    "    time.sleep(3)\n",
    "print(len(pr_disc))\n",
    "print(pr_disc)"
   ]
  },
  {
   "cell_type": "code",
   "execution_count": 50,
   "id": "68e59e24",
   "metadata": {},
   "outputs": [
    {
     "name": "stdout",
     "output_type": "stream",
     "text": [
      "120\n",
      "['₹149', '₹149', '₹169', '₹523', '₹220', '₹179', '₹129', '₹499', '₹539', '₹149', '₹149', '₹299', '₹487', '₹210', '₹499', '₹187', '₹168', '₹189', '₹388', '₹299', '₹394', '₹699', '₹811', '₹636', '₹159', '₹232', '₹299', '₹249', '₹229', '₹594', '₹1,039', '₹499', '₹482', '₹934', '₹279', '₹169', '₹317', '₹799', '₹659', '₹381', '₹249', '₹4,659', '₹199', '₹375', '₹739', '₹199', '₹179', '₹279', '₹594', '₹130', '₹455', '₹590', '₹749', '₹739', '₹369', '₹779', '₹551', '₹244', '₹299', '₹309', '₹829', '₹1,236', '₹299', '₹299', '₹346', '₹759', '₹1,250', '₹159', '₹459', '₹643', '₹229', '₹829', '₹4,279', '₹441', '₹399', '₹9,509', '₹883', '₹1,380', '₹749', '₹597', '₹149', '₹149', '₹169', '₹523', '₹220', '₹179', '₹129', '₹499', '₹539', '₹149', '₹149', '₹299', '₹487', '₹210', '₹499', '₹187', '₹168', '₹189', '₹388', '₹299', '₹394', '₹699', '₹811', '₹636', '₹159', '₹232', '₹299', '₹249', '₹229', '₹594', '₹1,039', '₹499', '₹482', '₹934', '₹279', '₹169', '₹317', '₹799', '₹659', '₹381']\n"
     ]
    }
   ],
   "source": [
    "for i in range(0,3):\n",
    "    price=dr.find_elements(By.XPATH,'//div[@class=\"_30jeq3\"]')\n",
    "    for j in price[0:40]:\n",
    "        prprice=j.text\n",
    "        pr_price.append(prprice)\n",
    "    nxtbtn=dr.find_element(By.CLASS_NAME,'_1LKTO3')\n",
    "    nxtbtn.click()\n",
    "    time.sleep(3)\n",
    "print(len(pr_price))\n",
    "print(pr_price)"
   ]
  },
  {
   "cell_type": "code",
   "execution_count": 35,
   "id": "9924bf44",
   "metadata": {},
   "outputs": [
    {
     "data": {
      "text/plain": [
       "'₹381'"
      ]
     },
     "execution_count": 35,
     "metadata": {},
     "output_type": "execute_result"
    }
   ],
   "source": [
    "pr_price[43]"
   ]
  },
  {
   "cell_type": "code",
   "execution_count": 51,
   "id": "fb5c7e21",
   "metadata": {},
   "outputs": [
    {
     "data": {
      "text/html": [
       "<div>\n",
       "<style scoped>\n",
       "    .dataframe tbody tr th:only-of-type {\n",
       "        vertical-align: middle;\n",
       "    }\n",
       "\n",
       "    .dataframe tbody tr th {\n",
       "        vertical-align: top;\n",
       "    }\n",
       "\n",
       "    .dataframe thead th {\n",
       "        text-align: right;\n",
       "    }\n",
       "</style>\n",
       "<table border=\"1\" class=\"dataframe\">\n",
       "  <thead>\n",
       "    <tr style=\"text-align: right;\">\n",
       "      <th></th>\n",
       "      <th>Brand</th>\n",
       "      <th>Discription</th>\n",
       "      <th>Price</th>\n",
       "    </tr>\n",
       "  </thead>\n",
       "  <tbody>\n",
       "    <tr>\n",
       "      <th>0</th>\n",
       "      <td>SRPM</td>\n",
       "      <td>UV Protection Round Sunglasses (54)</td>\n",
       "      <td>₹149</td>\n",
       "    </tr>\n",
       "    <tr>\n",
       "      <th>1</th>\n",
       "      <td>Elligator</td>\n",
       "      <td>UV Protection Aviator Sunglasses (58)</td>\n",
       "      <td>₹149</td>\n",
       "    </tr>\n",
       "    <tr>\n",
       "      <th>2</th>\n",
       "      <td>Elligator</td>\n",
       "      <td>UV Protection Aviator Sunglasses (54)</td>\n",
       "      <td>₹169</td>\n",
       "    </tr>\n",
       "    <tr>\n",
       "      <th>3</th>\n",
       "      <td>VINCENT CHASE</td>\n",
       "      <td>Polarized, UV Protection Wayfarer, Retro Squar...</td>\n",
       "      <td>₹523</td>\n",
       "    </tr>\n",
       "    <tr>\n",
       "      <th>4</th>\n",
       "      <td>peter india</td>\n",
       "      <td>UV Protection Shield Sunglasses (Free Size)</td>\n",
       "      <td>₹220</td>\n",
       "    </tr>\n",
       "    <tr>\n",
       "      <th>...</th>\n",
       "      <td>...</td>\n",
       "      <td>...</td>\n",
       "      <td>...</td>\n",
       "    </tr>\n",
       "    <tr>\n",
       "      <th>95</th>\n",
       "      <td>DEIXELS</td>\n",
       "      <td>Polarized Rectangular Sunglasses (57)</td>\n",
       "      <td>₹187</td>\n",
       "    </tr>\n",
       "    <tr>\n",
       "      <th>96</th>\n",
       "      <td>Elligator</td>\n",
       "      <td>Polarized, UV Protection Retro Square Sunglass...</td>\n",
       "      <td>₹168</td>\n",
       "    </tr>\n",
       "    <tr>\n",
       "      <th>97</th>\n",
       "      <td>Bembika</td>\n",
       "      <td>UV Protection Cat-eye Sunglasses (55)</td>\n",
       "      <td>₹189</td>\n",
       "    </tr>\n",
       "    <tr>\n",
       "      <th>98</th>\n",
       "      <td>PIRASO</td>\n",
       "      <td>UV Protection Retro Square Sunglasses (Free Size)</td>\n",
       "      <td>₹388</td>\n",
       "    </tr>\n",
       "    <tr>\n",
       "      <th>99</th>\n",
       "      <td>PIRASO</td>\n",
       "      <td>UV Protection, Riding Glasses Retro Square Sun...</td>\n",
       "      <td>₹299</td>\n",
       "    </tr>\n",
       "  </tbody>\n",
       "</table>\n",
       "<p>100 rows × 3 columns</p>\n",
       "</div>"
      ],
      "text/plain": [
       "            Brand                                        Discription Price\n",
       "0            SRPM                UV Protection Round Sunglasses (54)  ₹149\n",
       "1       Elligator              UV Protection Aviator Sunglasses (58)  ₹149\n",
       "2       Elligator              UV Protection Aviator Sunglasses (54)  ₹169\n",
       "3   VINCENT CHASE  Polarized, UV Protection Wayfarer, Retro Squar...  ₹523\n",
       "4     peter india        UV Protection Shield Sunglasses (Free Size)  ₹220\n",
       "..            ...                                                ...   ...\n",
       "95        DEIXELS              Polarized Rectangular Sunglasses (57)  ₹187\n",
       "96      Elligator  Polarized, UV Protection Retro Square Sunglass...  ₹168\n",
       "97        Bembika              UV Protection Cat-eye Sunglasses (55)  ₹189\n",
       "98         PIRASO  UV Protection Retro Square Sunglasses (Free Size)  ₹388\n",
       "99         PIRASO  UV Protection, Riding Glasses Retro Square Sun...  ₹299\n",
       "\n",
       "[100 rows x 3 columns]"
      ]
     },
     "execution_count": 51,
     "metadata": {},
     "output_type": "execute_result"
    }
   ],
   "source": [
    "df=pd.DataFrame({'Brand':pr_title[0:100],'Discription':pr_disc[0:100],'Price':pr_price[0:100]})\n",
    "df"
   ]
  },
  {
   "cell_type": "code",
   "execution_count": 52,
   "id": "ca0347b2",
   "metadata": {},
   "outputs": [
    {
     "name": "stdout",
     "output_type": "stream",
     "text": [
      "120\n",
      "120\n",
      "120\n"
     ]
    }
   ],
   "source": [
    "print(len(pr_title))\n",
    "print(len(pr_disc))\n",
    "print(len(pr_price))"
   ]
  },
  {
   "cell_type": "code",
   "execution_count": null,
   "id": "7a0f1ed6",
   "metadata": {},
   "outputs": [],
   "source": []
  }
 ],
 "metadata": {
  "kernelspec": {
   "display_name": "Python 3 (ipykernel)",
   "language": "python",
   "name": "python3"
  },
  "language_info": {
   "codemirror_mode": {
    "name": "ipython",
    "version": 3
   },
   "file_extension": ".py",
   "mimetype": "text/x-python",
   "name": "python",
   "nbconvert_exporter": "python",
   "pygments_lexer": "ipython3",
   "version": "3.11.3"
  }
 },
 "nbformat": 4,
 "nbformat_minor": 5
}
