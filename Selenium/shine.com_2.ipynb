{
 "cells": [
  {
   "cell_type": "code",
   "execution_count": 16,
   "id": "3b620669",
   "metadata": {},
   "outputs": [],
   "source": [
    "import selenium\n",
    "from selenium import webdriver\n",
    "from selenium.webdriver.common.by import By\n",
    "import time\n",
    "import pandas as pd\n",
    "import warnings\n",
    "warnings.filterwarnings('ignore')"
   ]
  },
  {
   "cell_type": "code",
   "execution_count": 17,
   "id": "20989392",
   "metadata": {},
   "outputs": [],
   "source": [
    "dr=webdriver.Chrome()"
   ]
  },
  {
   "cell_type": "code",
   "execution_count": 18,
   "id": "f014162b",
   "metadata": {},
   "outputs": [],
   "source": [
    "dr.get('https://www.shine.com/')"
   ]
  },
  {
   "cell_type": "code",
   "execution_count": 23,
   "id": "7aee9127",
   "metadata": {},
   "outputs": [],
   "source": [
    "j_title=dr.find_element(By.XPATH,'/html/body/div/div[4]/div/div[2]/div[2]/div/form/div/div[1]/ul/li[1]/div/input')\n",
    "j_title.send_keys('Data Scientist')"
   ]
  },
  {
   "cell_type": "code",
   "execution_count": 24,
   "id": "78721b53",
   "metadata": {},
   "outputs": [],
   "source": [
    "j_loc=dr.find_element(By.XPATH,'/html/body/div/div[4]/div/div[2]/div[2]/div/form/div/div[1]/ul/li[2]/div/input')\n",
    "j_loc.send_keys('Banglore')"
   ]
  },
  {
   "cell_type": "code",
   "execution_count": 25,
   "id": "318c163e",
   "metadata": {},
   "outputs": [],
   "source": [
    "s_btn=dr.find_element(By.CLASS_NAME,'searchForm_btnWrap_advance__VYBHN')\n",
    "s_btn.click()"
   ]
  },
  {
   "cell_type": "code",
   "execution_count": 26,
   "id": "c4d18d25",
   "metadata": {},
   "outputs": [],
   "source": [
    "job_name=[]\n",
    "com_name=[]\n",
    "job_loc=[]\n",
    "job_exp=[]"
   ]
  },
  {
   "cell_type": "code",
   "execution_count": 27,
   "id": "0952a218",
   "metadata": {},
   "outputs": [
    {
     "name": "stdout",
     "output_type": "stream",
     "text": [
      "10\n",
      "['Data Scientist', 'Lead Data Scientist/ Principal Data Scientist', 'Senior Data Scientist', 'Vacancy For Data Scientist Fresher and Experience', 'Lead Data Scientist', 'Data Scientist', 'Data Scientist', 'Data Scientist Urgent Vacancy', 'Pharma Data Scientist', 'Hiring For Data Scientist']\n"
     ]
    }
   ],
   "source": [
    "j_name=dr.find_elements(By.XPATH,'//div[@class=\"jobCard_jobCard__jjUmu  white-box-border jobCard\"]/div/h2/a')\n",
    "for i in j_name[0:10]:\n",
    "    jname=i.text\n",
    "    job_name.append(jname)\n",
    "print(len(job_name))\n",
    "print(job_name)"
   ]
  },
  {
   "cell_type": "code",
   "execution_count": 28,
   "id": "636cd2d2",
   "metadata": {},
   "outputs": [
    {
     "name": "stdout",
     "output_type": "stream",
     "text": [
      "10\n",
      "['acme services private limited', 'ltimindtree limited', 'fractal', 'neostats', 'yogita staffing solution', 'aereo', 'people staffing solutions', 'diraa hr services', 'yogita staffing solution', 'quiscon biotech']\n"
     ]
    }
   ],
   "source": [
    "c_name=dr.find_elements(By.XPATH,'//div[@class=\"jobCard_jobCard_cName__mYnow\"]/span')\n",
    "for i in c_name[0:10]:\n",
    "    cname=i.text\n",
    "    com_name.append(cname)\n",
    "print(len(com_name))\n",
    "print(com_name)"
   ]
  },
  {
   "cell_type": "code",
   "execution_count": 30,
   "id": "7dc0b510",
   "metadata": {},
   "outputs": [
    {
     "name": "stdout",
     "output_type": "stream",
     "text": [
      "10\n",
      "['Gurugram\\n+4', 'Bangalore', 'Bangalore\\n+1', 'Bangalore\\n+1', 'Canada\\n+14', 'Bangalore\\n+1', 'Gurugram\\n+7', 'Bangalore\\n+2', 'Canada\\n+14', 'Mumbai City\\n+4']\n"
     ]
    }
   ],
   "source": [
    "j_loc=dr.find_elements(By.XPATH,'//div[@class=\" jobCard_jobCard_lists_item__YxRkV jobCard_locationIcon__zrWt2\"]')\n",
    "for i in j_loc[0:10]:\n",
    "    jloc=i.text\n",
    "    job_loc.append(jloc)\n",
    "print(len(job_loc))\n",
    "print(job_loc)"
   ]
  },
  {
   "cell_type": "code",
   "execution_count": 32,
   "id": "739899a4",
   "metadata": {},
   "outputs": [
    {
     "name": "stdout",
     "output_type": "stream",
     "text": [
      "10\n",
      "['3 to 5 Yrs', '6 to 8 Yrs', '5 to 9 Yrs', '7 to 11 Yrs', '0 to 3 Yrs', '7 to 10 Yrs', '4 to 9 Yrs', '0 to 4 Yrs', '0 to 3 Yrs', '0 to 1 Yr']\n"
     ]
    }
   ],
   "source": [
    "j_exp=dr.find_elements(By.XPATH,'//div[@class=\" jobCard_jobCard_lists_item__YxRkV jobCard_jobIcon__3FB1t\"]')\n",
    "for i in j_exp[0:10]:\n",
    "    jexp=i.text\n",
    "    job_exp.append(jexp)\n",
    "print(len(job_exp))\n",
    "print(job_exp)"
   ]
  },
  {
   "cell_type": "code",
   "execution_count": 34,
   "id": "97dd4472",
   "metadata": {},
   "outputs": [
    {
     "data": {
      "text/html": [
       "<div>\n",
       "<style scoped>\n",
       "    .dataframe tbody tr th:only-of-type {\n",
       "        vertical-align: middle;\n",
       "    }\n",
       "\n",
       "    .dataframe tbody tr th {\n",
       "        vertical-align: top;\n",
       "    }\n",
       "\n",
       "    .dataframe thead th {\n",
       "        text-align: right;\n",
       "    }\n",
       "</style>\n",
       "<table border=\"1\" class=\"dataframe\">\n",
       "  <thead>\n",
       "    <tr style=\"text-align: right;\">\n",
       "      <th></th>\n",
       "      <th>Job TItle</th>\n",
       "      <th>Company Name</th>\n",
       "      <th>Experience</th>\n",
       "      <th>Location</th>\n",
       "    </tr>\n",
       "  </thead>\n",
       "  <tbody>\n",
       "    <tr>\n",
       "      <th>0</th>\n",
       "      <td>Data Scientist</td>\n",
       "      <td>acme services private limited</td>\n",
       "      <td>3 to 5 Yrs</td>\n",
       "      <td>Gurugram\\n+4</td>\n",
       "    </tr>\n",
       "    <tr>\n",
       "      <th>1</th>\n",
       "      <td>Lead Data Scientist/ Principal Data Scientist</td>\n",
       "      <td>ltimindtree limited</td>\n",
       "      <td>6 to 8 Yrs</td>\n",
       "      <td>Bangalore</td>\n",
       "    </tr>\n",
       "    <tr>\n",
       "      <th>2</th>\n",
       "      <td>Senior Data Scientist</td>\n",
       "      <td>fractal</td>\n",
       "      <td>5 to 9 Yrs</td>\n",
       "      <td>Bangalore\\n+1</td>\n",
       "    </tr>\n",
       "    <tr>\n",
       "      <th>3</th>\n",
       "      <td>Vacancy For Data Scientist Fresher and Experience</td>\n",
       "      <td>neostats</td>\n",
       "      <td>7 to 11 Yrs</td>\n",
       "      <td>Bangalore\\n+1</td>\n",
       "    </tr>\n",
       "    <tr>\n",
       "      <th>4</th>\n",
       "      <td>Lead Data Scientist</td>\n",
       "      <td>yogita staffing solution</td>\n",
       "      <td>0 to 3 Yrs</td>\n",
       "      <td>Canada\\n+14</td>\n",
       "    </tr>\n",
       "    <tr>\n",
       "      <th>5</th>\n",
       "      <td>Data Scientist</td>\n",
       "      <td>aereo</td>\n",
       "      <td>7 to 10 Yrs</td>\n",
       "      <td>Bangalore\\n+1</td>\n",
       "    </tr>\n",
       "    <tr>\n",
       "      <th>6</th>\n",
       "      <td>Data Scientist</td>\n",
       "      <td>people staffing solutions</td>\n",
       "      <td>4 to 9 Yrs</td>\n",
       "      <td>Gurugram\\n+7</td>\n",
       "    </tr>\n",
       "    <tr>\n",
       "      <th>7</th>\n",
       "      <td>Data Scientist Urgent Vacancy</td>\n",
       "      <td>diraa hr services</td>\n",
       "      <td>0 to 4 Yrs</td>\n",
       "      <td>Bangalore\\n+2</td>\n",
       "    </tr>\n",
       "    <tr>\n",
       "      <th>8</th>\n",
       "      <td>Pharma Data Scientist</td>\n",
       "      <td>yogita staffing solution</td>\n",
       "      <td>0 to 3 Yrs</td>\n",
       "      <td>Canada\\n+14</td>\n",
       "    </tr>\n",
       "    <tr>\n",
       "      <th>9</th>\n",
       "      <td>Hiring For Data Scientist</td>\n",
       "      <td>quiscon biotech</td>\n",
       "      <td>0 to 1 Yr</td>\n",
       "      <td>Mumbai City\\n+4</td>\n",
       "    </tr>\n",
       "  </tbody>\n",
       "</table>\n",
       "</div>"
      ],
      "text/plain": [
       "                                           Job TItle   \n",
       "0                                     Data Scientist  \\\n",
       "1      Lead Data Scientist/ Principal Data Scientist   \n",
       "2                              Senior Data Scientist   \n",
       "3  Vacancy For Data Scientist Fresher and Experience   \n",
       "4                                Lead Data Scientist   \n",
       "5                                     Data Scientist   \n",
       "6                                     Data Scientist   \n",
       "7                      Data Scientist Urgent Vacancy   \n",
       "8                              Pharma Data Scientist   \n",
       "9                          Hiring For Data Scientist   \n",
       "\n",
       "                    Company Name   Experience         Location  \n",
       "0  acme services private limited   3 to 5 Yrs     Gurugram\\n+4  \n",
       "1            ltimindtree limited   6 to 8 Yrs        Bangalore  \n",
       "2                        fractal   5 to 9 Yrs    Bangalore\\n+1  \n",
       "3                       neostats  7 to 11 Yrs    Bangalore\\n+1  \n",
       "4       yogita staffing solution   0 to 3 Yrs      Canada\\n+14  \n",
       "5                          aereo  7 to 10 Yrs    Bangalore\\n+1  \n",
       "6      people staffing solutions   4 to 9 Yrs     Gurugram\\n+7  \n",
       "7              diraa hr services   0 to 4 Yrs    Bangalore\\n+2  \n",
       "8       yogita staffing solution   0 to 3 Yrs      Canada\\n+14  \n",
       "9                quiscon biotech    0 to 1 Yr  Mumbai City\\n+4  "
      ]
     },
     "execution_count": 34,
     "metadata": {},
     "output_type": "execute_result"
    }
   ],
   "source": [
    "df=pd.DataFrame({'Job TItle':job_name,'Company Name':com_name,'Experience':job_exp,'Location':job_loc})\n",
    "df"
   ]
  },
  {
   "cell_type": "code",
   "execution_count": null,
   "id": "07cc6c85",
   "metadata": {},
   "outputs": [],
   "source": []
  }
 ],
 "metadata": {
  "kernelspec": {
   "display_name": "Python 3 (ipykernel)",
   "language": "python",
   "name": "python3"
  },
  "language_info": {
   "codemirror_mode": {
    "name": "ipython",
    "version": 3
   },
   "file_extension": ".py",
   "mimetype": "text/x-python",
   "name": "python",
   "nbconvert_exporter": "python",
   "pygments_lexer": "ipython3",
   "version": "3.11.3"
  }
 },
 "nbformat": 4,
 "nbformat_minor": 5
}
