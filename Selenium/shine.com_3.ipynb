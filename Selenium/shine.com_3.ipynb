{
 "cells": [
  {
   "cell_type": "code",
   "execution_count": 1,
   "id": "98ff2f7c",
   "metadata": {},
   "outputs": [],
   "source": [
    "import selenium\n",
    "from selenium import webdriver\n",
    "from selenium.webdriver.common.by import By\n",
    "import pandas as pd\n",
    "import warnings\n",
    "warnings.filterwarnings('ignore')"
   ]
  },
  {
   "cell_type": "code",
   "execution_count": 2,
   "id": "08cece7a",
   "metadata": {},
   "outputs": [],
   "source": [
    "dr=webdriver.Chrome()"
   ]
  },
  {
   "cell_type": "code",
   "execution_count": 3,
   "id": "42383f84",
   "metadata": {},
   "outputs": [],
   "source": [
    "dr.get('https://www.shine.com/')"
   ]
  },
  {
   "cell_type": "code",
   "execution_count": 5,
   "id": "c8117e8a",
   "metadata": {},
   "outputs": [],
   "source": [
    "skills=dr.find_element(By.XPATH,'/html/body/div/div[1]/div/div/div[1]/div[1]/div/div[2]/div/div/form/div/div[1]/ul/li[1]/div/input')\n",
    "skills.send_keys('Data Scientist')"
   ]
  },
  {
   "cell_type": "code",
   "execution_count": 7,
   "id": "535fe949",
   "metadata": {},
   "outputs": [],
   "source": [
    "s_btn=dr.find_element(By.CLASS_NAME,'searchForm_btnWrap_advance__VYBHN')\n",
    "s_btn.click()"
   ]
  },
  {
   "cell_type": "code",
   "execution_count": 8,
   "id": "8e20479e",
   "metadata": {},
   "outputs": [],
   "source": [
    "f_locbtn=dr.find_element(By.CLASS_NAME,'filter_filterBtn__FAqUy ')\n",
    "f_locbtn.click()"
   ]
  },
  {
   "cell_type": "code",
   "execution_count": 9,
   "id": "711d411d",
   "metadata": {},
   "outputs": [],
   "source": [
    "f_loc=dr.find_element(By.CLASS_NAME,'form-control')\n",
    "f_loc.send_keys('Delhi')"
   ]
  },
  {
   "cell_type": "code",
   "execution_count": 13,
   "id": "18dd9334",
   "metadata": {},
   "outputs": [],
   "source": [
    "s_loc=dr.find_element(By.XPATH,'/html/body/div[2]/div/div/div/div[3]/div/div/div/ul/li[2]/span/label')\n",
    "s_loc.click()"
   ]
  },
  {
   "cell_type": "code",
   "execution_count": 18,
   "id": "f016db2f",
   "metadata": {},
   "outputs": [],
   "source": [
    "f_salary=dr.find_element(By.XPATH,'/html/body/div[3]/div/div/div/div[3]/div/ul/li[3]')\n",
    "f_salary.click()"
   ]
  },
  {
   "cell_type": "code",
   "execution_count": 19,
   "id": "be7e4420",
   "metadata": {},
   "outputs": [],
   "source": [
    "f_salary=dr.find_element(By.CLASS_NAME,\"form-control\")\n",
    "f_salary.send_keys('3 to 5 ')"
   ]
  },
  {
   "cell_type": "code",
   "execution_count": 20,
   "id": "97d13636",
   "metadata": {},
   "outputs": [],
   "source": [
    "f_salbtn=dr.find_element(By.XPATH,'/html/body/div[3]/div/div/div/div[3]/div/div/div/ul/li[2]/span/label')\n",
    "f_salbtn.click()"
   ]
  },
  {
   "cell_type": "code",
   "execution_count": 21,
   "id": "3e6b1eed",
   "metadata": {},
   "outputs": [],
   "source": [
    "r_btn=dr.find_element(By.XPATH,'/html/body/div[3]/div/div/div/div[4]/button[2]')\n",
    "r_btn.click()"
   ]
  },
  {
   "cell_type": "code",
   "execution_count": 22,
   "id": "e98029ca",
   "metadata": {},
   "outputs": [],
   "source": [
    "job_title=[]\n",
    "com_name=[]\n",
    "job_exp=[]\n",
    "job_loc=[]"
   ]
  },
  {
   "cell_type": "code",
   "execution_count": 23,
   "id": "1ac55675",
   "metadata": {},
   "outputs": [
    {
     "name": "stdout",
     "output_type": "stream",
     "text": [
      "10\n",
      "['Clinical Data Analyst', 'Bioanalytical Research', 'Bioanalytical Research Associates', 'Clinical Data Management', 'Clinical Analyst Fresher', 'Junior Clinical Data Management', 'Data Engineer', 'Biostatistician', 'Clinical Document Specialist', 'Document Specialist']\n"
     ]
    }
   ],
   "source": [
    "j_title=dr.find_elements(By.XPATH,'//div[@class=\"jobCard_jobCard__jjUmu  white-box-border jobCard\"]/div/h2/a')\n",
    "for i in j_title[0:10]:\n",
    "    jtitle=i.text\n",
    "    job_title.append(jtitle)\n",
    "print(len(job_title))\n",
    "print(job_title)"
   ]
  },
  {
   "cell_type": "code",
   "execution_count": 24,
   "id": "d0274e58",
   "metadata": {},
   "outputs": [
    {
     "name": "stdout",
     "output_type": "stream",
     "text": [
      "10\n",
      "['acme services private limited', 'techno endura', 'techno endura', 'techno endura', 'techno endura', 'techno endura', 'techno endura', 'future solution centre', 'national seeds corporation limited', 'techno endura']\n"
     ]
    }
   ],
   "source": [
    "c_name=dr.find_elements(By.XPATH,'//div[@class=\"jobCard_jobCard_cName__mYnow\"]/span')\n",
    "for i in c_name[0:10]:\n",
    "    cname=i.text\n",
    "    com_name.append(cname)\n",
    "print(len(com_name))\n",
    "print(com_name)"
   ]
  },
  {
   "cell_type": "code",
   "execution_count": 26,
   "id": "c7e36e13",
   "metadata": {},
   "outputs": [
    {
     "name": "stdout",
     "output_type": "stream",
     "text": [
      "10\n",
      "['3 to 5 Yrs', '0 to 1 Yr', '0 to 1 Yr', '0 to 1 Yr', '0 to 1 Yr', '0 to 1 Yr', '0 to 1 Yr', '10 to 20 Yrs', '2 to 7 Yrs', '0 to 1 Yr']\n"
     ]
    }
   ],
   "source": [
    "j_exp=dr.find_elements(By.XPATH,'//div[@class=\" jobCard_jobCard_lists_item__YxRkV jobCard_jobIcon__3FB1t\"]')\n",
    "for i in j_exp[0:10]:\n",
    "    jexp=i.text\n",
    "    job_exp.append(jexp)\n",
    "print(len(job_exp))\n",
    "print(job_exp)"
   ]
  },
  {
   "cell_type": "code",
   "execution_count": 29,
   "id": "079fe652",
   "metadata": {},
   "outputs": [
    {
     "name": "stdout",
     "output_type": "stream",
     "text": [
      "10\n",
      "['Delhi\\n+4', 'Delhi\\n+6', 'Delhi\\n+6', 'Delhi\\n+6', 'Delhi\\n+6', 'Delhi\\n+6', 'Delhi\\n+6', 'Delhi\\n+9', 'Delhi\\n+17', 'Delhi\\n+6']\n"
     ]
    }
   ],
   "source": [
    "j_loc=dr.find_elements(By.XPATH,'//div[@class=\" jobCard_jobCard_lists_item__YxRkV jobCard_locationIcon__zrWt2\"]')\n",
    "for i in j_loc[0:10]:\n",
    "    jloc=i.text\n",
    "    job_loc.append(jloc)\n",
    "print(len(job_loc))\n",
    "print(job_loc)"
   ]
  },
  {
   "cell_type": "code",
   "execution_count": 30,
   "id": "2fe7fd99",
   "metadata": {},
   "outputs": [
    {
     "data": {
      "text/html": [
       "<div>\n",
       "<style scoped>\n",
       "    .dataframe tbody tr th:only-of-type {\n",
       "        vertical-align: middle;\n",
       "    }\n",
       "\n",
       "    .dataframe tbody tr th {\n",
       "        vertical-align: top;\n",
       "    }\n",
       "\n",
       "    .dataframe thead th {\n",
       "        text-align: right;\n",
       "    }\n",
       "</style>\n",
       "<table border=\"1\" class=\"dataframe\">\n",
       "  <thead>\n",
       "    <tr style=\"text-align: right;\">\n",
       "      <th></th>\n",
       "      <th>Title</th>\n",
       "      <th>Company Name</th>\n",
       "      <th>Experience</th>\n",
       "      <th>Location</th>\n",
       "    </tr>\n",
       "  </thead>\n",
       "  <tbody>\n",
       "    <tr>\n",
       "      <th>0</th>\n",
       "      <td>Clinical Data Analyst</td>\n",
       "      <td>acme services private limited</td>\n",
       "      <td>3 to 5 Yrs</td>\n",
       "      <td>Delhi\\n+4</td>\n",
       "    </tr>\n",
       "    <tr>\n",
       "      <th>1</th>\n",
       "      <td>Bioanalytical Research</td>\n",
       "      <td>techno endura</td>\n",
       "      <td>0 to 1 Yr</td>\n",
       "      <td>Delhi\\n+6</td>\n",
       "    </tr>\n",
       "    <tr>\n",
       "      <th>2</th>\n",
       "      <td>Bioanalytical Research Associates</td>\n",
       "      <td>techno endura</td>\n",
       "      <td>0 to 1 Yr</td>\n",
       "      <td>Delhi\\n+6</td>\n",
       "    </tr>\n",
       "    <tr>\n",
       "      <th>3</th>\n",
       "      <td>Clinical Data Management</td>\n",
       "      <td>techno endura</td>\n",
       "      <td>0 to 1 Yr</td>\n",
       "      <td>Delhi\\n+6</td>\n",
       "    </tr>\n",
       "    <tr>\n",
       "      <th>4</th>\n",
       "      <td>Clinical Analyst Fresher</td>\n",
       "      <td>techno endura</td>\n",
       "      <td>0 to 1 Yr</td>\n",
       "      <td>Delhi\\n+6</td>\n",
       "    </tr>\n",
       "    <tr>\n",
       "      <th>5</th>\n",
       "      <td>Junior Clinical Data Management</td>\n",
       "      <td>techno endura</td>\n",
       "      <td>0 to 1 Yr</td>\n",
       "      <td>Delhi\\n+6</td>\n",
       "    </tr>\n",
       "    <tr>\n",
       "      <th>6</th>\n",
       "      <td>Data Engineer</td>\n",
       "      <td>techno endura</td>\n",
       "      <td>0 to 1 Yr</td>\n",
       "      <td>Delhi\\n+6</td>\n",
       "    </tr>\n",
       "    <tr>\n",
       "      <th>7</th>\n",
       "      <td>Biostatistician</td>\n",
       "      <td>future solution centre</td>\n",
       "      <td>10 to 20 Yrs</td>\n",
       "      <td>Delhi\\n+9</td>\n",
       "    </tr>\n",
       "    <tr>\n",
       "      <th>8</th>\n",
       "      <td>Clinical Document Specialist</td>\n",
       "      <td>national seeds corporation limited</td>\n",
       "      <td>2 to 7 Yrs</td>\n",
       "      <td>Delhi\\n+17</td>\n",
       "    </tr>\n",
       "    <tr>\n",
       "      <th>9</th>\n",
       "      <td>Document Specialist</td>\n",
       "      <td>techno endura</td>\n",
       "      <td>0 to 1 Yr</td>\n",
       "      <td>Delhi\\n+6</td>\n",
       "    </tr>\n",
       "  </tbody>\n",
       "</table>\n",
       "</div>"
      ],
      "text/plain": [
       "                               Title                        Company Name   \n",
       "0              Clinical Data Analyst       acme services private limited  \\\n",
       "1             Bioanalytical Research                       techno endura   \n",
       "2  Bioanalytical Research Associates                       techno endura   \n",
       "3           Clinical Data Management                       techno endura   \n",
       "4           Clinical Analyst Fresher                       techno endura   \n",
       "5    Junior Clinical Data Management                       techno endura   \n",
       "6                      Data Engineer                       techno endura   \n",
       "7                    Biostatistician              future solution centre   \n",
       "8       Clinical Document Specialist  national seeds corporation limited   \n",
       "9                Document Specialist                       techno endura   \n",
       "\n",
       "     Experience    Location  \n",
       "0    3 to 5 Yrs   Delhi\\n+4  \n",
       "1     0 to 1 Yr   Delhi\\n+6  \n",
       "2     0 to 1 Yr   Delhi\\n+6  \n",
       "3     0 to 1 Yr   Delhi\\n+6  \n",
       "4     0 to 1 Yr   Delhi\\n+6  \n",
       "5     0 to 1 Yr   Delhi\\n+6  \n",
       "6     0 to 1 Yr   Delhi\\n+6  \n",
       "7  10 to 20 Yrs   Delhi\\n+9  \n",
       "8    2 to 7 Yrs  Delhi\\n+17  \n",
       "9     0 to 1 Yr   Delhi\\n+6  "
      ]
     },
     "execution_count": 30,
     "metadata": {},
     "output_type": "execute_result"
    }
   ],
   "source": [
    "df=pd.DataFrame({'Title':job_title,'Company Name':com_name,'Experience':job_exp,'Location':job_loc})\n",
    "df"
   ]
  },
  {
   "cell_type": "code",
   "execution_count": null,
   "id": "af40c670",
   "metadata": {},
   "outputs": [],
   "source": []
  }
 ],
 "metadata": {
  "kernelspec": {
   "display_name": "Python 3 (ipykernel)",
   "language": "python",
   "name": "python3"
  },
  "language_info": {
   "codemirror_mode": {
    "name": "ipython",
    "version": 3
   },
   "file_extension": ".py",
   "mimetype": "text/x-python",
   "name": "python",
   "nbconvert_exporter": "python",
   "pygments_lexer": "ipython3",
   "version": "3.11.3"
  }
 },
 "nbformat": 4,
 "nbformat_minor": 5
}
