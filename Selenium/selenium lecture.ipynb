{
 "cells": [
  {
   "cell_type": "code",
   "execution_count": 1,
   "id": "b3fd70fa",
   "metadata": {},
   "outputs": [],
   "source": [
    "import selenium\n",
    "import pandas as pd\n",
    "from selenium import webdriver\n",
    "import warnings\n",
    "warnings.filterwarnings('ignore')\n",
    "from selenium.webdriver.common.by import By\n",
    "import time"
   ]
  },
  {
   "cell_type": "code",
   "execution_count": 41,
   "id": "e0515ab0",
   "metadata": {},
   "outputs": [],
   "source": [
    "driver=webdriver.Chrome()"
   ]
  },
  {
   "cell_type": "code",
   "execution_count": 42,
   "id": "369fc273",
   "metadata": {},
   "outputs": [],
   "source": [
    "driver.get('https://www.naukri.com/')"
   ]
  },
  {
   "cell_type": "code",
   "execution_count": 43,
   "id": "2943b6de",
   "metadata": {},
   "outputs": [],
   "source": [
    "designation=driver.find_element(By.XPATH,'/html/body/div[1]/div[7]/div/div/div[1]/div/div/div/div[1]/div/input')\n",
    "designation.send_keys('Data Scientist')"
   ]
  },
  {
   "cell_type": "code",
   "execution_count": 44,
   "id": "53fd92f1",
   "metadata": {},
   "outputs": [],
   "source": [
    "loc=driver.find_element(By.XPATH,'/html/body/div[1]/div[7]/div/div/div[5]/div/div/div/div[1]/div/input')\n",
    "loc.send_keys(\"Banglore\")"
   ]
  },
  {
   "cell_type": "code",
   "execution_count": 45,
   "id": "8567e476",
   "metadata": {},
   "outputs": [],
   "source": [
    "search=driver.find_element(By.CLASS_NAME,'qsbSubmit')\n",
    "search.click()"
   ]
  },
  {
   "cell_type": "code",
   "execution_count": 46,
   "id": "a97dbaad",
   "metadata": {},
   "outputs": [],
   "source": [
    "job_title=[]\n",
    "job_loc=[]\n",
    "company_name=[]\n",
    "experince=[]\n"
   ]
  },
  {
   "cell_type": "code",
   "execution_count": 47,
   "id": "1417c275",
   "metadata": {},
   "outputs": [
    {
     "name": "stdout",
     "output_type": "stream",
     "text": [
      "20\n",
      "['Data Scientist, Marketing', 'AI Data Scientist', 'Senior Data Scientist, Reporting', 'Data Scientist - Senior Associate - P&T Labs', 'GenAI Data Scientist', 'Reliability Data Scientist', 'Sr. Data Scientist', 'Data Scientist', 'Senior Data Scientist - Marketplace', 'Advanced Data Scientist', 'Sr Advanced Data Scientist', 'Senior Data Scientist', 'Principal Data Scientist', 'Data Scientist', 'Senior Data Scientist', 'Data Scientist', 'Data Scientist', 'Principal Data Scientist', 'Lead Data Scientist-NLP,Generative AI', 'Lead Data Scientist']\n"
     ]
    }
   ],
   "source": [
    "title_tags=driver.find_elements(By.XPATH,'//div[@class=\"cust-job-tuple layout-wrapper lay-2 sjw__tuple \"]/div/a ')\n",
    "for i in title_tags:\n",
    "    title=i.text\n",
    "    job_title.append(title)\n",
    "\n",
    "print(len(job_title))\n",
    "print(job_title)\n"
   ]
  },
  {
   "cell_type": "code",
   "execution_count": 48,
   "id": "b0b7f144",
   "metadata": {},
   "outputs": [
    {
     "name": "stdout",
     "output_type": "stream",
     "text": [
      "20\n"
     ]
    }
   ],
   "source": [
    "location_tag=driver.find_elements(By.CLASS_NAME,'locWdth')\n",
    "for i in location_tag:\n",
    "    loc=i.text\n",
    "    job_loc.append(loc)\n",
    "print(len(job_loc))"
   ]
  },
  {
   "cell_type": "code",
   "execution_count": 49,
   "id": "03c69f55",
   "metadata": {},
   "outputs": [
    {
     "data": {
      "text/plain": [
       "['Kolkata, Mumbai, New Delhi, Hyderabad/Secunderabad, Pune, Chennai, Bangalore/Bengaluru',\n",
       " 'Kolkata, Mumbai, New Delhi, Hyderabad/Secunderabad, Pune, Chennai, Bangalore/Bengaluru',\n",
       " 'Kolkata, Mumbai, New Delhi, Hyderabad/Secunderabad, Pune, Chennai, Bangalore/Bengaluru',\n",
       " 'Mumbai, Hyderabad/Secunderabad, Bangalore/Bengaluru',\n",
       " 'Kolkata, Mumbai, New Delhi, Hyderabad/Secunderabad, Pune, Chennai, Bangalore/Bengaluru',\n",
       " 'Kolkata, Mumbai, New Delhi, Hyderabad/Secunderabad, Pune, Chennai, Bangalore/Bengaluru',\n",
       " 'Bangalore/Bengaluru',\n",
       " 'Kolkata, Mumbai, New Delhi, Hyderabad/Secunderabad, Pune, Chennai, Bangalore/Bengaluru',\n",
       " 'Bangalore/Bengaluru',\n",
       " 'Bangalore/Bengaluru',\n",
       " 'Greater Noida, Bangalore/Bengaluru',\n",
       " 'Bangalore/Bengaluru',\n",
       " 'Bangalore/Bengaluru',\n",
       " 'Kolkata, Mumbai, New Delhi, Hyderabad/Secunderabad, Pune, Chennai, Bangalore/Bengaluru',\n",
       " 'Kolkata, Mumbai, New Delhi, Hyderabad/Secunderabad, Pune, Chennai, Bangalore/Bengaluru',\n",
       " 'Kolkata, Mumbai, New Delhi, Hyderabad/Secunderabad, Pune, Chennai, Bangalore/Bengaluru',\n",
       " 'Kolkata, Mumbai, New Delhi, Hyderabad/Secunderabad, Pune, Chennai, Bangalore/Bengaluru',\n",
       " 'Kolkata, Mumbai, New Delhi, Hyderabad/Secunderabad, Pune, Chennai, Bangalore/Bengaluru',\n",
       " 'Kolkata, Mumbai, New Delhi, Hyderabad/Secunderabad, Pune, Chennai, Bangalore/Bengaluru',\n",
       " 'Kolkata, Mumbai, New Delhi, Hyderabad/Secunderabad, Pune, Chennai, Bangalore/Bengaluru']"
      ]
     },
     "execution_count": 49,
     "metadata": {},
     "output_type": "execute_result"
    }
   ],
   "source": [
    "job_loc"
   ]
  },
  {
   "cell_type": "code",
   "execution_count": 33,
   "id": "79d6f176",
   "metadata": {},
   "outputs": [
    {
     "name": "stdout",
     "output_type": "stream",
     "text": [
      "20\n",
      "['Coursera', 'Ford', 'Coursera', 'PwC Service Delivery Center', 'Ford', 'Ford', 'Visa Inc', 'Fort Technologies', 'Gojek', 'Honeywell', 'Honeywell', 'Walmart', 'Scaler Academy', 'Response Informatics', 'Response Informatics', 'Response Informatics', 'Response Informatics', 'Response Informatics', 'Response Informatics', 'Response Informatics']\n"
     ]
    }
   ],
   "source": [
    "com_name=driver.find_elements(By.XPATH,'//span[@class=\" comp-dtls-wrap\"]/a[1]')\n",
    "for i in com_name:\n",
    "    cname=i.text\n",
    "    company_name.append(cname)\n",
    "    \n",
    "print(len(company_name))\n",
    "print(company_name)"
   ]
  },
  {
   "cell_type": "code",
   "execution_count": 38,
   "id": "a7349633",
   "metadata": {},
   "outputs": [
    {
     "name": "stdout",
     "output_type": "stream",
     "text": [
      "20\n",
      "['4-6 Yrs', '2-6 Yrs', '6-7 Yrs', '4-6 Yrs', '5-6 Yrs', '2-7 Yrs', '0-3 Yrs', '1-3 Yrs', '5-11 Yrs', '4-6 Yrs', '4-8 Yrs', '7-9 Yrs', '6-12 Yrs', '8-15 Yrs', '5-10 Yrs', '8-15 Yrs', '4-7 Yrs', '12-15 Yrs', '5-10 Yrs', '7-12 Yrs']\n"
     ]
    }
   ],
   "source": [
    "exp=driver.find_elements(By.CLASS_NAME,'expwdth')\n",
    "for i in exp:\n",
    "    ex=i.text\n",
    "    experince.append(ex)\n",
    "print(len(experince))\n",
    "print(experince)"
   ]
  },
  {
   "cell_type": "code",
   "execution_count": 40,
   "id": "efafd5df",
   "metadata": {},
   "outputs": [
    {
     "data": {
      "text/html": [
       "<div>\n",
       "<style scoped>\n",
       "    .dataframe tbody tr th:only-of-type {\n",
       "        vertical-align: middle;\n",
       "    }\n",
       "\n",
       "    .dataframe tbody tr th {\n",
       "        vertical-align: top;\n",
       "    }\n",
       "\n",
       "    .dataframe thead th {\n",
       "        text-align: right;\n",
       "    }\n",
       "</style>\n",
       "<table border=\"1\" class=\"dataframe\">\n",
       "  <thead>\n",
       "    <tr style=\"text-align: right;\">\n",
       "      <th></th>\n",
       "      <th>Title</th>\n",
       "      <th>Location</th>\n",
       "      <th>Company Name</th>\n",
       "      <th>Experience</th>\n",
       "    </tr>\n",
       "  </thead>\n",
       "  <tbody>\n",
       "    <tr>\n",
       "      <th>0</th>\n",
       "      <td>Data Scientist, Marketing</td>\n",
       "      <td>Kolkata, Mumbai, New Delhi, Hyderabad/Secunder...</td>\n",
       "      <td>Coursera</td>\n",
       "      <td>4-6 Yrs</td>\n",
       "    </tr>\n",
       "    <tr>\n",
       "      <th>1</th>\n",
       "      <td>AI Data Scientist</td>\n",
       "      <td>Kolkata, Mumbai, New Delhi, Hyderabad/Secunder...</td>\n",
       "      <td>Ford</td>\n",
       "      <td>2-6 Yrs</td>\n",
       "    </tr>\n",
       "    <tr>\n",
       "      <th>2</th>\n",
       "      <td>Senior Data Scientist, Reporting</td>\n",
       "      <td>Kolkata, Mumbai, New Delhi, Hyderabad/Secunder...</td>\n",
       "      <td>Coursera</td>\n",
       "      <td>6-7 Yrs</td>\n",
       "    </tr>\n",
       "    <tr>\n",
       "      <th>3</th>\n",
       "      <td>Data Scientist - Senior Associate - P&amp;T Labs</td>\n",
       "      <td>Mumbai, Hyderabad/Secunderabad, Bangalore/Beng...</td>\n",
       "      <td>PwC Service Delivery Center</td>\n",
       "      <td>4-6 Yrs</td>\n",
       "    </tr>\n",
       "    <tr>\n",
       "      <th>4</th>\n",
       "      <td>GenAI Data Scientist</td>\n",
       "      <td>Kolkata, Mumbai, New Delhi, Hyderabad/Secunder...</td>\n",
       "      <td>Ford</td>\n",
       "      <td>5-6 Yrs</td>\n",
       "    </tr>\n",
       "    <tr>\n",
       "      <th>5</th>\n",
       "      <td>Reliability Data Scientist</td>\n",
       "      <td>Kolkata, Mumbai, New Delhi, Hyderabad/Secunder...</td>\n",
       "      <td>Ford</td>\n",
       "      <td>2-7 Yrs</td>\n",
       "    </tr>\n",
       "    <tr>\n",
       "      <th>6</th>\n",
       "      <td>Sr. Data Scientist</td>\n",
       "      <td>Bangalore/Bengaluru</td>\n",
       "      <td>Visa Inc</td>\n",
       "      <td>0-3 Yrs</td>\n",
       "    </tr>\n",
       "    <tr>\n",
       "      <th>7</th>\n",
       "      <td>Data Scientist</td>\n",
       "      <td>Kolkata, Mumbai, New Delhi, Hyderabad/Secunder...</td>\n",
       "      <td>Fort Technologies</td>\n",
       "      <td>1-3 Yrs</td>\n",
       "    </tr>\n",
       "    <tr>\n",
       "      <th>8</th>\n",
       "      <td>Senior Data Scientist - Marketplace</td>\n",
       "      <td>Bangalore/Bengaluru</td>\n",
       "      <td>Gojek</td>\n",
       "      <td>5-11 Yrs</td>\n",
       "    </tr>\n",
       "    <tr>\n",
       "      <th>9</th>\n",
       "      <td>Advanced Data Scientist</td>\n",
       "      <td>Bangalore/Bengaluru</td>\n",
       "      <td>Honeywell</td>\n",
       "      <td>4-6 Yrs</td>\n",
       "    </tr>\n",
       "    <tr>\n",
       "      <th>10</th>\n",
       "      <td>Sr Advanced Data Scientist</td>\n",
       "      <td>Greater Noida, Bangalore/Bengaluru</td>\n",
       "      <td>Honeywell</td>\n",
       "      <td>4-8 Yrs</td>\n",
       "    </tr>\n",
       "    <tr>\n",
       "      <th>11</th>\n",
       "      <td>Senior Data Scientist</td>\n",
       "      <td>Bangalore/Bengaluru</td>\n",
       "      <td>Walmart</td>\n",
       "      <td>7-9 Yrs</td>\n",
       "    </tr>\n",
       "    <tr>\n",
       "      <th>12</th>\n",
       "      <td>Principal Data Scientist</td>\n",
       "      <td>Bangalore/Bengaluru</td>\n",
       "      <td>Scaler Academy</td>\n",
       "      <td>6-12 Yrs</td>\n",
       "    </tr>\n",
       "    <tr>\n",
       "      <th>13</th>\n",
       "      <td>Data Scientist</td>\n",
       "      <td>Kolkata, Mumbai, New Delhi, Hyderabad/Secunder...</td>\n",
       "      <td>Response Informatics</td>\n",
       "      <td>8-15 Yrs</td>\n",
       "    </tr>\n",
       "    <tr>\n",
       "      <th>14</th>\n",
       "      <td>Senior Data Scientist</td>\n",
       "      <td>Kolkata, Mumbai, New Delhi, Hyderabad/Secunder...</td>\n",
       "      <td>Response Informatics</td>\n",
       "      <td>5-10 Yrs</td>\n",
       "    </tr>\n",
       "    <tr>\n",
       "      <th>15</th>\n",
       "      <td>Data Scientist</td>\n",
       "      <td>Kolkata, Mumbai, New Delhi, Hyderabad/Secunder...</td>\n",
       "      <td>Response Informatics</td>\n",
       "      <td>8-15 Yrs</td>\n",
       "    </tr>\n",
       "    <tr>\n",
       "      <th>16</th>\n",
       "      <td>Data Scientist</td>\n",
       "      <td>Kolkata, Mumbai, New Delhi, Hyderabad/Secunder...</td>\n",
       "      <td>Response Informatics</td>\n",
       "      <td>4-7 Yrs</td>\n",
       "    </tr>\n",
       "    <tr>\n",
       "      <th>17</th>\n",
       "      <td>Principal Data Scientist</td>\n",
       "      <td>Kolkata, Mumbai, New Delhi, Hyderabad/Secunder...</td>\n",
       "      <td>Response Informatics</td>\n",
       "      <td>12-15 Yrs</td>\n",
       "    </tr>\n",
       "    <tr>\n",
       "      <th>18</th>\n",
       "      <td>Lead Data Scientist-NLP,Generative AI</td>\n",
       "      <td>Kolkata, Mumbai, New Delhi, Hyderabad/Secunder...</td>\n",
       "      <td>Response Informatics</td>\n",
       "      <td>5-10 Yrs</td>\n",
       "    </tr>\n",
       "    <tr>\n",
       "      <th>19</th>\n",
       "      <td>Lead Data Scientist</td>\n",
       "      <td>Kolkata, Mumbai, New Delhi, Hyderabad/Secunder...</td>\n",
       "      <td>Response Informatics</td>\n",
       "      <td>7-12 Yrs</td>\n",
       "    </tr>\n",
       "  </tbody>\n",
       "</table>\n",
       "</div>"
      ],
      "text/plain": [
       "                                           Title   \n",
       "0                      Data Scientist, Marketing  \\\n",
       "1                              AI Data Scientist   \n",
       "2               Senior Data Scientist, Reporting   \n",
       "3   Data Scientist - Senior Associate - P&T Labs   \n",
       "4                           GenAI Data Scientist   \n",
       "5                     Reliability Data Scientist   \n",
       "6                             Sr. Data Scientist   \n",
       "7                                 Data Scientist   \n",
       "8            Senior Data Scientist - Marketplace   \n",
       "9                        Advanced Data Scientist   \n",
       "10                    Sr Advanced Data Scientist   \n",
       "11                         Senior Data Scientist   \n",
       "12                      Principal Data Scientist   \n",
       "13                                Data Scientist   \n",
       "14                         Senior Data Scientist   \n",
       "15                                Data Scientist   \n",
       "16                                Data Scientist   \n",
       "17                      Principal Data Scientist   \n",
       "18         Lead Data Scientist-NLP,Generative AI   \n",
       "19                           Lead Data Scientist   \n",
       "\n",
       "                                             Location   \n",
       "0   Kolkata, Mumbai, New Delhi, Hyderabad/Secunder...  \\\n",
       "1   Kolkata, Mumbai, New Delhi, Hyderabad/Secunder...   \n",
       "2   Kolkata, Mumbai, New Delhi, Hyderabad/Secunder...   \n",
       "3   Mumbai, Hyderabad/Secunderabad, Bangalore/Beng...   \n",
       "4   Kolkata, Mumbai, New Delhi, Hyderabad/Secunder...   \n",
       "5   Kolkata, Mumbai, New Delhi, Hyderabad/Secunder...   \n",
       "6                                 Bangalore/Bengaluru   \n",
       "7   Kolkata, Mumbai, New Delhi, Hyderabad/Secunder...   \n",
       "8                                 Bangalore/Bengaluru   \n",
       "9                                 Bangalore/Bengaluru   \n",
       "10                 Greater Noida, Bangalore/Bengaluru   \n",
       "11                                Bangalore/Bengaluru   \n",
       "12                                Bangalore/Bengaluru   \n",
       "13  Kolkata, Mumbai, New Delhi, Hyderabad/Secunder...   \n",
       "14  Kolkata, Mumbai, New Delhi, Hyderabad/Secunder...   \n",
       "15  Kolkata, Mumbai, New Delhi, Hyderabad/Secunder...   \n",
       "16  Kolkata, Mumbai, New Delhi, Hyderabad/Secunder...   \n",
       "17  Kolkata, Mumbai, New Delhi, Hyderabad/Secunder...   \n",
       "18  Kolkata, Mumbai, New Delhi, Hyderabad/Secunder...   \n",
       "19  Kolkata, Mumbai, New Delhi, Hyderabad/Secunder...   \n",
       "\n",
       "                   Company Name Experience  \n",
       "0                      Coursera    4-6 Yrs  \n",
       "1                          Ford    2-6 Yrs  \n",
       "2                      Coursera    6-7 Yrs  \n",
       "3   PwC Service Delivery Center    4-6 Yrs  \n",
       "4                          Ford    5-6 Yrs  \n",
       "5                          Ford    2-7 Yrs  \n",
       "6                      Visa Inc    0-3 Yrs  \n",
       "7             Fort Technologies    1-3 Yrs  \n",
       "8                         Gojek   5-11 Yrs  \n",
       "9                     Honeywell    4-6 Yrs  \n",
       "10                    Honeywell    4-8 Yrs  \n",
       "11                      Walmart    7-9 Yrs  \n",
       "12               Scaler Academy   6-12 Yrs  \n",
       "13         Response Informatics   8-15 Yrs  \n",
       "14         Response Informatics   5-10 Yrs  \n",
       "15         Response Informatics   8-15 Yrs  \n",
       "16         Response Informatics    4-7 Yrs  \n",
       "17         Response Informatics  12-15 Yrs  \n",
       "18         Response Informatics   5-10 Yrs  \n",
       "19         Response Informatics   7-12 Yrs  "
      ]
     },
     "execution_count": 40,
     "metadata": {},
     "output_type": "execute_result"
    }
   ],
   "source": [
    "df=pd.DataFrame({'Title':job_title,'Location':job_loc,'Company Name':company_name,'Experience':experince})\n",
    "df"
   ]
  },
  {
   "cell_type": "code",
   "execution_count": null,
   "id": "e44a0e0a",
   "metadata": {},
   "outputs": [],
   "source": []
  }
 ],
 "metadata": {
  "kernelspec": {
   "display_name": "Python 3 (ipykernel)",
   "language": "python",
   "name": "python3"
  },
  "language_info": {
   "codemirror_mode": {
    "name": "ipython",
    "version": 3
   },
   "file_extension": ".py",
   "mimetype": "text/x-python",
   "name": "python",
   "nbconvert_exporter": "python",
   "pygments_lexer": "ipython3",
   "version": "3.11.3"
  }
 },
 "nbformat": 4,
 "nbformat_minor": 5
}
