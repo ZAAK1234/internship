{
 "cells": [
  {
   "cell_type": "code",
   "execution_count": 1,
   "id": "640f2ce7",
   "metadata": {},
   "outputs": [],
   "source": [
    "import selenium\n",
    "from selenium import webdriver\n",
    "from selenium.webdriver.common.by import By\n",
    "import time\n",
    "import pandas as pd\n",
    "import warnings\n",
    "warnings.filterwarnings('ignore')"
   ]
  },
  {
   "cell_type": "code",
   "execution_count": 2,
   "id": "c149cb11",
   "metadata": {},
   "outputs": [],
   "source": [
    "dr=webdriver.Chrome()\n",
    "dr.get('https://www.flipkart.com/')"
   ]
  },
  {
   "cell_type": "code",
   "execution_count": 4,
   "id": "73eb594b",
   "metadata": {},
   "outputs": [],
   "source": [
    "pr_sr=dr.find_element(By.CLASS_NAME,'Pke_EE')\n",
    "pr_sr.send_keys('sneakers')"
   ]
  },
  {
   "cell_type": "code",
   "execution_count": 5,
   "id": "b1c06305",
   "metadata": {},
   "outputs": [],
   "source": [
    "sr_btn=dr.find_element(By.CLASS_NAME,'_2iLD__')\n",
    "sr_btn.click()"
   ]
  },
  {
   "cell_type": "code",
   "execution_count": 8,
   "id": "ae9299c5",
   "metadata": {},
   "outputs": [],
   "source": [
    "pr_brand=[]\n",
    "pr_rev=[]\n",
    "pr_price=[]"
   ]
  },
  {
   "cell_type": "code",
   "execution_count": 9,
   "id": "48e274ff",
   "metadata": {},
   "outputs": [
    {
     "name": "stdout",
     "output_type": "stream",
     "text": [
      "120\n",
      "['URBANBOX', 'aadi', 'URBANBOX', 'BRUTON', 'Deals4you', 'aadi', 'kardam&sons', 'BRUTON', 'streetLOOK', 'Krors', 'kardam&sons', 'kardam&sons', 'aadi', 'Robbie jones', 'aadi', 'PUMA', 'BRUTON', \"K' Footlance\", 'asian', 'Redystar', 'BRUTON', 'CCICACO', 'RED TAPE', 'RED TAPE', 'HOTSTYLE', 'HOTSTYLE', 'BRUTON', 'BRUTON', 'asian', 'Ego by NS', \"K' Footlance\", \"K' Footlance\", 'asian', 'CAMPUS', 'BRUTON', 'streetLOOK', 'aadi', 'BRUTON', 'RED TAPE', 'MEGPAR', 'aadi', 'BRUTON', 'HOTSTYLE', 'Skechers', 'RED TAPE', 'RED TAPE', 'aadi', \"K' Footlance\", 'MEGPAR', 'PUMA', 'BRUTON', 'BRUTON', 'CAMPUS', 'aadi', 'HRX by Hrithik Roshan', 'HOTSTYLE', \"K' Footlance\", \"K' Footlance\", 'BIRDE', 'Kraasa', 'aadi', 'BRUTON', 'WHITE WALKERS', 'ATOM', 'HRX by Hrithik Roshan', 'BRUTON', 'andD', 'Magnolia', 'Labbin', 'AMICO', 'BRUTON', 'BRUTON', 'PUMA', 'BRUTON', 'PUMA', 'aadi', \"K' Footlance\", \"K' Footlance\", 'PUMA', 'Fuoatieec', 'aadi', 'BRUTON', 'URBANBOX', 'BRUTON', 'Deals4you', 'aadi', 'BRUTON', 'aadi', 'streetLOOK', 'Krors', \"K' Footlance\", 'BRUTON', 'aadi', 'Robbie jones', 'PUMA', 'asian', 'BRUTON', \"K' Footlance\", 'Redystar', 'RED TAPE', \"K' Footlance\", 'aadi', 'HOTSTYLE', 'RED TAPE', 'HOTSTYLE', 'asian', 'BRUTON', 'andD', 'CAMPUS', 'Ego by NS', 'Magnolia', 'BRUTON', 'asian', 'CAMPUS', 'Redystar', 'BRUTON', 'BRUTON', \"K' Footlance\", 'ATOM', 'HOTSTYLE']\n"
     ]
    }
   ],
   "source": [
    "for i in range(0,3):\n",
    "    \n",
    "    brand=dr.find_elements(By.XPATH,'//div[@class=\"_2WkVRV\"]')\n",
    "    for j in brand[0:40]:\n",
    "        prbrand=j.text\n",
    "        pr_brand.append(prbrand)\n",
    "    nxtbtn=dr.find_element(By.CLASS_NAME,'_1LKTO3')\n",
    "    nxtbtn.click()\n",
    "    time.sleep(3)\n",
    "print(len(pr_brand))\n",
    "print(pr_brand)"
   ]
  },
  {
   "cell_type": "code",
   "execution_count": 11,
   "id": "94953178",
   "metadata": {},
   "outputs": [
    {
     "name": "stdout",
     "output_type": "stream",
     "text": [
      "120\n",
      "['Trending Stylish Casual Outdoor Sneakers Shoes For Men ...', 'Modern Trendy Shoes Sneakers For Men', 'Sneakers For Women', 'Aadi Men Black & Green Casual Sneaker Sneakers For Men', 'Sneakers For Women', 'Premium Ankle Length Black Denim Boots Sneakers For Men', 'Synthetic Leather |Lightweight|Comfort|Summer|Trendy|Wa...', 'Casual Sneakers Colour Blocked Shoes For Boys And Men S...', 'Lightweight,Comfort,Summer,Trendy,Walking,Outdoor,Styli...', 'Smashic Sneakers For Men', 'Carnival-02 Mens High Top Casual Chunky Fashion Sneaker...', 'Latest Sneaker Casual Shoes For Men |Sneakers For Men S...', 'Sneaker Casual Shoes For Men | Soft Cushion Insole, Sli...', 'FASHION-BLACK-9 Sneakers For Men', 'Designer Sneakers For Men', 'Casual Sneaker Shoes for Men | Soft Cushioned Insole, S...', 'FLYING FURY Sneakers For Men', 'Sneakers For Men', 'Sneaker Casual Shoes For Men | Soft Cushion Insole||Ach...', 'CUPID Sneakers For Women', '2 Combo Sneaker Shoes Sneakers For Men', 'Latest Sneaker Casual Shoes For Men|Sneakers For Men|Sh...', 'Sneaker Casual Shoes for Men | Soft Cushioned Insole, S...', 'Sneaker Casual Shoes for Men | Soft Cushioned Insole, S...', 'White New Stylish Look Comfortable Casual Shoes Womens ...', 'ST Runner v3 Mesh Sneakers For Men', 'FLYING FURY Sneakers For Men', 'Alpha Predator Sneakers For Men', 'FAST Trendy Sneakers For Men', 'BOBS SQUAD CHAOS - FACE OFF Sneakers For Women', 'Sneakers For Men', 'Cityscape Sneakers For Men', 'Sneakers For Men', 'FAST Trendy Sneakers For Men', 'Classic Sneakers For Men', 'Stylish & Trending Outdoor Walking Comfortable Sneakers...', 'Premium Sports Shoes For Men Pack Of 2 Sneakers For Men', 'Sneakers For Men', 'CLUB CULTURE Sneakers For Men', 'Sneakers For Men', 'Casual Sneakers ColourFul Block Shoes For Boys And Men ...', 'Modern Trendy Sneakers Shoes Sneakers For Men', 'Caven 2.0 Sneakers For Men', 'Shuffle Ultra Sneakers For Men', 'X-Ray 2 Square Sneakers For Men', '2 Combo Sneaker Shoes Sneakers For Men', 'Rungryp Sneakers For Men', 'Sneakers For Men', 'GLIDE-STEP Sneakers For Men', 'Mesh| Lightweight| Premiun| Comfort| Summer Tendy| Outd...', 'kardam&sons luxury fashionable Stylish Light Weight Sne...', 'Sneakers For Women', 'Carnival-02 Mens High Top Casual Chunky Fashion Sneaker...', 'CR-1 Sneakers For Men', 'ORBIT Sneakers For Men', 'Sneakers For Men Sneakers For Men', 'White New Stylish Look Comfortable Casual Shoes Womens ...', 'URBAN CHUNKY Sneakers For Men', 'Casual Sneaker Shoes for Men | Soft Cushioned Insole, S...', 'Sneakers For Men', 'EQUALIZER 4.0 - WRAITHERN Sneakers For Men', 'Modern Trendy Sneakers Shoes Sneakers For Men', 'SM-671 Sneakers For Men', 'Caven 2.0 Sneakers For Men', 'Electron 2.0 Sneakers For Men', 'Mesh |Lightweight|Comfort|Summer|Trendy|Walking|Outdoor...', 'Future Rider Play On Sneakers For Men', 'JULIUS Sneakers For Women', 'Blot K1221G Stylish Walking Outdoor Daily Wear Trendy C...', 'CLUB CULTURE Sneakers For Men', 'Sneakers For Men', '( by GO21 ) Soft Insole, Slip-Resistance|Walking Casual...', 'Future Rider Play On Sneakers For Men', 'Sneakers For Men', 'TIGER Comfy Mid-Top Casual Chunky Streetwear Fashion Sn...', '2 Combo Sneaker Shoes Sneakers For Men', 'Sneakers For Men', 'Stylish & Trending Outdoor Walking Comfortable Sneakers...', 'Modern Trendy Sneakers boot Sneakers Sneakers For Men', 'Future Rider Play On Sneakers For Men', 'Trending Stylish Casual Outdoor Sneakers Shoes For Men ...', 'Modern Trendy Shoes Sneakers For Men', 'Sneakers For Women', 'Aadi Men Black & Green Casual Sneaker Sneakers For Men', 'Sneakers For Women', 'Premium Ankle Length Black Denim Boots Sneakers For Men', 'Synthetic Leather |Lightweight|Comfort|Summer|Trendy|Wa...', 'Casual Sneakers Colour Blocked Shoes For Boys And Men S...', 'Lightweight,Comfort,Summer,Trendy,Walking,Outdoor,Styli...', 'Smashic Sneakers For Men', 'Carnival-02 Mens High Top Casual Chunky Fashion Sneaker...', 'Latest Sneaker Casual Shoes For Men |Sneakers For Men S...', 'Sneaker Casual Shoes For Men | Soft Cushion Insole, Sli...', 'FASHION-BLACK-9 Sneakers For Men', 'Designer Sneakers For Men', 'Casual Sneaker Shoes for Men | Soft Cushioned Insole, S...', 'FLYING FURY Sneakers For Men', 'Sneakers For Men', 'Sneaker Casual Shoes For Men | Soft Cushion Insole||Ach...', 'CUPID Sneakers For Women', '2 Combo Sneaker Shoes Sneakers For Men', 'Latest Sneaker Casual Shoes For Men|Sneakers For Men|Sh...', 'Sneaker Casual Shoes for Men | Soft Cushioned Insole, S...', 'Sneaker Casual Shoes for Men | Soft Cushioned Insole, S...', 'White New Stylish Look Comfortable Casual Shoes Womens ...', 'ST Runner v3 Mesh Sneakers For Men', 'FLYING FURY Sneakers For Men', 'Alpha Predator Sneakers For Men', 'FAST Trendy Sneakers For Men', 'BOBS SQUAD CHAOS - FACE OFF Sneakers For Women', 'Sneakers For Men', 'Cityscape Sneakers For Men', 'Sneakers For Men', 'FAST Trendy Sneakers For Men', 'Classic Sneakers For Men', 'Stylish & Trending Outdoor Walking Comfortable Sneakers...', 'Premium Sports Shoes For Men Pack Of 2 Sneakers For Men', 'Sneakers For Men', 'CLUB CULTURE Sneakers For Men', 'Sneakers For Men']\n"
     ]
    }
   ],
   "source": [
    "for i in range(0,3):\n",
    "    rev=dr.find_elements(By.XPATH,'//div[@class=\"_1xHGtK _373qXS\"]/div/a[1]')\n",
    "    for j in rev[0:40]:\n",
    "        prrev=j.text\n",
    "        pr_rev.append(prrev)\n",
    "    nxtbtn=dr.find_element(By.CLASS_NAME,'_1LKTO3')\n",
    "    nxtbtn.click()\n",
    "    time.sleep(3)\n",
    "print(len(pr_rev))    \n",
    "print(pr_rev)"
   ]
  },
  {
   "cell_type": "code",
   "execution_count": 12,
   "id": "a063e16f",
   "metadata": {},
   "outputs": [
    {
     "name": "stdout",
     "output_type": "stream",
     "text": [
      "120\n",
      "['₹599', '₹315', '₹2,700', '₹1,900', '₹3,565', '₹537', '₹2,300', '₹374', '₹3,369', '₹382', '₹421', '₹439', '₹1,039', '₹315', '₹699', '₹317', '₹395', '₹996', '₹1,709', '₹1,764', '₹2,699', '₹431', '₹869', '₹2,700', '₹2,220', '₹256', '₹2,894', '₹948', '₹725', '₹1,006', '₹1,559', '₹999', '₹2,880', '₹297', '₹1,399', '₹537', '₹2,086', '₹448', '₹349', '₹3,289', '₹317', '₹249', '₹299', '₹299', '₹399', '₹386', '₹497', '₹499', '₹599', '₹528', '₹499', '₹499', '₹299', '₹449', '₹1,769', '₹1,039', '₹499', '₹620', '₹494', '₹1,619', '₹1,239', '₹899', '₹299', '₹292', '₹1,679', '₹1,095', '₹599', '₹849', '₹319', '₹624', '₹1,339', '₹699', '₹1,227', '₹537', '₹494', '₹2,069', '₹1,435', '₹1,088', '₹1,389', '₹399', '₹699', '₹899', '₹1,389', '₹1,339', '₹2,899', '₹297', '₹899', '₹1,104', '₹2,070', '₹1,227', '₹899', '₹1,189', '₹349', '₹829', '₹779', '₹297', '₹1,249', '₹1,399', '₹549', '₹699', '₹899', '₹759', '₹448', '₹1,011', '₹1,088', '₹599', '₹599', '₹979', '₹315', '₹439', '₹1,799', '₹599', '₹2,700', '₹1,900', '₹3,565', '₹537', '₹1,104', '₹1,104', '₹3,369', '₹382']\n"
     ]
    }
   ],
   "source": [
    "for i in range(0,3):\n",
    "    price=dr.find_elements(By.CLASS_NAME,'_30jeq3')\n",
    "    for j in price[0:40]:\n",
    "        prprice=j.text\n",
    "        pr_price.append(prprice)\n",
    "    nxtbtn=dr.find_element(By.CLASS_NAME,'_1LKTO3')\n",
    "    nxtbtn.click()\n",
    "    time.sleep(3)\n",
    "print(len(pr_price))\n",
    "print(pr_price)"
   ]
  },
  {
   "cell_type": "code",
   "execution_count": 14,
   "id": "e5622e5e",
   "metadata": {},
   "outputs": [
    {
     "data": {
      "text/html": [
       "<div>\n",
       "<style scoped>\n",
       "    .dataframe tbody tr th:only-of-type {\n",
       "        vertical-align: middle;\n",
       "    }\n",
       "\n",
       "    .dataframe tbody tr th {\n",
       "        vertical-align: top;\n",
       "    }\n",
       "\n",
       "    .dataframe thead th {\n",
       "        text-align: right;\n",
       "    }\n",
       "</style>\n",
       "<table border=\"1\" class=\"dataframe\">\n",
       "  <thead>\n",
       "    <tr style=\"text-align: right;\">\n",
       "      <th></th>\n",
       "      <th>Brand</th>\n",
       "      <th>Review</th>\n",
       "      <th>Price</th>\n",
       "    </tr>\n",
       "  </thead>\n",
       "  <tbody>\n",
       "    <tr>\n",
       "      <th>0</th>\n",
       "      <td>URBANBOX</td>\n",
       "      <td>Trending Stylish Casual Outdoor Sneakers Shoes...</td>\n",
       "      <td>₹599</td>\n",
       "    </tr>\n",
       "    <tr>\n",
       "      <th>1</th>\n",
       "      <td>aadi</td>\n",
       "      <td>Modern Trendy Shoes Sneakers For Men</td>\n",
       "      <td>₹315</td>\n",
       "    </tr>\n",
       "    <tr>\n",
       "      <th>2</th>\n",
       "      <td>URBANBOX</td>\n",
       "      <td>Sneakers For Women</td>\n",
       "      <td>₹2,700</td>\n",
       "    </tr>\n",
       "    <tr>\n",
       "      <th>3</th>\n",
       "      <td>BRUTON</td>\n",
       "      <td>Aadi Men Black &amp; Green Casual Sneaker Sneakers...</td>\n",
       "      <td>₹1,900</td>\n",
       "    </tr>\n",
       "    <tr>\n",
       "      <th>4</th>\n",
       "      <td>Deals4you</td>\n",
       "      <td>Sneakers For Women</td>\n",
       "      <td>₹3,565</td>\n",
       "    </tr>\n",
       "    <tr>\n",
       "      <th>...</th>\n",
       "      <td>...</td>\n",
       "      <td>...</td>\n",
       "      <td>...</td>\n",
       "    </tr>\n",
       "    <tr>\n",
       "      <th>95</th>\n",
       "      <td>asian</td>\n",
       "      <td>Casual Sneaker Shoes for Men | Soft Cushioned ...</td>\n",
       "      <td>₹297</td>\n",
       "    </tr>\n",
       "    <tr>\n",
       "      <th>96</th>\n",
       "      <td>BRUTON</td>\n",
       "      <td>FLYING FURY Sneakers For Men</td>\n",
       "      <td>₹1,249</td>\n",
       "    </tr>\n",
       "    <tr>\n",
       "      <th>97</th>\n",
       "      <td>K' Footlance</td>\n",
       "      <td>Sneakers For Men</td>\n",
       "      <td>₹1,399</td>\n",
       "    </tr>\n",
       "    <tr>\n",
       "      <th>98</th>\n",
       "      <td>Redystar</td>\n",
       "      <td>Sneaker Casual Shoes For Men | Soft Cushion In...</td>\n",
       "      <td>₹549</td>\n",
       "    </tr>\n",
       "    <tr>\n",
       "      <th>99</th>\n",
       "      <td>RED TAPE</td>\n",
       "      <td>CUPID Sneakers For Women</td>\n",
       "      <td>₹699</td>\n",
       "    </tr>\n",
       "  </tbody>\n",
       "</table>\n",
       "<p>100 rows × 3 columns</p>\n",
       "</div>"
      ],
      "text/plain": [
       "           Brand                                             Review   Price\n",
       "0       URBANBOX  Trending Stylish Casual Outdoor Sneakers Shoes...    ₹599\n",
       "1           aadi               Modern Trendy Shoes Sneakers For Men    ₹315\n",
       "2       URBANBOX                                 Sneakers For Women  ₹2,700\n",
       "3         BRUTON  Aadi Men Black & Green Casual Sneaker Sneakers...  ₹1,900\n",
       "4      Deals4you                                 Sneakers For Women  ₹3,565\n",
       "..           ...                                                ...     ...\n",
       "95         asian  Casual Sneaker Shoes for Men | Soft Cushioned ...    ₹297\n",
       "96        BRUTON                       FLYING FURY Sneakers For Men  ₹1,249\n",
       "97  K' Footlance                                   Sneakers For Men  ₹1,399\n",
       "98      Redystar  Sneaker Casual Shoes For Men | Soft Cushion In...    ₹549\n",
       "99      RED TAPE                           CUPID Sneakers For Women    ₹699\n",
       "\n",
       "[100 rows x 3 columns]"
      ]
     },
     "execution_count": 14,
     "metadata": {},
     "output_type": "execute_result"
    }
   ],
   "source": [
    "df=pd.DataFrame({'Brand':pr_brand[0:100],'Review':pr_rev[0:100],'Price':pr_price[0:100]})\n",
    "df"
   ]
  },
  {
   "cell_type": "code",
   "execution_count": null,
   "id": "808fa5a0",
   "metadata": {},
   "outputs": [],
   "source": []
  }
 ],
 "metadata": {
  "kernelspec": {
   "display_name": "Python 3 (ipykernel)",
   "language": "python",
   "name": "python3"
  },
  "language_info": {
   "codemirror_mode": {
    "name": "ipython",
    "version": 3
   },
   "file_extension": ".py",
   "mimetype": "text/x-python",
   "name": "python",
   "nbconvert_exporter": "python",
   "pygments_lexer": "ipython3",
   "version": "3.11.3"
  }
 },
 "nbformat": 4,
 "nbformat_minor": 5
}
