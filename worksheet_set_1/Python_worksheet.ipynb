{
 "cells": [
  {
   "cell_type": "code",
   "execution_count": null,
   "id": "e8531af6",
   "metadata": {},
   "outputs": [],
   "source": [
    "x=int(input(\"Enter number : \"))\n",
    "num=1\n",
    "if x<0:\n",
    "    print(\"Error : factorial doesn't exit for \", x)\n",
    "elif x==0:\n",
    "    print('Error of factorial 0 is 1.')\n",
    "else:\n",
    "    for i in range(1,x+1):\n",
    "        num=num*i\n",
    "    print('Factorial of ',x,\"is\", num)"
   ]
  },
  {
   "cell_type": "code",
   "execution_count": null,
   "id": "361ccb92",
   "metadata": {},
   "outputs": [],
   "source": [
    "num=int(input(\"Enter any Number : \"))\n",
    "if num > 1:\n",
    "    \n",
    "    for i in range(2,num):\n",
    "        if num % i ==0:\n",
    "            print(num,\" is not a prime number\")\n",
    "            break\n",
    "        else:\n",
    "            print(num,\" is a prime Number\")\n",
    "            break\n",
    "elif num == 0 or num == 1:\n",
    "    print(num,\" is nither prime and nor a composite number\")\n",
    "else:\n",
    "    print(num,\" is a Prime number \")"
   ]
  },
  {
   "cell_type": "code",
   "execution_count": null,
   "id": "7cfbca2c",
   "metadata": {},
   "outputs": [],
   "source": [
    "stri=str(input(\"Enter any word : \"))\n",
    "def palindrome(string):\n",
    "    string=string.lower().replace(' ','')\n",
    "    return string==string[::-1]\n",
    "print(palindrome(stri))"
   ]
  },
  {
   "cell_type": "code",
   "execution_count": null,
   "id": "2e1681cc",
   "metadata": {},
   "outputs": [],
   "source": [
    "def pythagoras(opposite_side,adjacent_side,hypotenuse):\n",
    "        if opposite_side == str(\"x\"):\n",
    "            return (\"Opposite = \" + str(((hypotenuse**2) - (adjacent_side**2))**0.5))\n",
    "        elif adjacent_side == str(\"x\"):\n",
    "            return (\"Adjacent = \" + str(((hypotenuse**2) - (opposite_side**2))**0.5))\n",
    "        elif hypotenuse == str(\"x\"):\n",
    "            return (\"Hypotenuse = \" + str(((opposite_side**2) + (adjacent_side**2))**0.5))\n",
    "        else:\n",
    "            return \"xyz\"\n",
    "print(pythagoras(12,'x',13))"
   ]
  },
  {
   "cell_type": "code",
   "execution_count": null,
   "id": "17ac3b37",
   "metadata": {},
   "outputs": [],
   "source": [
    "check= str(input(\"Enter a word to check: \")) \n",
    "dicti = {}\n",
    "for i in check:\n",
    "    dicti[i] = dicti.get(i, 0) + 1\n",
    "print(\"Frequency of  character :\\n \",dicti)"
   ]
  }
 ],
 "metadata": {
  "kernelspec": {
   "display_name": "Python 3 (ipykernel)",
   "language": "python",
   "name": "python3"
  },
  "language_info": {
   "codemirror_mode": {
    "name": "ipython",
    "version": 3
   },
   "file_extension": ".py",
   "mimetype": "text/x-python",
   "name": "python",
   "nbconvert_exporter": "python",
   "pygments_lexer": "ipython3",
   "version": "3.11.3"
  }
 },
 "nbformat": 4,
 "nbformat_minor": 5
}
