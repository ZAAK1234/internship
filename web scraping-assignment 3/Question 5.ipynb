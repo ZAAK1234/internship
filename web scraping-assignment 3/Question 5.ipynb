{
 "cells": [
  {
   "cell_type": "markdown",
   "id": "b0c4858a",
   "metadata": {},
   "source": [
    "### Question 5\n",
    "Write a program to scrap geospatial coordinates (latitude, longitude) of a city searched on google maps"
   ]
  },
  {
   "cell_type": "code",
   "execution_count": 1,
   "id": "7c68e913",
   "metadata": {},
   "outputs": [],
   "source": [
    "import selenium\n",
    "from selenium import webdriver\n",
    "from selenium.webdriver.common.by import By\n",
    "import time\n",
    "import pandas as pd\n",
    "import warnings\n",
    "warnings.filterwarnings('ignore')\n",
    "from selenium.common.exceptions import NoSuchElementException\n",
    "import re"
   ]
  },
  {
   "cell_type": "code",
   "execution_count": 36,
   "id": "3c18894b",
   "metadata": {},
   "outputs": [
    {
     "name": "stdout",
     "output_type": "stream",
     "text": [
      "Enter city Name Which you want to search :Vadodra\n",
      "https://www.google.co.in/maps/place/Vadodara,+Gujarat/@22.3220194,73.0082684,11z/data=!3m1!4b1!4m6!3m5!1s0x395fc8ab91a3ddab:0xac39d3bfe1473fb8!8m2!3d22.3071588!4d73.1812187!16zL20vMDJrZnhr?entry=ttu\n",
      "Latitude: 22.3220194 and Longitude : 73.0082684\n"
     ]
    }
   ],
   "source": [
    "dr=webdriver.Chrome()\n",
    "dr.get('https://www.google.co.in/maps')\n",
    "etr_cty=str(input('Enter city Name Which you want to search :'))\n",
    "ser_bar=dr.find_element(By.ID,'searchboxinput').send_keys(etr_cty)\n",
    "ser_btn=dr.find_element(By.ID,'searchbox-searchbutton').click()\n",
    "time.sleep(5)\n",
    "url=dr.current_url\n",
    "print(url)\n",
    "lat_long=re.findall(r'@(.*),',url)\n",
    "if len(lat_long):\n",
    "    lat_long=lat_long[0].split(\",\")\n",
    "    latitude=lat_long[0]\n",
    "    longitude=lat_long[1]\n",
    "print('Latitude: {0} and Longitude : {1}'.format(latitude,longitude))"
   ]
  },
  {
   "cell_type": "code",
   "execution_count": null,
   "id": "4c85c8eb",
   "metadata": {},
   "outputs": [],
   "source": []
  }
 ],
 "metadata": {
  "kernelspec": {
   "display_name": "Python 3 (ipykernel)",
   "language": "python",
   "name": "python3"
  },
  "language_info": {
   "codemirror_mode": {
    "name": "ipython",
    "version": 3
   },
   "file_extension": ".py",
   "mimetype": "text/x-python",
   "name": "python",
   "nbconvert_exporter": "python",
   "pygments_lexer": "ipython3",
   "version": "3.11.3"
  }
 },
 "nbformat": 4,
 "nbformat_minor": 5
}
