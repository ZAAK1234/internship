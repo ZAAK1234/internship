{
 "cells": [
  {
   "cell_type": "markdown",
   "id": "d6b816c6",
   "metadata": {},
   "source": [
    "### Question 1 & 2\n",
    "1. Write a python program which searches all the product under a particular product from www.amazon.in. The \n",
    "product to be searched will be taken as input from user. For e.g. If user input is ‘guitar’. Then search for \n",
    "guitars.  \n",
    "2. In the above question, now scrape the following details of each product listed in first 3 pages of your search \n",
    "results and save it in a data frame and csv. In case if any product has less than 3 pages in search results then \n",
    "scrape all the products available under that product name. Details to be scraped are: \"Brand  \n",
    "Name\", \"Name of the Product\", \"Price\", \"Return/Exchange\", \"Expected Delivery\", \"Availability\" and  \n",
    "“Product URL”. In case, if any of the details are missing for any of the product then replace it by “-“.  "
   ]
  },
  {
   "cell_type": "code",
   "execution_count": 1,
   "id": "8ea0dede",
   "metadata": {},
   "outputs": [],
   "source": [
    "import selenium\n",
    "from selenium import webdriver\n",
    "from selenium.webdriver.common.by import By\n",
    "import time\n",
    "import pandas as pd\n",
    "import warnings\n",
    "warnings.filterwarnings('ignore')\n",
    "from selenium.common.exceptions import ElementNotInteractableException,NoSuchElementException,ElementClickInterceptedException\n",
    "from selenium.webdriver.support.ui import WebDriverWait\n",
    "from selenium.webdriver.support import expected_conditions as EC\n"
   ]
  },
  {
   "cell_type": "code",
   "execution_count": 18,
   "id": "d74bd870",
   "metadata": {},
   "outputs": [],
   "source": [
    "dr=webdriver.Chrome()\n",
    "\n",
    "dr.get('http://www.amazon.in/')"
   ]
  },
  {
   "cell_type": "code",
   "execution_count": null,
   "id": "1c22bcd0",
   "metadata": {},
   "outputs": [],
   "source": []
  },
  {
   "cell_type": "code",
   "execution_count": null,
   "id": "c9cfea85",
   "metadata": {},
   "outputs": [],
   "source": [
    "dr.maximize_window()"
   ]
  },
  {
   "cell_type": "code",
   "execution_count": 23,
   "id": "15e518f2",
   "metadata": {
    "scrolled": false
   },
   "outputs": [
    {
     "name": "stdout",
     "output_type": "stream",
     "text": [
      "Enter Product :sports shoes\n",
      "Exception Raised: Message: element not interactable\n",
      "  (Session info: chrome=121.0.6167.161)\n",
      "Stacktrace:\n",
      "\tGetHandleVerifier [0x00007FF7C0FD5E42+3538674]\n",
      "\t(No symbol) [0x00007FF7C0BF4C02]\n",
      "\t(No symbol) [0x00007FF7C0AA599D]\n",
      "\t(No symbol) [0x00007FF7C0AE6E87]\n",
      "\t(No symbol) [0x00007FF7C0AE597F]\n",
      "\t(No symbol) [0x00007FF7C0B0F0AA]\n",
      "\t(No symbol) [0x00007FF7C0AE124A]\n",
      "\t(No symbol) [0x00007FF7C0B0F2C0]\n",
      "\t(No symbol) [0x00007FF7C0B2BDE3]\n",
      "\t(No symbol) [0x00007FF7C0B0EE53]\n",
      "\t(No symbol) [0x00007FF7C0ADF514]\n",
      "\t(No symbol) [0x00007FF7C0AE0631]\n",
      "\tGetHandleVerifier [0x00007FF7C1006CAD+3738973]\n",
      "\tGetHandleVerifier [0x00007FF7C105C506+4089270]\n",
      "\tGetHandleVerifier [0x00007FF7C1054823+4057299]\n",
      "\tGetHandleVerifier [0x00007FF7C0D25C49+720121]\n",
      "\t(No symbol) [0x00007FF7C0C0126F]\n",
      "\t(No symbol) [0x00007FF7C0BFC304]\n",
      "\t(No symbol) [0x00007FF7C0BFC432]\n",
      "\t(No symbol) [0x00007FF7C0BEBD04]\n",
      "\tBaseThreadInitThunk [0x00007FF908937344+20]\n",
      "\tRtlUserThreadStart [0x00007FF9091A26B1+33]\n",
      "\n"
     ]
    }
   ],
   "source": [
    "\n",
    "inp=str(input('Enter Product :'))\n",
    "try:\n",
    "    ser=dr.find_element(By.CLASS_NAME,'nav-fill')\n",
    "    ser.send_keys(inp)\n",
    "except ElementNotInteractableException as e:\n",
    "    print('Exception Raised:',e)\n",
    "    ser1=dr.find_element(By.ID,'twotabsearchtextbox')\n",
    "    ser1.send_keys(inp)\n",
    "try:\n",
    "    sr_pr = dr.find_element(By.CLASS_NAME,\"nav-right\")\n",
    "    sr_pr.click()\n",
    "except ElementClickInterceptedException as e:\n",
    "    print('Exception Raised :',e)\n",
    "    sr_pr = dr.find_element(By.ID,\"nav-search-submit-text\")\n",
    "    sr_pr.click()\n",
    "\n",
    "    \n"
   ]
  },
  {
   "cell_type": "code",
   "execution_count": 24,
   "id": "59c44c4c",
   "metadata": {},
   "outputs": [
    {
     "name": "stdout",
     "output_type": "stream",
     "text": [
      "Printing page  1\n",
      "Printing page  2\n",
      "Printing page  3\n"
     ]
    }
   ],
   "source": [
    "urls=[]\n",
    "for page in range(0,3):\n",
    "    print('Printing page ', page+1)\n",
    "    url=dr.find_elements(By.XPATH,'//a[@class=\"a-link-normal s-underline-text s-underline-link-text s-link-style a-text-normal\"]')\n",
    "    \n",
    "    for i in url:\n",
    "        url_=i.get_attribute('href')\n",
    "        urls.append(url_)"
   ]
  },
  {
   "cell_type": "code",
   "execution_count": 25,
   "id": "a464d8c9",
   "metadata": {},
   "outputs": [],
   "source": [
    "\n",
    "    \n",
    "\"\"\"\"try:\n",
    "        nxtbtn=dr.find_element(By.XPATH,'//a[@class=\"s-pagination-item s-pagination-next s-pagination-button s-pagination-separator\"]')\n",
    "        nxtbtn.click()\n",
    "        time.sleep(5)\n",
    "    except NoSuchElementException as e:\n",
    "        nxtbtn1=dr.find_element(By.CLASS_NAME,'s-pagination-item s-pagination-next s-pagination-button s-pagination-separator')\n",
    "        nxtbtn1.click()\n",
    "        time.sleep(5)\n",
    "        \"\"\"\n",
    "br_name=[]\n",
    "avalbl=[]\n",
    "pr_name=[]\n",
    "pr_price=[]\n",
    "rt_ex=[]\n",
    "ex_dlvr=[]\n",
    "for i in urls[0:10]:\n",
    "    dr.get(i)\n",
    "    time.sleep(5)       \n",
    "    \n",
    "    try:\n",
    "        brname=dr.find_element(By.ID,\"//a[@id='bylineInfo']\")\n",
    "        br_name.append(brname.text)\n",
    "        time.sleep(5)\n",
    "    except NoSuchElementException as e:\n",
    "        brname1=dr.find_element(By.XPATH,'/html/body/div[2]/div/div[5]/div[1]/div[1]/div[2]/div[2]/div/div/div[1]/div[1]/div[1]/div/div/a')\n",
    "        br_name.append(brname1.text)\n",
    "        time.sleep(5)\n",
    "        \n",
    "    try:\n",
    "        prname=dr.find_element(By.XPATH,\"//span[@id='productTitle']\")\n",
    "        pr_name.append(prname.text)\n",
    "        time.sleep(5)\n",
    "    except NoSuchElementException as e:\n",
    "        prname1=dr.find_element(By.XPATH,'//span[@class=\"a-size-large product-title-word-break\"]')\n",
    "        pr_name.append(prname1)\n",
    "        time.sleep(5)\n",
    "    try:\n",
    "        price=dr.find_element(By.XPATH,'//span[@class=\"a-price-whole\"]')\n",
    "        pr_price.append(price.text)\n",
    "        time.sleep(5)\n",
    "    except NoSuchElementException as e:\n",
    "        price1=dr.find_element(By.XPATH,'/html/body/div[2]/div/div[5]/div[1]/div[1]/div[2]/div[2]/div/div/div[1]/div[3]/div/div/div[4]/div[1]/span[3]/span[2]/span[2]')\n",
    "        pr_price.append(price1.text)\n",
    "        time.sleep(5)\n",
    "    try:\n",
    "        rtex=dr.find_element(By.XPATH,'//span[@class=\"a-size-small a-color-link a-text-normal\"]')\n",
    "        rt_ex.append(rtex.text)\n",
    "        time.sleep(5)\n",
    "    except NoSuchElementException as e:\n",
    "        rtex1=dr.find_element(By.XPATH,'/html/body/div[2]/div/div[5]/div[1]/div[1]/div[2]/div[2]/div/div/div[1]/div[14]/div[2]/div/div/div/div[2]/div/ol/li[2]/div/div[2]/span')\n",
    "        rt_ex.append(rtex1.text)\n",
    "        time.sleep(5)\n",
    "    try:\n",
    "        exdlvr=dr.find_element(By.XPATH,'//span[@class=\"a-text-bold\"]')\n",
    "        ex_dlvr.append(exdlvr.text)\n",
    "        time.sleep(5)\n",
    "    except NoSuchElementException as e:\n",
    "        exdlvr1=dr.find_element(By.XPATH,'/html/body/div[2]/div/div[5]/div[1]/div[1]/div[2]/div[2]/div/div/div[2]/div[3]/div/div[1]/div/div/div/form/div/div/div/div/div[4]/div/div[3]/div[10]/div[1]/div/div/div[2]/span/span[1]')\n",
    "        ex_dlvr.append(exdlvr1.text)\n",
    "        time.sleep(5)\n",
    "    try:\n",
    "        avl=dr.find_element(By.XPATH,'//span[@class=\"a-size-medium a-color-success\"]')\n",
    "        avalbl.append(avl.text)\n",
    "        time.sleep(5)\n",
    "    except NoSuchElementException as e:\n",
    "        avl1=dr.find_element(By.XPATH,'/html/body/div[2]/div/div[5]/div[1]/div[1]/div[2]/div[2]/div/div/div[2]/div[3]/div/div[1]/div/div/div/form/div/div/div/div/div[4]/div/div[5]/div/div[1]/span')\n",
    "        avalbl.append(avl1.text)\n",
    "        time.sleep(5)\n",
    "        \n",
    "        \n",
    "\n",
    "        \n",
    "    "
   ]
  },
  {
   "cell_type": "raw",
   "id": "7b6887b4",
   "metadata": {},
   "source": [
    "print(len(br_name))\n",
    "print(len(avalbl))\n",
    "print(len(pr_name))\n",
    "print(len(pr_price))\n",
    "print(len(rt_ex))\n",
    "print(len(ex_dlvr))"
   ]
  },
  {
   "cell_type": "raw",
   "id": "df9ef1ae",
   "metadata": {},
   "source": [
    "Product=pd.DataFrame({})\n",
    "Product['Brand']"
   ]
  },
  {
   "cell_type": "code",
   "execution_count": null,
   "id": "f04a23c7",
   "metadata": {},
   "outputs": [],
   "source": []
  },
  {
   "cell_type": "code",
   "execution_count": null,
   "id": "6d6e1a0d",
   "metadata": {},
   "outputs": [],
   "source": []
  },
  {
   "cell_type": "code",
   "execution_count": null,
   "id": "7ec50f10",
   "metadata": {},
   "outputs": [],
   "source": []
  },
  {
   "cell_type": "code",
   "execution_count": null,
   "id": "617d41ae",
   "metadata": {},
   "outputs": [],
   "source": []
  }
 ],
 "metadata": {
  "kernelspec": {
   "display_name": "Python 3 (ipykernel)",
   "language": "python",
   "name": "python3"
  },
  "language_info": {
   "codemirror_mode": {
    "name": "ipython",
    "version": 3
   },
   "file_extension": ".py",
   "mimetype": "text/x-python",
   "name": "python",
   "nbconvert_exporter": "python",
   "pygments_lexer": "ipython3",
   "version": "3.11.3"
  }
 },
 "nbformat": 4,
 "nbformat_minor": 5
}
