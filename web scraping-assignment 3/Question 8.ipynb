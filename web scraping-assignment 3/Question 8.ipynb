{
 "cells": [
  {
   "cell_type": "markdown",
   "id": "f55261a2",
   "metadata": {},
   "source": [
    "### Question 8\n",
    "Write a program to extract at least 500 Comments, Comment upvote and time when comment was posted \n",
    "from any YouTube Video."
   ]
  },
  {
   "cell_type": "code",
   "execution_count": 1,
   "id": "4807c508",
   "metadata": {},
   "outputs": [],
   "source": [
    "import selenium\n",
    "from selenium import webdriver\n",
    "from selenium.webdriver.common.by import By\n",
    "from selenium.common.exceptions import NoSuchElementException\n",
    "import pandas as pd\n",
    "import warnings\n",
    "warnings.filterwarnings('ignore')\n",
    "from selenium.webdriver.common.keys import Keys\n",
    "import time"
   ]
  },
  {
   "cell_type": "code",
   "execution_count": 34,
   "id": "9ea1b6ca",
   "metadata": {},
   "outputs": [],
   "source": [
    "dr=webdriver.Chrome()\n",
    "dr.get('https://www.youtube.com')"
   ]
  },
  {
   "cell_type": "code",
   "execution_count": 70,
   "id": "71aa7dc2",
   "metadata": {},
   "outputs": [],
   "source": [
    "dr.get('https://www.youtube.com')\n",
    "ser_bar=dr.find_element(By.XPATH,'//input[@id=\"search\"]')\n",
    "ser_bar.send_keys('Budget 2024 by Dhruv Rathee')\n",
    "time.sleep(5)\n",
    "#ser_bar.keys(Keys.ENTER)\n",
    "ser_bar.submit()"
   ]
  },
  {
   "cell_type": "code",
   "execution_count": null,
   "id": "0bfe4470",
   "metadata": {},
   "outputs": [],
   "source": [
    "Comment=[]\n",
    "Time=[]\n",
    "Up_Comment=[]\n",
    "dr.get('https://www.youtube.com')\n",
    "ser_bar=dr.find_element(By.XPATH,'//input[@id=\"search\"]')\n",
    "ser_bar.send_keys('Budget 2024 by Dhruv Rathee')\n",
    "time.sleep(5)\n",
    "#ser_bar.keys(Keys.ENTER)\n",
    "ser_bar.submit()\n",
    "time.sleep(10)\n",
    "\n",
    "        \n",
    "    \n"
   ]
  },
  {
   "cell_type": "code",
   "execution_count": null,
   "id": "705efd6f",
   "metadata": {},
   "outputs": [],
   "source": [
    "\n",
    "\n",
    "\n",
    "op_vd=dr.find_element(By.XPATH,\"/html/body/ytd-app/div[1]/ytd-page-manager/ytd-search/div[1]/ytd-two-column-search-results-renderer/div/ytd-section-list-renderer/div[2]/ytd-item-section-renderer/div[3]/ytd-video-renderer[1]/div[1]/div/div[1]/div/h3/a/yt-formatted-string\")\n",
    "op_vd.click()\n",
    "tm=dr.find_elements(By.XPATH,'//div[@id=\"body\"]/div[2]/div[1]/div[2]/yt-formatted-string')\n",
    "cmnt=dr.find_elements(By.XPATH,'//ytd-comments[@id=\"comments\"]/ytd-item-section-renderer/div[3]/ytd-comment-thread-renderer/ytd-comment-renderer/div[3]/div[2]/div[2]')\n",
    "upcmnt=dr.find_elements(By.XPATH,'//span[@id=\"vote-count-middle\"]')\n",
    "\n",
    "\n",
    "        "
   ]
  },
  {
   "cell_type": "code",
   "execution_count": null,
   "id": "5915336b",
   "metadata": {},
   "outputs": [],
   "source": [
    "for _ in range(100):\n",
    "    dr.execute_script(\"window.scrollBy(0,500)\")\n",
    "    time.sleep(10)"
   ]
  },
  {
   "cell_type": "code",
   "execution_count": null,
   "id": "c1ea48f3",
   "metadata": {},
   "outputs": [],
   "source": [
    "for i in cmnt:\n",
    "    cm=i.text\n",
    "    Comment.append(cm)\n",
    "    time.sleep(5)\n",
    "for j in tm:\n",
    "    t=j.text\n",
    "    Time.append(t)\n",
    "    time.sleep(5)\n",
    "for k in upcmnt:\n",
    "    up=k.text\n",
    "    Up_Comment.append(up)"
   ]
  },
  {
   "cell_type": "code",
   "execution_count": 80,
   "id": "3ba2715f",
   "metadata": {},
   "outputs": [
    {
     "data": {
      "text/plain": [
       "[]"
      ]
     },
     "execution_count": 80,
     "metadata": {},
     "output_type": "execute_result"
    }
   ],
   "source": [
    "Comment"
   ]
  },
  {
   "cell_type": "code",
   "execution_count": 69,
   "id": "afb1ddb3",
   "metadata": {},
   "outputs": [
    {
     "data": {
      "text/html": [
       "<div>\n",
       "<style scoped>\n",
       "    .dataframe tbody tr th:only-of-type {\n",
       "        vertical-align: middle;\n",
       "    }\n",
       "\n",
       "    .dataframe tbody tr th {\n",
       "        vertical-align: top;\n",
       "    }\n",
       "\n",
       "    .dataframe thead th {\n",
       "        text-align: right;\n",
       "    }\n",
       "</style>\n",
       "<table border=\"1\" class=\"dataframe\">\n",
       "  <thead>\n",
       "    <tr style=\"text-align: right;\">\n",
       "      <th></th>\n",
       "      <th>Comments</th>\n",
       "      <th>Time</th>\n",
       "      <th>Up Vote</th>\n",
       "    </tr>\n",
       "  </thead>\n",
       "  <tbody>\n",
       "  </tbody>\n",
       "</table>\n",
       "</div>"
      ],
      "text/plain": [
       "Empty DataFrame\n",
       "Columns: [Comments, Time, Up Vote]\n",
       "Index: []"
      ]
     },
     "execution_count": 69,
     "metadata": {},
     "output_type": "execute_result"
    }
   ],
   "source": [
    "yt=pd.DataFrame({})\n",
    "yt['Comments']=Comment\n",
    "yt['Time']=Time\n",
    "yt['Up Vote']=Up_Comment\n",
    "yt"
   ]
  }
 ],
 "metadata": {
  "kernelspec": {
   "display_name": "Python 3 (ipykernel)",
   "language": "python",
   "name": "python3"
  },
  "language_info": {
   "codemirror_mode": {
    "name": "ipython",
    "version": 3
   },
   "file_extension": ".py",
   "mimetype": "text/x-python",
   "name": "python",
   "nbconvert_exporter": "python",
   "pygments_lexer": "ipython3",
   "version": "3.11.3"
  }
 },
 "nbformat": 4,
 "nbformat_minor": 5
}
