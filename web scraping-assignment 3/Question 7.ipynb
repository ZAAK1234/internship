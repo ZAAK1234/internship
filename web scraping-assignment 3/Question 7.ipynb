{
 "cells": [
  {
   "cell_type": "markdown",
   "id": "11660da1",
   "metadata": {},
   "source": [
    "### Question 7\n",
    "Write a python program to scrape the details for all billionaires from www.forbes.com. Details to be scrapped: \n",
    "“Rank”, “Name”, “Net worth”, “Age”, “Citizenship”, “Source”, “Industry”"
   ]
  },
  {
   "cell_type": "code",
   "execution_count": 3,
   "id": "63052362",
   "metadata": {},
   "outputs": [],
   "source": [
    "import selenium\n",
    "from selenium import webdriver\n",
    "from selenium.webdriver.common.by import By\n",
    "from selenium.webdriver.common.keys import Keys\n",
    "from selenium.common.exceptions import NoSuchElementException\n",
    "import time\n",
    "import pandas as pd\n",
    "import warnings\n",
    "warnings.filterwarnings('ignore')"
   ]
  },
  {
   "cell_type": "code",
   "execution_count": 4,
   "id": "4f82e57b",
   "metadata": {},
   "outputs": [],
   "source": [
    "dr=webdriver.Chrome()\n",
    "dr.get('http://www.forbes.com/')"
   ]
  },
  {
   "cell_type": "code",
   "execution_count": 7,
   "id": "201056bf",
   "metadata": {},
   "outputs": [],
   "source": [
    "mnu_bar=dr.find_element(By.XPATH,'//div[@class=\"_69hVhdY4\"]')\n",
    "mnu_bar.click()\n",
    "time.sleep(5)\n",
    "blnr_btn=dr.find_element(By.XPATH,'//div[@class=\"mpBfVZz3\"]')\n",
    "blnr_btn.click()\n",
    "time.sleep(5)\n",
    "\n",
    "all_blnr=dr.find_element(By.XPATH,'//li[@class=\"TjJgrPSg _2bNo56RE secondary\"]/a')\n",
    "all_blnr.click()"
   ]
  },
  {
   "cell_type": "code",
   "execution_count": 8,
   "id": "52a335d1",
   "metadata": {},
   "outputs": [],
   "source": [
    "Rank=[]\n",
    "Name=[]\n",
    "net_worth=[]\n",
    "Age=[]\n",
    "Country=[]\n",
    "Source=[]\n",
    "Industry=[]"
   ]
  },
  {
   "cell_type": "code",
   "execution_count": 9,
   "id": "e365ecc7",
   "metadata": {},
   "outputs": [
    {
     "ename": "WebDriverException",
     "evalue": "Message: target frame detached\n  (failed to check if window was closed: no such window: No target with given id found)\n  (Session info: chrome=121.0.6167.161)\nStacktrace:\n\tGetHandleVerifier [0x00007FF7C0FD5E42+3538674]\n\t(No symbol) [0x00007FF7C0BF4C02]\n\t(No symbol) [0x00007FF7C0AA599D]\n\t(No symbol) [0x00007FF7C0A92D43]\n\t(No symbol) [0x00007FF7C0A913A5]\n\t(No symbol) [0x00007FF7C0A91E5F]\n\t(No symbol) [0x00007FF7C0A9F32E]\n\t(No symbol) [0x00007FF7C0AB2044]\n\t(No symbol) [0x00007FF7C0B2BF33]\n\t(No symbol) [0x00007FF7C0B0EE53]\n\t(No symbol) [0x00007FF7C0ADF514]\n\t(No symbol) [0x00007FF7C0AE0631]\n\tGetHandleVerifier [0x00007FF7C1006CAD+3738973]\n\tGetHandleVerifier [0x00007FF7C105C506+4089270]\n\tGetHandleVerifier [0x00007FF7C1054823+4057299]\n\tGetHandleVerifier [0x00007FF7C0D25C49+720121]\n\t(No symbol) [0x00007FF7C0C0126F]\n\t(No symbol) [0x00007FF7C0BFC304]\n\t(No symbol) [0x00007FF7C0BFC432]\n\t(No symbol) [0x00007FF7C0BEBD04]\n\tBaseThreadInitThunk [0x00007FF908937344+20]\n\tRtlUserThreadStart [0x00007FF9091A26B1+33]\n",
     "output_type": "error",
     "traceback": [
      "\u001b[1;31m---------------------------------------------------------------------------\u001b[0m",
      "\u001b[1;31mWebDriverException\u001b[0m                        Traceback (most recent call last)",
      "Cell \u001b[1;32mIn[9], line 13\u001b[0m\n\u001b[0;32m     11\u001b[0m     name\u001b[38;5;241m=\u001b[39mdr\u001b[38;5;241m.\u001b[39mfind_elements(By\u001b[38;5;241m.\u001b[39mXPATH,\u001b[38;5;124m'\u001b[39m\u001b[38;5;124m//div[@class=\u001b[39m\u001b[38;5;124m\"\u001b[39m\u001b[38;5;124mTableRow_cell__db-hv Table_cell__houv9\u001b[39m\u001b[38;5;124m\"\u001b[39m\u001b[38;5;124m][2]/div\u001b[39m\u001b[38;5;124m'\u001b[39m)\n\u001b[0;32m     12\u001b[0m     \u001b[38;5;28;01mfor\u001b[39;00m b \u001b[38;5;129;01min\u001b[39;00m name:\n\u001b[1;32m---> 13\u001b[0m         nm\u001b[38;5;241m=\u001b[39m\u001b[43mb\u001b[49m\u001b[38;5;241;43m.\u001b[39;49m\u001b[43mtext\u001b[49m\n\u001b[0;32m     14\u001b[0m         Name\u001b[38;5;241m.\u001b[39mappend(nm)\n\u001b[0;32m     15\u001b[0m \u001b[38;5;28;01mexcept\u001b[39;00m NoSuchElementException:\n",
      "File \u001b[1;32m~\\AppData\\Local\\Programs\\Python\\Python311\\Lib\\site-packages\\selenium\\webdriver\\remote\\webelement.py:90\u001b[0m, in \u001b[0;36mWebElement.text\u001b[1;34m(self)\u001b[0m\n\u001b[0;32m     87\u001b[0m \u001b[38;5;129m@property\u001b[39m\n\u001b[0;32m     88\u001b[0m \u001b[38;5;28;01mdef\u001b[39;00m \u001b[38;5;21mtext\u001b[39m(\u001b[38;5;28mself\u001b[39m) \u001b[38;5;241m-\u001b[39m\u001b[38;5;241m>\u001b[39m \u001b[38;5;28mstr\u001b[39m:\n\u001b[0;32m     89\u001b[0m \u001b[38;5;250m    \u001b[39m\u001b[38;5;124;03m\"\"\"The text of the element.\"\"\"\u001b[39;00m\n\u001b[1;32m---> 90\u001b[0m     \u001b[38;5;28;01mreturn\u001b[39;00m \u001b[38;5;28;43mself\u001b[39;49m\u001b[38;5;241;43m.\u001b[39;49m\u001b[43m_execute\u001b[49m\u001b[43m(\u001b[49m\u001b[43mCommand\u001b[49m\u001b[38;5;241;43m.\u001b[39;49m\u001b[43mGET_ELEMENT_TEXT\u001b[49m\u001b[43m)\u001b[49m[\u001b[38;5;124m\"\u001b[39m\u001b[38;5;124mvalue\u001b[39m\u001b[38;5;124m\"\u001b[39m]\n",
      "File \u001b[1;32m~\\AppData\\Local\\Programs\\Python\\Python311\\Lib\\site-packages\\selenium\\webdriver\\remote\\webelement.py:395\u001b[0m, in \u001b[0;36mWebElement._execute\u001b[1;34m(self, command, params)\u001b[0m\n\u001b[0;32m    393\u001b[0m     params \u001b[38;5;241m=\u001b[39m {}\n\u001b[0;32m    394\u001b[0m params[\u001b[38;5;124m\"\u001b[39m\u001b[38;5;124mid\u001b[39m\u001b[38;5;124m\"\u001b[39m] \u001b[38;5;241m=\u001b[39m \u001b[38;5;28mself\u001b[39m\u001b[38;5;241m.\u001b[39m_id\n\u001b[1;32m--> 395\u001b[0m \u001b[38;5;28;01mreturn\u001b[39;00m \u001b[38;5;28;43mself\u001b[39;49m\u001b[38;5;241;43m.\u001b[39;49m\u001b[43m_parent\u001b[49m\u001b[38;5;241;43m.\u001b[39;49m\u001b[43mexecute\u001b[49m\u001b[43m(\u001b[49m\u001b[43mcommand\u001b[49m\u001b[43m,\u001b[49m\u001b[43m \u001b[49m\u001b[43mparams\u001b[49m\u001b[43m)\u001b[49m\n",
      "File \u001b[1;32m~\\AppData\\Local\\Programs\\Python\\Python311\\Lib\\site-packages\\selenium\\webdriver\\remote\\webdriver.py:348\u001b[0m, in \u001b[0;36mWebDriver.execute\u001b[1;34m(self, driver_command, params)\u001b[0m\n\u001b[0;32m    346\u001b[0m response \u001b[38;5;241m=\u001b[39m \u001b[38;5;28mself\u001b[39m\u001b[38;5;241m.\u001b[39mcommand_executor\u001b[38;5;241m.\u001b[39mexecute(driver_command, params)\n\u001b[0;32m    347\u001b[0m \u001b[38;5;28;01mif\u001b[39;00m response:\n\u001b[1;32m--> 348\u001b[0m     \u001b[38;5;28;43mself\u001b[39;49m\u001b[38;5;241;43m.\u001b[39;49m\u001b[43merror_handler\u001b[49m\u001b[38;5;241;43m.\u001b[39;49m\u001b[43mcheck_response\u001b[49m\u001b[43m(\u001b[49m\u001b[43mresponse\u001b[49m\u001b[43m)\u001b[49m\n\u001b[0;32m    349\u001b[0m     response[\u001b[38;5;124m\"\u001b[39m\u001b[38;5;124mvalue\u001b[39m\u001b[38;5;124m\"\u001b[39m] \u001b[38;5;241m=\u001b[39m \u001b[38;5;28mself\u001b[39m\u001b[38;5;241m.\u001b[39m_unwrap_value(response\u001b[38;5;241m.\u001b[39mget(\u001b[38;5;124m\"\u001b[39m\u001b[38;5;124mvalue\u001b[39m\u001b[38;5;124m\"\u001b[39m, \u001b[38;5;28;01mNone\u001b[39;00m))\n\u001b[0;32m    350\u001b[0m     \u001b[38;5;28;01mreturn\u001b[39;00m response\n",
      "File \u001b[1;32m~\\AppData\\Local\\Programs\\Python\\Python311\\Lib\\site-packages\\selenium\\webdriver\\remote\\errorhandler.py:229\u001b[0m, in \u001b[0;36mErrorHandler.check_response\u001b[1;34m(self, response)\u001b[0m\n\u001b[0;32m    227\u001b[0m         alert_text \u001b[38;5;241m=\u001b[39m value[\u001b[38;5;124m\"\u001b[39m\u001b[38;5;124malert\u001b[39m\u001b[38;5;124m\"\u001b[39m]\u001b[38;5;241m.\u001b[39mget(\u001b[38;5;124m\"\u001b[39m\u001b[38;5;124mtext\u001b[39m\u001b[38;5;124m\"\u001b[39m)\n\u001b[0;32m    228\u001b[0m     \u001b[38;5;28;01mraise\u001b[39;00m exception_class(message, screen, stacktrace, alert_text)  \u001b[38;5;66;03m# type: ignore[call-arg]  # mypy is not smart enough here\u001b[39;00m\n\u001b[1;32m--> 229\u001b[0m \u001b[38;5;28;01mraise\u001b[39;00m exception_class(message, screen, stacktrace)\n",
      "\u001b[1;31mWebDriverException\u001b[0m: Message: target frame detached\n  (failed to check if window was closed: no such window: No target with given id found)\n  (Session info: chrome=121.0.6167.161)\nStacktrace:\n\tGetHandleVerifier [0x00007FF7C0FD5E42+3538674]\n\t(No symbol) [0x00007FF7C0BF4C02]\n\t(No symbol) [0x00007FF7C0AA599D]\n\t(No symbol) [0x00007FF7C0A92D43]\n\t(No symbol) [0x00007FF7C0A913A5]\n\t(No symbol) [0x00007FF7C0A91E5F]\n\t(No symbol) [0x00007FF7C0A9F32E]\n\t(No symbol) [0x00007FF7C0AB2044]\n\t(No symbol) [0x00007FF7C0B2BF33]\n\t(No symbol) [0x00007FF7C0B0EE53]\n\t(No symbol) [0x00007FF7C0ADF514]\n\t(No symbol) [0x00007FF7C0AE0631]\n\tGetHandleVerifier [0x00007FF7C1006CAD+3738973]\n\tGetHandleVerifier [0x00007FF7C105C506+4089270]\n\tGetHandleVerifier [0x00007FF7C1054823+4057299]\n\tGetHandleVerifier [0x00007FF7C0D25C49+720121]\n\t(No symbol) [0x00007FF7C0C0126F]\n\t(No symbol) [0x00007FF7C0BFC304]\n\t(No symbol) [0x00007FF7C0BFC432]\n\t(No symbol) [0x00007FF7C0BEBD04]\n\tBaseThreadInitThunk [0x00007FF908937344+20]\n\tRtlUserThreadStart [0x00007FF9091A26B1+33]\n"
     ]
    }
   ],
   "source": [
    "for page in range(0,200):\n",
    "    \n",
    "    try:\n",
    "        rank=dr.find_elements(By.XPATH,'//div[@class=\"Table_rank___YBhk Table_dataCell__2QCve\"]')\n",
    "        for a in rank:\n",
    "            rnk=a.text\n",
    "            Rank.append(rnk)\n",
    "    except NoSuchElementException:\n",
    "        Rank.append('Data Not Available')\n",
    "    try:\n",
    "        name=dr.find_elements(By.XPATH,'//div[@class=\"TableRow_cell__db-hv Table_cell__houv9\"][2]/div')\n",
    "        for b in name:\n",
    "            nm=b.text\n",
    "            Name.append(nm)\n",
    "    except NoSuchElementException:\n",
    "        Name.append('Data Not Available')\n",
    "    try:\n",
    "        nt_wrth=dr.find_elements(By.XPATH,'//div[@class=\"Table_netWorth___L4R5 Table_dataCell__2QCve\"]')\n",
    "        for c in nt_wrth:\n",
    "            netwrth=c.text\n",
    "            net_worth.append(netwrth)\n",
    "    except NoSuchElementException:\n",
    "        net_worth.append('Data Not Available')\n",
    "    try:\n",
    "        age=dr.find_elements(By.XPATH,'//div[@class=\"TableRow_cell__db-hv Table_cell__houv9\"][4]/div')\n",
    "        for d in age:\n",
    "            ag=d.text\n",
    "            Age.append(ag)\n",
    "    except NoSuchElementException:\n",
    "        Age.append('Data Not Available')\n",
    "    try:\n",
    "        cntr=dr.find_elements(By.XPATH,'//div[@class=\"TableRow_cell__db-hv Table_cell__houv9\"][5]')\n",
    "        for e in cntr:\n",
    "            ctr=e.text\n",
    "            Country.append(ctr)\n",
    "    except NoSuchElementException:\n",
    "        Country.append('Data Not Available')\n",
    "    try:\n",
    "        src=dr.find_elements(By.XPATH,'//div[@class=\"TableRow_cell__db-hv Table_cell__houv9\"][6]')\n",
    "        for f in src:\n",
    "            source=f.text\n",
    "            Source.append(source)\n",
    "    except NoSuchElementException:\n",
    "        Source.append('Data Not Available')\n",
    "    try:\n",
    "        indstr=dr.find_elements(By.XPATH,'//div[@class=\"TableRow_cell__db-hv Table_cell__houv9\"][7]')\n",
    "        for g in indstr:\n",
    "            industry=g.text\n",
    "            Industry.append(industry)\n",
    "    except NoSuchElementException:\n",
    "        Industry.append('Data Not Available')\n",
    "    nxt_btn=dr.find_element(By.XPATH,'//button[@class=\"Pagination_paginationBtn__UIBE-\"]')\n",
    "    nxt_btn.click()"
   ]
  },
  {
   "cell_type": "code",
   "execution_count": null,
   "id": "3a4f2639",
   "metadata": {},
   "outputs": [],
   "source": [
    "print(len(Rank))\n",
    "print(len(Name))\n",
    "print(len(net_worth))\n",
    "print(len(Age))\n",
    "print(len(Country))\n",
    "print(len(Source))\n",
    "print(len(Industry))"
   ]
  },
  {
   "cell_type": "code",
   "execution_count": null,
   "id": "f5b8e1cd",
   "metadata": {},
   "outputs": [],
   "source": []
  }
 ],
 "metadata": {
  "kernelspec": {
   "display_name": "Python 3 (ipykernel)",
   "language": "python",
   "name": "python3"
  },
  "language_info": {
   "codemirror_mode": {
    "name": "ipython",
    "version": 3
   },
   "file_extension": ".py",
   "mimetype": "text/x-python",
   "name": "python",
   "nbconvert_exporter": "python",
   "pygments_lexer": "ipython3",
   "version": "3.11.3"
  }
 },
 "nbformat": 4,
 "nbformat_minor": 5
}
