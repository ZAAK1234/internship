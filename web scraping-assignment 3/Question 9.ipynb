{
 "cells": [
  {
   "cell_type": "markdown",
   "id": "05066786",
   "metadata": {},
   "source": [
    "### Question 9\n",
    "Write a python program to scrape a data for all available Hostels from https://www.hostelworld.com/ in \n",
    "“London” location. You have to scrape hostel name, distance from city centre, ratings, total reviews, overall \n",
    "reviews, privates from price, dorms from price, facilities and property description.  "
   ]
  },
  {
   "cell_type": "code",
   "execution_count": 1,
   "id": "3e34907a",
   "metadata": {},
   "outputs": [],
   "source": [
    "import selenium\n",
    "from selenium import webdriver\n",
    "from selenium.webdriver.common.by import By\n",
    "from selenium.common.exceptions import NoSuchElementException\n",
    "from selenium.webdriver.common.keys import Keys\n",
    "import time\n",
    "import pandas as pd\n",
    "import warnings\n",
    "warnings.filterwarnings('ignore')"
   ]
  },
  {
   "cell_type": "code",
   "execution_count": 2,
   "id": "675af7c9",
   "metadata": {},
   "outputs": [],
   "source": [
    "dr=webdriver.Chrome()\n",
    "dr.get('https://www.hostelworld.com/')"
   ]
  },
  {
   "cell_type": "code",
   "execution_count": 22,
   "id": "e68c5e32",
   "metadata": {},
   "outputs": [],
   "source": [
    "dr.get('https://www.hostelworld.com/')\n",
    "ser_bar=dr.find_element(By.XPATH,'/html/body/div[3]/div/div/div[2]/div[2]/div[2]/div/div/div/div[1]/div[1]/div/div[2]/input')\n",
    "ser_bar.send_keys('London')\n",
    "time.sleep(5)\n",
    "sel_city=dr.find_element(By.XPATH,'/html/body/div[3]/div/div/div[2]/div[2]/div[2]/div/div/div/div[1]/div[2]/div/ul/li[2]/button')\n",
    "sel_city.click()\n",
    "ser_city=dr.find_element(By.XPATH,'//button[@class=\"btn-content medium-button icon-only\"]')\n",
    "ser_city.click()"
   ]
  },
  {
   "cell_type": "code",
   "execution_count": 23,
   "id": "4434bf7c",
   "metadata": {},
   "outputs": [],
   "source": [
    "\n",
    "hostel_name=[]\n",
    "dis_city=[]\n",
    "rating=[]\n",
    "t_review=[]\n",
    "o_review=[]\n",
    "private_price=[]\n",
    "dorms_price=[]\n",
    "facility=[]\n",
    "pr_descr=[]\n"
   ]
  },
  {
   "cell_type": "code",
   "execution_count": 24,
   "id": "6d7ab4c1",
   "metadata": {},
   "outputs": [
    {
     "ename": "NoSuchElementException",
     "evalue": "Message: no such element: Unable to locate element: {\"method\":\"xpath\",\"selector\":\"//button[@class=\"pill-content page-nav nav-right icon-only\"]\"}\n  (Session info: chrome=121.0.6167.161); For documentation on this error, please visit: https://www.selenium.dev/documentation/webdriver/troubleshooting/errors#no-such-element-exception\nStacktrace:\n\tGetHandleVerifier [0x00007FF7C0FD5E42+3538674]\n\t(No symbol) [0x00007FF7C0BF4C02]\n\t(No symbol) [0x00007FF7C0AA5AEB]\n\t(No symbol) [0x00007FF7C0AEBF4E]\n\t(No symbol) [0x00007FF7C0AEC0CC]\n\t(No symbol) [0x00007FF7C0B2E477]\n\t(No symbol) [0x00007FF7C0B0F0EF]\n\t(No symbol) [0x00007FF7C0B2BDE3]\n\t(No symbol) [0x00007FF7C0B0EE53]\n\t(No symbol) [0x00007FF7C0ADF514]\n\t(No symbol) [0x00007FF7C0AE0631]\n\tGetHandleVerifier [0x00007FF7C1006CAD+3738973]\n\tGetHandleVerifier [0x00007FF7C105C506+4089270]\n\tGetHandleVerifier [0x00007FF7C1054823+4057299]\n\tGetHandleVerifier [0x00007FF7C0D25C49+720121]\n\t(No symbol) [0x00007FF7C0C0126F]\n\t(No symbol) [0x00007FF7C0BFC304]\n\t(No symbol) [0x00007FF7C0BFC432]\n\t(No symbol) [0x00007FF7C0BEBD04]\n\tBaseThreadInitThunk [0x00007FF908937344+20]\n\tRtlUserThreadStart [0x00007FF9091A26B1+33]\n",
     "output_type": "error",
     "traceback": [
      "\u001b[1;31m---------------------------------------------------------------------------\u001b[0m",
      "\u001b[1;31mNoSuchElementException\u001b[0m                    Traceback (most recent call last)",
      "Cell \u001b[1;32mIn[24], line 78\u001b[0m\n\u001b[0;32m     75\u001b[0m     \u001b[38;5;28;01mexcept\u001b[39;00m NoSuchElementException:\n\u001b[0;32m     76\u001b[0m          pr_descr\u001b[38;5;241m.\u001b[39mappend(\u001b[38;5;124m'\u001b[39m\u001b[38;5;124mData Not Available\u001b[39m\u001b[38;5;124m'\u001b[39m)\n\u001b[1;32m---> 78\u001b[0m nxt_btn\u001b[38;5;241m=\u001b[39m\u001b[43mdr\u001b[49m\u001b[38;5;241;43m.\u001b[39;49m\u001b[43mfind_element\u001b[49m\u001b[43m(\u001b[49m\u001b[43mBy\u001b[49m\u001b[38;5;241;43m.\u001b[39;49m\u001b[43mXPATH\u001b[49m\u001b[43m,\u001b[49m\u001b[38;5;124;43m'\u001b[39;49m\u001b[38;5;124;43m//button[@class=\u001b[39;49m\u001b[38;5;124;43m\"\u001b[39;49m\u001b[38;5;124;43mpill-content page-nav nav-right icon-only\u001b[39;49m\u001b[38;5;124;43m\"\u001b[39;49m\u001b[38;5;124;43m]\u001b[39;49m\u001b[38;5;124;43m'\u001b[39;49m\u001b[43m)\u001b[49m\n\u001b[0;32m     79\u001b[0m nxt_btn\u001b[38;5;241m.\u001b[39mclick()\n\u001b[0;32m     80\u001b[0m time\u001b[38;5;241m.\u001b[39msleep(\u001b[38;5;241m5\u001b[39m)\n",
      "File \u001b[1;32m~\\AppData\\Local\\Programs\\Python\\Python311\\Lib\\site-packages\\selenium\\webdriver\\remote\\webdriver.py:742\u001b[0m, in \u001b[0;36mWebDriver.find_element\u001b[1;34m(self, by, value)\u001b[0m\n\u001b[0;32m    739\u001b[0m     by \u001b[38;5;241m=\u001b[39m By\u001b[38;5;241m.\u001b[39mCSS_SELECTOR\n\u001b[0;32m    740\u001b[0m     value \u001b[38;5;241m=\u001b[39m \u001b[38;5;124mf\u001b[39m\u001b[38;5;124m'\u001b[39m\u001b[38;5;124m[name=\u001b[39m\u001b[38;5;124m\"\u001b[39m\u001b[38;5;132;01m{\u001b[39;00mvalue\u001b[38;5;132;01m}\u001b[39;00m\u001b[38;5;124m\"\u001b[39m\u001b[38;5;124m]\u001b[39m\u001b[38;5;124m'\u001b[39m\n\u001b[1;32m--> 742\u001b[0m \u001b[38;5;28;01mreturn\u001b[39;00m \u001b[38;5;28;43mself\u001b[39;49m\u001b[38;5;241;43m.\u001b[39;49m\u001b[43mexecute\u001b[49m\u001b[43m(\u001b[49m\u001b[43mCommand\u001b[49m\u001b[38;5;241;43m.\u001b[39;49m\u001b[43mFIND_ELEMENT\u001b[49m\u001b[43m,\u001b[49m\u001b[43m \u001b[49m\u001b[43m{\u001b[49m\u001b[38;5;124;43m\"\u001b[39;49m\u001b[38;5;124;43musing\u001b[39;49m\u001b[38;5;124;43m\"\u001b[39;49m\u001b[43m:\u001b[49m\u001b[43m \u001b[49m\u001b[43mby\u001b[49m\u001b[43m,\u001b[49m\u001b[43m \u001b[49m\u001b[38;5;124;43m\"\u001b[39;49m\u001b[38;5;124;43mvalue\u001b[39;49m\u001b[38;5;124;43m\"\u001b[39;49m\u001b[43m:\u001b[49m\u001b[43m \u001b[49m\u001b[43mvalue\u001b[49m\u001b[43m}\u001b[49m\u001b[43m)\u001b[49m[\u001b[38;5;124m\"\u001b[39m\u001b[38;5;124mvalue\u001b[39m\u001b[38;5;124m\"\u001b[39m]\n",
      "File \u001b[1;32m~\\AppData\\Local\\Programs\\Python\\Python311\\Lib\\site-packages\\selenium\\webdriver\\remote\\webdriver.py:348\u001b[0m, in \u001b[0;36mWebDriver.execute\u001b[1;34m(self, driver_command, params)\u001b[0m\n\u001b[0;32m    346\u001b[0m response \u001b[38;5;241m=\u001b[39m \u001b[38;5;28mself\u001b[39m\u001b[38;5;241m.\u001b[39mcommand_executor\u001b[38;5;241m.\u001b[39mexecute(driver_command, params)\n\u001b[0;32m    347\u001b[0m \u001b[38;5;28;01mif\u001b[39;00m response:\n\u001b[1;32m--> 348\u001b[0m     \u001b[38;5;28;43mself\u001b[39;49m\u001b[38;5;241;43m.\u001b[39;49m\u001b[43merror_handler\u001b[49m\u001b[38;5;241;43m.\u001b[39;49m\u001b[43mcheck_response\u001b[49m\u001b[43m(\u001b[49m\u001b[43mresponse\u001b[49m\u001b[43m)\u001b[49m\n\u001b[0;32m    349\u001b[0m     response[\u001b[38;5;124m\"\u001b[39m\u001b[38;5;124mvalue\u001b[39m\u001b[38;5;124m\"\u001b[39m] \u001b[38;5;241m=\u001b[39m \u001b[38;5;28mself\u001b[39m\u001b[38;5;241m.\u001b[39m_unwrap_value(response\u001b[38;5;241m.\u001b[39mget(\u001b[38;5;124m\"\u001b[39m\u001b[38;5;124mvalue\u001b[39m\u001b[38;5;124m\"\u001b[39m, \u001b[38;5;28;01mNone\u001b[39;00m))\n\u001b[0;32m    350\u001b[0m     \u001b[38;5;28;01mreturn\u001b[39;00m response\n",
      "File \u001b[1;32m~\\AppData\\Local\\Programs\\Python\\Python311\\Lib\\site-packages\\selenium\\webdriver\\remote\\errorhandler.py:229\u001b[0m, in \u001b[0;36mErrorHandler.check_response\u001b[1;34m(self, response)\u001b[0m\n\u001b[0;32m    227\u001b[0m         alert_text \u001b[38;5;241m=\u001b[39m value[\u001b[38;5;124m\"\u001b[39m\u001b[38;5;124malert\u001b[39m\u001b[38;5;124m\"\u001b[39m]\u001b[38;5;241m.\u001b[39mget(\u001b[38;5;124m\"\u001b[39m\u001b[38;5;124mtext\u001b[39m\u001b[38;5;124m\"\u001b[39m)\n\u001b[0;32m    228\u001b[0m     \u001b[38;5;28;01mraise\u001b[39;00m exception_class(message, screen, stacktrace, alert_text)  \u001b[38;5;66;03m# type: ignore[call-arg]  # mypy is not smart enough here\u001b[39;00m\n\u001b[1;32m--> 229\u001b[0m \u001b[38;5;28;01mraise\u001b[39;00m exception_class(message, screen, stacktrace)\n",
      "\u001b[1;31mNoSuchElementException\u001b[0m: Message: no such element: Unable to locate element: {\"method\":\"xpath\",\"selector\":\"//button[@class=\"pill-content page-nav nav-right icon-only\"]\"}\n  (Session info: chrome=121.0.6167.161); For documentation on this error, please visit: https://www.selenium.dev/documentation/webdriver/troubleshooting/errors#no-such-element-exception\nStacktrace:\n\tGetHandleVerifier [0x00007FF7C0FD5E42+3538674]\n\t(No symbol) [0x00007FF7C0BF4C02]\n\t(No symbol) [0x00007FF7C0AA5AEB]\n\t(No symbol) [0x00007FF7C0AEBF4E]\n\t(No symbol) [0x00007FF7C0AEC0CC]\n\t(No symbol) [0x00007FF7C0B2E477]\n\t(No symbol) [0x00007FF7C0B0F0EF]\n\t(No symbol) [0x00007FF7C0B2BDE3]\n\t(No symbol) [0x00007FF7C0B0EE53]\n\t(No symbol) [0x00007FF7C0ADF514]\n\t(No symbol) [0x00007FF7C0AE0631]\n\tGetHandleVerifier [0x00007FF7C1006CAD+3738973]\n\tGetHandleVerifier [0x00007FF7C105C506+4089270]\n\tGetHandleVerifier [0x00007FF7C1054823+4057299]\n\tGetHandleVerifier [0x00007FF7C0D25C49+720121]\n\t(No symbol) [0x00007FF7C0C0126F]\n\t(No symbol) [0x00007FF7C0BFC304]\n\t(No symbol) [0x00007FF7C0BFC432]\n\t(No symbol) [0x00007FF7C0BEBD04]\n\tBaseThreadInitThunk [0x00007FF908937344+20]\n\tRtlUserThreadStart [0x00007FF9091A26B1+33]\n"
     ]
    }
   ],
   "source": [
    "for page in range(0,3):\n",
    "    hstl=dr.find_elements(By.XPATH,'//div[@class=\"property-name\"]/span')\n",
    "    for a in hstl:\n",
    "        hstl_=a.text\n",
    "        hostel_name.append(hstl_)\n",
    "        time.sleep(3)\n",
    "    dst=dr.find_elements(By.XPATH,'//div[@class=\"property-distance\"]/span[2]')\n",
    "    for b in dst:\n",
    "        dist_=b.text\n",
    "        dis_city.append(dist_)\n",
    "        time.sleep(3)\n",
    "    try:\n",
    "        rat=dr.find_elements(By.XPATH,'//div[@class=\"rating-score\"]/span[1]')\n",
    "        for c in rat:\n",
    "            rat_=c.text\n",
    "            rating.append(rat_)\n",
    "            time.sleep(3)\n",
    "    except NoSuchElementException:\n",
    "        rating.append('Data Not Avalaible')\n",
    "    try:\n",
    "        ttl_rv=dr.find_elements(By.XPATH,'//div[@class=\"review\"]/span')\n",
    "        for d in ttl_rv:\n",
    "            t_r=d.text\n",
    "            t_review.append(t_r)\n",
    "            time.sleep(3)\n",
    "    except NoSuchElementException:\n",
    "        t_review.append('Data Not Available')\n",
    "    try:\n",
    "        ovr_rv=dr.find_elements(By.XPATH,'//div[@class=\"property-info-header\"]/div[2]/div/div/span[2]')\n",
    "        for e in ovr_rv:\n",
    "            o_r=e.text\n",
    "            o_review.append(o_r)\n",
    "            time.sleep(3)\n",
    "    except NoSuchElementException:\n",
    "            o_review.append('Data Not Available')\n",
    "    prvtpr=dr.find_elements(By.XPATH,'//div[@class=\"accommodation-price\"]/strong')\n",
    "    for f in prvtpr:\n",
    "            p_pr=f.text\n",
    "            private_price.append(p_pr)\n",
    "            time.sleep(3)\n",
    "    \n",
    "    try:\n",
    "        fclt=dr.find_elements(By.XPATH,'//div[@class=\"badge-wrapper theme-blue-light solo-icon\"]')\n",
    "        for h in fclt:\n",
    "            fclty=h.text\n",
    "            facility.append(fclty)\n",
    "            time.sleep(3)\n",
    "    except NoSuchElementException:\n",
    "        facility.append('Data Not Available')\n",
    "    \n",
    "    pr_nm=dr.find_elements(By.XPATH,'//a[@class=\"property-card-container horizontal\"]')\n",
    "    time.sleep(5)\n",
    "    for i in pr_nm:\n",
    "        p_btn=i.get_attribute('href')\n",
    "        time.sleep(5)\n",
    "        try:\n",
    "            dr.get(p_btn)\n",
    "            drmspr=dr.find_elements(By.XPATH,'//div[@class=\"availability-wrapper page-inner\"]/div[2]/div[2]/div[2]/div/div[2]/div/div/div/div[2]/div[1]')\n",
    "            for g in drmspr:\n",
    "                  \n",
    "                d_pr=g.text\n",
    "                dorms_price.append(d_pr)\n",
    "                time.sleep(3)\n",
    "        except NoSuchElementException:\n",
    "             dorms_price.append('Data Not Available')\n",
    "            \n",
    "            \n",
    "        try:\n",
    "            dr.get(p_btn)\n",
    "            pr_dscr=dr.find_element(By.XPATH,'//div[@class=\"body-3\"]')\n",
    "            for j in pr_dscr:\n",
    "                p_d=j.text\n",
    "                pr_descr.append(p_d)\n",
    "                time.sleep(3)\n",
    "        except NoSuchElementException:\n",
    "             pr_descr.append('Data Not Available')\n",
    "    \n",
    "    nxt_btn=dr.find_element(By.XPATH,'//button[@class=\"pill-content page-nav nav-right icon-only\"]')\n",
    "    nxt_btn.click()\n",
    "    time.sleep(5)"
   ]
  },
  {
   "cell_type": "code",
   "execution_count": null,
   "id": "436c252c",
   "metadata": {},
   "outputs": [],
   "source": [
    "\n",
    "Hostel=pd.DataFrame({})\n",
    "Hostel['Hostel Name']=hostel_name\n",
    "Hostel['Distance from City Centre']=dis_city\n",
    "Hostel['Total Review']=t_review\n",
    "Hostel['Overall Review']=o_review\n",
    "Hostel['Private Form']=private_price\n",
    "Hostel['Dorms Form']=dorms_price\n",
    "Hostel['Facilities']=facility\n",
    "Hostel['Property Descrition']=pr_descr\n",
    "Hostel"
   ]
  },
  {
   "cell_type": "code",
   "execution_count": null,
   "id": "6920a32a",
   "metadata": {},
   "outputs": [],
   "source": []
  }
 ],
 "metadata": {
  "kernelspec": {
   "display_name": "Python 3 (ipykernel)",
   "language": "python",
   "name": "python3"
  },
  "language_info": {
   "codemirror_mode": {
    "name": "ipython",
    "version": 3
   },
   "file_extension": ".py",
   "mimetype": "text/x-python",
   "name": "python",
   "nbconvert_exporter": "python",
   "pygments_lexer": "ipython3",
   "version": "3.11.3"
  }
 },
 "nbformat": 4,
 "nbformat_minor": 5
}
